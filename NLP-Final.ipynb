{
 "cells": [
  {
   "cell_type": "markdown",
   "metadata": {},
   "source": [
    "# Section 1: Create Cleaning Algorithm (Nazzerine)"
   ]
  },
  {
   "cell_type": "code",
   "execution_count": 2,
   "metadata": {},
   "outputs": [],
   "source": [
    "@author Nazzerine Waldon \n",
    "import pandas as pd  \n",
    "import matplotlib.pyplot as plt\n",
    "from bs4 import BeautifulSoup\n",
    "import re\n",
    "import numpy as np\n",
    "from nltk.tokenize import WordPunctTokenizer\n",
    "\n",
    "t = WordPunctTokenizer()\n",
    "\n",
    "#regular expressions to take out links, @ symbols, improper unicode, open contractions, remove BOM\n",
    "pattern_1 = r'@[A-Za-z0-9_]+'\n",
    "pattern_2 = r'https?://[^ ]+'\n",
    "combo = r'|'.join((pattern_1, pattern_2))\n",
    "negs = {\"isn't\":\"is not\", \"aren't\":\"are not\", \"wasn't\":\"was not\", \"weren't\":\"were not\",\n",
    "                \"didn't\":\"did not\", \"can't\":\"can not\",\"couldn't\":\"could not\",\n",
    "                \"haven't\":\"have not\",\"hasn't\":\"has not\",\"hadn't\":\"had not\",\"won't\":\"will not\",\n",
    "                \"wouldn't\":\"would not\", \"don't\":\"do not\", \"doesn't\":\"does not\",\n",
    "                \"shouldn't\":\"should not\",\"mightn't\":\"might not\",\n",
    "                \"mustn't\":\"must not\"}\n",
    "pattern_of_neg = re.compile(r'\\b(' + '|'.join(negs.keys()) + r')\\b')\n",
    "www = r'www.[^ ]+'\n",
    "\n",
    "def clean_tweet(tweet):\n",
    "    #use beautiful soup to convert text to lxml\n",
    "    bs = BeautifulSoup(tweet, 'lxml')\n",
    "    #GET text\n",
    "    bsd = soup.get_text()\n",
    "    \n",
    "    #improper unicode\n",
    "    try:\n",
    "        rem = bsd.decode(\"utf-8-sig\").replace(u\"\\ufffd\", \"?\")\n",
    "    except:\n",
    "        rem = bsd\n",
    "    \n",
    "    bare = re.sub(combo, '', rem)\n",
    "    bare = re.sub(www, '', bare)\n",
    "    small = bare.lower()\n",
    "    neg_done = pattern_of_neg.sub(lambda x: negs[x.group()], small)\n",
    "    letters = re.sub(\"[^a-zA-Z]\", \" \", neg_done)\n",
    "    all_words = [x for x  in t.tokenize(letters) if len(x) > 1]\n",
    "    return (\" \".join(words)).strip()"
   ]
  },
  {
   "cell_type": "markdown",
   "metadata": {},
   "source": [
    "# Section 2: Create candidate datasets"
   ]
  },
  {
   "cell_type": "markdown",
   "metadata": {},
   "source": [
    "## Alabama "
   ]
  },
  {
   "cell_type": "markdown",
   "metadata": {},
   "source": [
    "Kay Ivey"
   ]
  },
  {
   "cell_type": "code",
   "execution_count": null,
   "metadata": {},
   "outputs": [],
   "source": [
    "#MUST HAVE TWITTER API CREDENTIALS TO RUN\n",
    "\n",
    "%env TWITTER=/Users/niw0407/Desktop/twitter-files\n",
    "from nltk.twitter import Twitter\n",
    "tw = Twitter()\n",
    "tw.tweets(keywords=\"kay ivey\", to_screen=False, stream=False)"
   ]
  },
  {
   "cell_type": "code",
   "execution_count": null,
   "metadata": {},
   "outputs": [],
   "source": [
    "from nltk.twitter.common import json2csv\n",
    "with open('/Users/niw0407/twitter-files/tweets.20181129-125338.json') as fp:\n",
    "    json2csv(fp, 'kay ivey.csv', ['text', 'location', ''])"
   ]
  },
  {
   "cell_type": "code",
   "execution_count": 20,
   "metadata": {},
   "outputs": [
    {
     "name": "stdout",
     "output_type": "stream",
     "text": [
      "Tweets cleaned.\n"
     ]
    }
   ],
   "source": [
    "import os\n",
    "import csv\n",
    "clean_tweet_texts = []\n",
    "with open('Kay_Ivey.csv') as csvfile:\n",
    "    readCSV = csv.reader(csvfile, delimiter=',')\n",
    "    i = 0\n",
    "    next(readCSV)\n",
    "    for row in readCSV:\n",
    "        ++i\n",
    "        clean_tweet_texts.append(clean_tweet(str(row)))\n",
    "    print(\"Tweets cleaned.\")"
   ]
  },
  {
   "cell_type": "code",
   "execution_count": 24,
   "metadata": {},
   "outputs": [
    {
     "data": {
      "text/html": [
       "<div>\n",
       "<style scoped>\n",
       "    .dataframe tbody tr th:only-of-type {\n",
       "        vertical-align: middle;\n",
       "    }\n",
       "\n",
       "    .dataframe tbody tr th {\n",
       "        vertical-align: top;\n",
       "    }\n",
       "\n",
       "    .dataframe thead th {\n",
       "        text-align: right;\n",
       "    }\n",
       "</style>\n",
       "<table border=\"1\" class=\"dataframe\">\n",
       "  <thead>\n",
       "    <tr style=\"text-align: right;\">\n",
       "      <th></th>\n",
       "      <th>text</th>\n",
       "    </tr>\n",
       "  </thead>\n",
       "  <tbody>\n",
       "    <tr>\n",
       "      <th>0</th>\n",
       "      <td>rt it is hard to remember that republicans wer...</td>\n",
       "    </tr>\n",
       "    <tr>\n",
       "      <th>1</th>\n",
       "      <td>rt in effort to break drug crime nexus awards ...</td>\n",
       "    </tr>\n",
       "    <tr>\n",
       "      <th>2</th>\n",
       "      <td>in effort to break drug crime nexus awards gra...</td>\n",
       "    </tr>\n",
       "    <tr>\n",
       "      <th>3</th>\n",
       "      <td>rt it is hard to remember that republicans wer...</td>\n",
       "    </tr>\n",
       "    <tr>\n",
       "      <th>4</th>\n",
       "      <td>rt it is hard to remember that republicans wer...</td>\n",
       "    </tr>\n",
       "  </tbody>\n",
       "</table>\n",
       "</div>"
      ],
      "text/plain": [
       "                                                text\n",
       "0  rt it is hard to remember that republicans wer...\n",
       "1  rt in effort to break drug crime nexus awards ...\n",
       "2  in effort to break drug crime nexus awards gra...\n",
       "3  rt it is hard to remember that republicans wer...\n",
       "4  rt it is hard to remember that republicans wer..."
      ]
     },
     "execution_count": 24,
     "metadata": {},
     "output_type": "execute_result"
    }
   ],
   "source": [
    "import pandas as pd\n",
    "clean_df = pd.DataFrame(clean_tweet_texts,columns=['text'])\n",
    "clean_df.to_csv('Kay_Ivey.csv',encoding='utf-8')\n",
    "csv = 'Kay_Ivey.csv'\n",
    "temp = pd.read_csv(csv,index_col=0)\n",
    "temp.head()"
   ]
  },
  {
   "cell_type": "markdown",
   "metadata": {},
   "source": [
    "Walt Maddox"
   ]
  },
  {
   "cell_type": "code",
   "execution_count": null,
   "metadata": {},
   "outputs": [],
   "source": [
    "tw.tweets(keywords=\"walt maddox\", to_screen=False, stream=False)"
   ]
  },
  {
   "cell_type": "code",
   "execution_count": 65,
   "metadata": {},
   "outputs": [],
   "source": [
    "with open('/Users/niw0407/twitter-files/tweets.20181128-162306.json') as fp:\n",
    "    json2csv(fp, 'Walt_Maddox.csv', ['text'])"
   ]
  },
  {
   "cell_type": "code",
   "execution_count": 66,
   "metadata": {},
   "outputs": [
    {
     "name": "stdout",
     "output_type": "stream",
     "text": [
      "Tweets cleaned.\n"
     ]
    }
   ],
   "source": [
    "import os\n",
    "import csv\n",
    "clean_tweet_texts = []\n",
    "with open('Walt_Maddox.csv') as csvfile:\n",
    "    readCSV = csv.reader(csvfile, delimiter=',')\n",
    "    i = 0\n",
    "    next(readCSV)\n",
    "    for row in readCSV:\n",
    "        ++i\n",
    "        clean_tweet_texts.append(clean_tweet(str(row)))\n",
    "    print(\"Tweets cleaned.\")"
   ]
  },
  {
   "cell_type": "code",
   "execution_count": 67,
   "metadata": {},
   "outputs": [
    {
     "data": {
      "text/html": [
       "<div>\n",
       "<style scoped>\n",
       "    .dataframe tbody tr th:only-of-type {\n",
       "        vertical-align: middle;\n",
       "    }\n",
       "\n",
       "    .dataframe tbody tr th {\n",
       "        vertical-align: top;\n",
       "    }\n",
       "\n",
       "    .dataframe thead th {\n",
       "        text-align: right;\n",
       "    }\n",
       "</style>\n",
       "<table border=\"1\" class=\"dataframe\">\n",
       "  <thead>\n",
       "    <tr style=\"text-align: right;\">\n",
       "      <th></th>\n",
       "      <th>text</th>\n",
       "    </tr>\n",
       "  </thead>\n",
       "  <tbody>\n",
       "    <tr>\n",
       "      <th>0</th>\n",
       "      <td>the potential is there though in the governors...</td>\n",
       "    </tr>\n",
       "    <tr>\n",
       "      <th>1</th>\n",
       "      <td>and alabama chose kay ivey over walt maddox ma...</td>\n",
       "    </tr>\n",
       "    <tr>\n",
       "      <th>2</th>\n",
       "      <td>now playing pledging my love by walt maddox</td>\n",
       "    </tr>\n",
       "    <tr>\n",
       "      <th>3</th>\n",
       "      <td>rt mayor walt maddox has seen the city grow dr...</td>\n",
       "    </tr>\n",
       "    <tr>\n",
       "      <th>4</th>\n",
       "      <td>notice of commencement ngrantor walt disney im...</td>\n",
       "    </tr>\n",
       "  </tbody>\n",
       "</table>\n",
       "</div>"
      ],
      "text/plain": [
       "                                                text\n",
       "0  the potential is there though in the governors...\n",
       "1  and alabama chose kay ivey over walt maddox ma...\n",
       "2        now playing pledging my love by walt maddox\n",
       "3  rt mayor walt maddox has seen the city grow dr...\n",
       "4  notice of commencement ngrantor walt disney im..."
      ]
     },
     "execution_count": 67,
     "metadata": {},
     "output_type": "execute_result"
    }
   ],
   "source": [
    "import pandas as pd\n",
    "clean_df = pd.DataFrame(clean_tweet_texts,columns=['text'])\n",
    "clean_df.to_csv('Walt_Maddox.csv',encoding='utf-8')\n",
    "csv = 'Walt_Maddox.csv'\n",
    "temp = pd.read_csv(csv,index_col=0)\n",
    "temp.head()"
   ]
  },
  {
   "cell_type": "markdown",
   "metadata": {},
   "source": [
    "## Alaska"
   ]
  },
  {
   "cell_type": "markdown",
   "metadata": {},
   "source": [
    "Mike Dunleavy"
   ]
  },
  {
   "cell_type": "code",
   "execution_count": null,
   "metadata": {},
   "outputs": [],
   "source": [
    "tw.tweets(keywords=\"mike dunleavy\", to_screen=False, stream=False)"
   ]
  },
  {
   "cell_type": "code",
   "execution_count": 10,
   "metadata": {},
   "outputs": [],
   "source": [
    "with open('/Users/niw0407/twitter-files/tweets.20181128-162420.json') as fp:\n",
    "    json2csv(fp, 'Mike_Dunleavy.csv', ['text'])"
   ]
  },
  {
   "cell_type": "code",
   "execution_count": 27,
   "metadata": {},
   "outputs": [
    {
     "name": "stdout",
     "output_type": "stream",
     "text": [
      "Tweets cleaned.\n"
     ]
    },
    {
     "data": {
      "text/html": [
       "<div>\n",
       "<style scoped>\n",
       "    .dataframe tbody tr th:only-of-type {\n",
       "        vertical-align: middle;\n",
       "    }\n",
       "\n",
       "    .dataframe tbody tr th {\n",
       "        vertical-align: top;\n",
       "    }\n",
       "\n",
       "    .dataframe thead th {\n",
       "        text-align: right;\n",
       "    }\n",
       "</style>\n",
       "<table border=\"1\" class=\"dataframe\">\n",
       "  <thead>\n",
       "    <tr style=\"text-align: right;\">\n",
       "      <th></th>\n",
       "      <th>text</th>\n",
       "    </tr>\n",
       "  </thead>\n",
       "  <tbody>\n",
       "    <tr>\n",
       "      <th>0</th>\n",
       "      <td>rt just as gov bill walker inherited budget fr...</td>\n",
       "    </tr>\n",
       "    <tr>\n",
       "      <th>1</th>\n",
       "      <td>just as gov bill walker inherited budget from ...</td>\n",
       "    </tr>\n",
       "    <tr>\n",
       "      <th>2</th>\n",
       "      <td>the transition team for gov elect mike dunleav...</td>\n",
       "    </tr>\n",
       "    <tr>\n",
       "      <th>3</th>\n",
       "      <td>rt alaska next governor mike dunleavy is getti...</td>\n",
       "    </tr>\n",
       "    <tr>\n",
       "      <th>4</th>\n",
       "      <td>rt the warriors are off to start and fans are ...</td>\n",
       "    </tr>\n",
       "  </tbody>\n",
       "</table>\n",
       "</div>"
      ],
      "text/plain": [
       "                                                text\n",
       "0  rt just as gov bill walker inherited budget fr...\n",
       "1  just as gov bill walker inherited budget from ...\n",
       "2  the transition team for gov elect mike dunleav...\n",
       "3  rt alaska next governor mike dunleavy is getti...\n",
       "4  rt the warriors are off to start and fans are ..."
      ]
     },
     "execution_count": 27,
     "metadata": {},
     "output_type": "execute_result"
    }
   ],
   "source": [
    "import os\n",
    "import csv\n",
    "import pandas as pd\n",
    "clean_tweet_texts = []\n",
    "with open('Mike_Dunleavy.csv') as csvfile:\n",
    "    readCSV = csv.reader(csvfile, delimiter=',')\n",
    "    i = 0\n",
    "    next(readCSV)\n",
    "    for row in readCSV:\n",
    "        ++i\n",
    "        clean_tweet_texts.append(clean_tweet(str(row)))\n",
    "    print(\"Tweets cleaned.\")\n",
    "    \n",
    "clean_df = pd.DataFrame(clean_tweet_texts,columns=['text'])\n",
    "clean_df.to_csv('Mike_Dunleavy.csv',encoding='utf-8')\n",
    "csv = 'Mike_Dunleavy.csv'\n",
    "temp = pd.read_csv(csv,index_col=0)\n",
    "temp.head()"
   ]
  },
  {
   "cell_type": "markdown",
   "metadata": {},
   "source": [
    "Mark Begich"
   ]
  },
  {
   "cell_type": "code",
   "execution_count": null,
   "metadata": {},
   "outputs": [],
   "source": [
    "tw.tweets(keywords=\"mark begich\", to_screen=False, stream=False)"
   ]
  },
  {
   "cell_type": "code",
   "execution_count": 12,
   "metadata": {},
   "outputs": [],
   "source": [
    "with open('/Users/niw0407/twitter-files/tweets.20181128-162507.json') as fp:\n",
    "    json2csv(fp, 'Mark_Begich.csv', ['text'])"
   ]
  },
  {
   "cell_type": "code",
   "execution_count": 28,
   "metadata": {},
   "outputs": [
    {
     "name": "stdout",
     "output_type": "stream",
     "text": [
      "Tweets cleaned.\n"
     ]
    },
    {
     "data": {
      "text/html": [
       "<div>\n",
       "<style scoped>\n",
       "    .dataframe tbody tr th:only-of-type {\n",
       "        vertical-align: middle;\n",
       "    }\n",
       "\n",
       "    .dataframe tbody tr th {\n",
       "        vertical-align: top;\n",
       "    }\n",
       "\n",
       "    .dataframe thead th {\n",
       "        text-align: right;\n",
       "    }\n",
       "</style>\n",
       "<table border=\"1\" class=\"dataframe\">\n",
       "  <thead>\n",
       "    <tr style=\"text-align: right;\">\n",
       "      <th></th>\n",
       "      <th>text</th>\n",
       "    </tr>\n",
       "  </thead>\n",
       "  <tbody>\n",
       "    <tr>\n",
       "      <th>0</th>\n",
       "      <td>reminds me of when mark begich tried photo rad...</td>\n",
       "    </tr>\n",
       "    <tr>\n",
       "      <th>1</th>\n",
       "      <td>dr teller nikola tesla do some research or rea...</td>\n",
       "    </tr>\n",
       "    <tr>\n",
       "      <th>2</th>\n",
       "      <td>rt retweet if you support democrat mark begich...</td>\n",
       "    </tr>\n",
       "    <tr>\n",
       "      <th>3</th>\n",
       "      <td>rt breaking republican mike dunleavy wins race...</td>\n",
       "    </tr>\n",
       "    <tr>\n",
       "      <th>4</th>\n",
       "      <td>mark begich ak nbarbara boxer ca nsam brownbac...</td>\n",
       "    </tr>\n",
       "  </tbody>\n",
       "</table>\n",
       "</div>"
      ],
      "text/plain": [
       "                                                text\n",
       "0  reminds me of when mark begich tried photo rad...\n",
       "1  dr teller nikola tesla do some research or rea...\n",
       "2  rt retweet if you support democrat mark begich...\n",
       "3  rt breaking republican mike dunleavy wins race...\n",
       "4  mark begich ak nbarbara boxer ca nsam brownbac..."
      ]
     },
     "execution_count": 28,
     "metadata": {},
     "output_type": "execute_result"
    }
   ],
   "source": [
    "import os\n",
    "import csv\n",
    "import pandas as pd\n",
    "clean_tweet_texts = []\n",
    "with open('Mark_Begich.csv') as csvfile:\n",
    "    readCSV = csv.reader(csvfile, delimiter=',')\n",
    "    i = 0\n",
    "    next(readCSV)\n",
    "    for row in readCSV:\n",
    "        ++i\n",
    "        clean_tweet_texts.append(clean_tweet(str(row)))\n",
    "    print(\"Tweets cleaned.\")\n",
    "    \n",
    "clean_df = pd.DataFrame(clean_tweet_texts,columns=['text'])\n",
    "clean_df.to_csv('Mark_Begich.csv',encoding='utf-8')\n",
    "csv = 'Mark_Begich.csv'\n",
    "temp = pd.read_csv(csv,index_col=0)\n",
    "temp.head()"
   ]
  },
  {
   "cell_type": "markdown",
   "metadata": {},
   "source": [
    "## Arizona"
   ]
  },
  {
   "cell_type": "markdown",
   "metadata": {},
   "source": [
    "Doug Ducey"
   ]
  },
  {
   "cell_type": "code",
   "execution_count": null,
   "metadata": {},
   "outputs": [],
   "source": [
    "tw.tweets(keywords=\"doug ducey\", to_screen=False, stream=False)"
   ]
  },
  {
   "cell_type": "code",
   "execution_count": 15,
   "metadata": {},
   "outputs": [],
   "source": [
    "with open('/Users/niw0407/twitter-files/tweets.20181128-162620.json') as fp:\n",
    "    json2csv(fp, 'Doug_Ducey.csv', ['text'])"
   ]
  },
  {
   "cell_type": "code",
   "execution_count": 29,
   "metadata": {},
   "outputs": [
    {
     "name": "stdout",
     "output_type": "stream",
     "text": [
      "Tweets cleaned.\n"
     ]
    },
    {
     "data": {
      "text/html": [
       "<div>\n",
       "<style scoped>\n",
       "    .dataframe tbody tr th:only-of-type {\n",
       "        vertical-align: middle;\n",
       "    }\n",
       "\n",
       "    .dataframe tbody tr th {\n",
       "        vertical-align: top;\n",
       "    }\n",
       "\n",
       "    .dataframe thead th {\n",
       "        text-align: right;\n",
       "    }\n",
       "</style>\n",
       "<table border=\"1\" class=\"dataframe\">\n",
       "  <thead>\n",
       "    <tr style=\"text-align: right;\">\n",
       "      <th></th>\n",
       "      <th>text</th>\n",
       "    </tr>\n",
       "  </thead>\n",
       "  <tbody>\n",
       "    <tr>\n",
       "      <th>0</th>\n",
       "      <td>arizona supreme court justice clint bolick lob...</td>\n",
       "    </tr>\n",
       "    <tr>\n",
       "      <th>1</th>\n",
       "      <td>rt so now does clint bolick have to recuse him...</td>\n",
       "    </tr>\n",
       "    <tr>\n",
       "      <th>2</th>\n",
       "      <td>rt so now does clint bolick have to recuse him...</td>\n",
       "    </tr>\n",
       "    <tr>\n",
       "      <th>3</th>\n",
       "      <td>rt opinion why is supreme court justice engage...</td>\n",
       "    </tr>\n",
       "    <tr>\n",
       "      <th>4</th>\n",
       "      <td>rt so now does clint bolick have to recuse him...</td>\n",
       "    </tr>\n",
       "  </tbody>\n",
       "</table>\n",
       "</div>"
      ],
      "text/plain": [
       "                                                text\n",
       "0  arizona supreme court justice clint bolick lob...\n",
       "1  rt so now does clint bolick have to recuse him...\n",
       "2  rt so now does clint bolick have to recuse him...\n",
       "3  rt opinion why is supreme court justice engage...\n",
       "4  rt so now does clint bolick have to recuse him..."
      ]
     },
     "execution_count": 29,
     "metadata": {},
     "output_type": "execute_result"
    }
   ],
   "source": [
    "import os\n",
    "import csv\n",
    "import pandas as pd\n",
    "clean_tweet_texts = []\n",
    "with open('Doug_Ducey.csv') as csvfile:\n",
    "    readCSV = csv.reader(csvfile, delimiter=',')\n",
    "    i = 0\n",
    "    next(readCSV)\n",
    "    for row in readCSV:\n",
    "        ++i\n",
    "        clean_tweet_texts.append(clean_tweet(str(row)))\n",
    "    print(\"Tweets cleaned.\")\n",
    "clean_df = pd.DataFrame(clean_tweet_texts,columns=['text'])\n",
    "clean_df.to_csv('Doug_Ducey.csv',encoding='utf-8')\n",
    "csv = 'Doug_Ducey.csv'\n",
    "temp = pd.read_csv(csv,index_col=0)\n",
    "temp.head()"
   ]
  },
  {
   "cell_type": "markdown",
   "metadata": {},
   "source": [
    "David Garcia"
   ]
  },
  {
   "cell_type": "code",
   "execution_count": null,
   "metadata": {},
   "outputs": [],
   "source": [
    "tw.tweets(keywords=\"david garcia\", to_screen=False, stream=False)"
   ]
  },
  {
   "cell_type": "code",
   "execution_count": 17,
   "metadata": {},
   "outputs": [],
   "source": [
    "with open('/Users/niw0407/twitter-files/tweets.20181128-162740.json') as fp:\n",
    "    json2csv(fp, 'David_Garcia.csv', ['text'])"
   ]
  },
  {
   "cell_type": "code",
   "execution_count": 30,
   "metadata": {},
   "outputs": [
    {
     "name": "stdout",
     "output_type": "stream",
     "text": [
      "Tweets cleaned.\n"
     ]
    },
    {
     "data": {
      "text/html": [
       "<div>\n",
       "<style scoped>\n",
       "    .dataframe tbody tr th:only-of-type {\n",
       "        vertical-align: middle;\n",
       "    }\n",
       "\n",
       "    .dataframe tbody tr th {\n",
       "        vertical-align: top;\n",
       "    }\n",
       "\n",
       "    .dataframe thead th {\n",
       "        text-align: right;\n",
       "    }\n",
       "</style>\n",
       "<table border=\"1\" class=\"dataframe\">\n",
       "  <thead>\n",
       "    <tr style=\"text-align: right;\">\n",
       "      <th></th>\n",
       "      <th>text</th>\n",
       "    </tr>\n",
       "  </thead>\n",
       "  <tbody>\n",
       "    <tr>\n",
       "      <th>0</th>\n",
       "      <td>rt two weeks before israel bombed gaza last ni...</td>\n",
       "    </tr>\n",
       "    <tr>\n",
       "      <th>1</th>\n",
       "      <td>parser webpack config fixes improvements db</td>\n",
       "    </tr>\n",
       "    <tr>\n",
       "      <th>2</th>\n",
       "      <td>parser javascript fixes improvements nfix brok...</td>\n",
       "    </tr>\n",
       "    <tr>\n",
       "      <th>3</th>\n",
       "      <td>rt games goals mls mvp mls all star ndavid vil...</td>\n",
       "    </tr>\n",
       "    <tr>\n",
       "      <th>4</th>\n",
       "      <td>rt from the moment he arrived in david villa e...</td>\n",
       "    </tr>\n",
       "  </tbody>\n",
       "</table>\n",
       "</div>"
      ],
      "text/plain": [
       "                                                text\n",
       "0  rt two weeks before israel bombed gaza last ni...\n",
       "1        parser webpack config fixes improvements db\n",
       "2  parser javascript fixes improvements nfix brok...\n",
       "3  rt games goals mls mvp mls all star ndavid vil...\n",
       "4  rt from the moment he arrived in david villa e..."
      ]
     },
     "execution_count": 30,
     "metadata": {},
     "output_type": "execute_result"
    }
   ],
   "source": [
    "import os\n",
    "import csv\n",
    "import pandas as pd\n",
    "clean_tweet_texts = []\n",
    "with open('David_Garcia.csv') as csvfile:\n",
    "    readCSV = csv.reader(csvfile, delimiter=',')\n",
    "    i = 0\n",
    "    next(readCSV)\n",
    "    for row in readCSV:\n",
    "        ++i\n",
    "        clean_tweet_texts.append(clean_tweets(str(row)))\n",
    "    print(\"Tweets cleaned.\")\n",
    "clean_df = pd.DataFrame(clean_tweet_texts,columns=['text'])\n",
    "clean_df.to_csv('David_Garcia.csv',encoding='utf-8')\n",
    "csv = 'David_Garcia.csv'\n",
    "temp = pd.read_csv(csv,index_col=0)\n",
    "temp.head()"
   ]
  },
  {
   "cell_type": "markdown",
   "metadata": {},
   "source": [
    "## Arkansas"
   ]
  },
  {
   "cell_type": "markdown",
   "metadata": {},
   "source": [
    "Asa Hutchinson"
   ]
  },
  {
   "cell_type": "code",
   "execution_count": null,
   "metadata": {},
   "outputs": [],
   "source": [
    "tw.tweets(keywords=\"asa hutchinson\", to_screen=False, stream=False)"
   ]
  },
  {
   "cell_type": "code",
   "execution_count": 33,
   "metadata": {},
   "outputs": [],
   "source": [
    "from nltk.twitter.common import json2csv\n",
    "with open('/Users/niw0407/twitter-files/tweets.20181128-163250.json') as fp:\n",
    "    json2csv(fp, 'Asa_Hutchinson.csv', ['text'])"
   ]
  },
  {
   "cell_type": "code",
   "execution_count": 34,
   "metadata": {},
   "outputs": [
    {
     "name": "stdout",
     "output_type": "stream",
     "text": [
      "Tweets cleaned.\n"
     ]
    },
    {
     "data": {
      "text/html": [
       "<div>\n",
       "<style scoped>\n",
       "    .dataframe tbody tr th:only-of-type {\n",
       "        vertical-align: middle;\n",
       "    }\n",
       "\n",
       "    .dataframe tbody tr th {\n",
       "        vertical-align: top;\n",
       "    }\n",
       "\n",
       "    .dataframe thead th {\n",
       "        text-align: right;\n",
       "    }\n",
       "</style>\n",
       "<table border=\"1\" class=\"dataframe\">\n",
       "  <thead>\n",
       "    <tr style=\"text-align: right;\">\n",
       "      <th></th>\n",
       "      <th>text</th>\n",
       "    </tr>\n",
       "  </thead>\n",
       "  <tbody>\n",
       "    <tr>\n",
       "      <th>0</th>\n",
       "      <td>and asa is wondering where all the people have...</td>\n",
       "    </tr>\n",
       "    <tr>\n",
       "      <th>1</th>\n",
       "      <td>arkansas governor asa hutchinson has proposed ...</td>\n",
       "    </tr>\n",
       "    <tr>\n",
       "      <th>2</th>\n",
       "      <td>this guy</td>\n",
       "    </tr>\n",
       "    <tr>\n",
       "      <th>3</th>\n",
       "      <td>rt arkansas governor asa hutchinson and others...</td>\n",
       "    </tr>\n",
       "    <tr>\n",
       "      <th>4</th>\n",
       "      <td>you re never too old to start learning and you...</td>\n",
       "    </tr>\n",
       "  </tbody>\n",
       "</table>\n",
       "</div>"
      ],
      "text/plain": [
       "                                                text\n",
       "0  and asa is wondering where all the people have...\n",
       "1  arkansas governor asa hutchinson has proposed ...\n",
       "2                                           this guy\n",
       "3  rt arkansas governor asa hutchinson and others...\n",
       "4  you re never too old to start learning and you..."
      ]
     },
     "execution_count": 34,
     "metadata": {},
     "output_type": "execute_result"
    }
   ],
   "source": [
    "import os\n",
    "import csv\n",
    "import pandas as pd\n",
    "clean_tweet_texts = []\n",
    "with open('Asa_Hutchinson.csv') as csvfile:\n",
    "    readCSV = csv.reader(csvfile, delimiter=',')\n",
    "    i = 0\n",
    "    next(readCSV)\n",
    "    for row in readCSV:\n",
    "        ++i\n",
    "        clean_tweet_texts.append(clean_tweet(str(row)))\n",
    "    print(\"Tweets cleaned.\")\n",
    "clean_df = pd.DataFrame(clean_tweet_texts,columns=['text'])\n",
    "clean_df.to_csv('Asa_Hutchinson.csv',encoding='utf-8')\n",
    "csv = 'Asa_Hutchinson.csv'\n",
    "temp = pd.read_csv(csv,index_col=0)\n",
    "temp.head()"
   ]
  },
  {
   "cell_type": "markdown",
   "metadata": {},
   "source": [
    "Jared Henderson"
   ]
  },
  {
   "cell_type": "code",
   "execution_count": null,
   "metadata": {},
   "outputs": [],
   "source": [
    "tw.tweets(keywords=\"jared henderson\", to_screen=False, stream=False)"
   ]
  },
  {
   "cell_type": "code",
   "execution_count": 35,
   "metadata": {},
   "outputs": [],
   "source": [
    "with open('/Users/niw0407/twitter-files/tweets.20181128-163339.json') as fp:\n",
    "    json2csv(fp, 'Jared_Henderson.csv', ['text'])"
   ]
  },
  {
   "cell_type": "code",
   "execution_count": 36,
   "metadata": {},
   "outputs": [
    {
     "name": "stdout",
     "output_type": "stream",
     "text": [
      "Tweets cleaned.\n"
     ]
    },
    {
     "data": {
      "text/html": [
       "<div>\n",
       "<style scoped>\n",
       "    .dataframe tbody tr th:only-of-type {\n",
       "        vertical-align: middle;\n",
       "    }\n",
       "\n",
       "    .dataframe tbody tr th {\n",
       "        vertical-align: top;\n",
       "    }\n",
       "\n",
       "    .dataframe thead th {\n",
       "        text-align: right;\n",
       "    }\n",
       "</style>\n",
       "<table border=\"1\" class=\"dataframe\">\n",
       "  <thead>\n",
       "    <tr style=\"text-align: right;\">\n",
       "      <th></th>\n",
       "      <th>text</th>\n",
       "    </tr>\n",
       "  </thead>\n",
       "  <tbody>\n",
       "    <tr>\n",
       "      <th>0</th>\n",
       "      <td>rt somehow still in touch henderson needs to c...</td>\n",
       "    </tr>\n",
       "    <tr>\n",
       "      <th>1</th>\n",
       "      <td>it crazy looking back at all the people you us...</td>\n",
       "    </tr>\n",
       "    <tr>\n",
       "      <th>2</th>\n",
       "      <td>wku chapter of alpha epsilon delta aed inducte...</td>\n",
       "    </tr>\n",
       "    <tr>\n",
       "      <th>3</th>\n",
       "      <td>rt rickey henderson career stolen bases compar...</td>\n",
       "    </tr>\n",
       "    <tr>\n",
       "      <th>4</th>\n",
       "      <td>rt favorite sweet memory playing for henderson...</td>\n",
       "    </tr>\n",
       "  </tbody>\n",
       "</table>\n",
       "</div>"
      ],
      "text/plain": [
       "                                                text\n",
       "0  rt somehow still in touch henderson needs to c...\n",
       "1  it crazy looking back at all the people you us...\n",
       "2  wku chapter of alpha epsilon delta aed inducte...\n",
       "3  rt rickey henderson career stolen bases compar...\n",
       "4  rt favorite sweet memory playing for henderson..."
      ]
     },
     "execution_count": 36,
     "metadata": {},
     "output_type": "execute_result"
    }
   ],
   "source": [
    "import os\n",
    "import csv\n",
    "import pandas as pd\n",
    "clean_tweet_texts = []\n",
    "with open('Jared_Henderson.csv') as csvfile:\n",
    "    readCSV = csv.reader(csvfile, delimiter=',')\n",
    "    i = 0\n",
    "    next(readCSV)\n",
    "    for row in readCSV:\n",
    "        ++i\n",
    "        clean_tweet_texts.append(clean_tweet(str(row)))\n",
    "    print(\"Tweets cleaned.\")\n",
    "clean_df = pd.DataFrame(clean_tweet_texts,columns=['text'])\n",
    "clean_df.to_csv('Jared_Henderson.csv',encoding='utf-8')\n",
    "csv = 'Jared_Henderson.csv'\n",
    "temp = pd.read_csv(csv,index_col=0)\n",
    "temp.head()"
   ]
  },
  {
   "cell_type": "markdown",
   "metadata": {},
   "source": [
    "## California"
   ]
  },
  {
   "cell_type": "markdown",
   "metadata": {},
   "source": [
    "Gavin Newsom"
   ]
  },
  {
   "cell_type": "code",
   "execution_count": null,
   "metadata": {},
   "outputs": [],
   "source": [
    "tw.tweets(keywords=\"gavin newsom\", to_screen=False, stream=False)"
   ]
  },
  {
   "cell_type": "code",
   "execution_count": 25,
   "metadata": {},
   "outputs": [],
   "source": [
    "with open('/Users/niw0407/twitter-files/tweets.20181128-163435.json') as fp:\n",
    "    json2csv(fp, 'Gavin_Newsom.csv', ['text'])"
   ]
  },
  {
   "cell_type": "code",
   "execution_count": 37,
   "metadata": {},
   "outputs": [
    {
     "name": "stdout",
     "output_type": "stream",
     "text": [
      "Tweets cleaned.\n"
     ]
    },
    {
     "data": {
      "text/html": [
       "<div>\n",
       "<style scoped>\n",
       "    .dataframe tbody tr th:only-of-type {\n",
       "        vertical-align: middle;\n",
       "    }\n",
       "\n",
       "    .dataframe tbody tr th {\n",
       "        vertical-align: top;\n",
       "    }\n",
       "\n",
       "    .dataframe thead th {\n",
       "        text-align: right;\n",
       "    }\n",
       "</style>\n",
       "<table border=\"1\" class=\"dataframe\">\n",
       "  <thead>\n",
       "    <tr style=\"text-align: right;\">\n",
       "      <th></th>\n",
       "      <th>text</th>\n",
       "    </tr>\n",
       "  </thead>\n",
       "  <tbody>\n",
       "    <tr>\n",
       "      <th>0</th>\n",
       "      <td>tune in to manatt webinar to learn more about ...</td>\n",
       "    </tr>\n",
       "    <tr>\n",
       "      <th>1</th>\n",
       "      <td>rt and it only going to get worse gavin newsom...</td>\n",
       "    </tr>\n",
       "    <tr>\n",
       "      <th>2</th>\n",
       "      <td>rt gavin newsom you ll hear from me on housing...</td>\n",
       "    </tr>\n",
       "    <tr>\n",
       "      <th>3</th>\n",
       "      <td>rt gavin newsom you ll hear from me on housing...</td>\n",
       "    </tr>\n",
       "    <tr>\n",
       "      <th>4</th>\n",
       "      <td>rt fact dreamers can have two misdemeanor conv...</td>\n",
       "    </tr>\n",
       "  </tbody>\n",
       "</table>\n",
       "</div>"
      ],
      "text/plain": [
       "                                                text\n",
       "0  tune in to manatt webinar to learn more about ...\n",
       "1  rt and it only going to get worse gavin newsom...\n",
       "2  rt gavin newsom you ll hear from me on housing...\n",
       "3  rt gavin newsom you ll hear from me on housing...\n",
       "4  rt fact dreamers can have two misdemeanor conv..."
      ]
     },
     "execution_count": 37,
     "metadata": {},
     "output_type": "execute_result"
    }
   ],
   "source": [
    "import os\n",
    "import csv\n",
    "import pandas as pd\n",
    "clean_tweet_texts = []\n",
    "with open('Gavin_Newsom.csv') as csvfile:\n",
    "    readCSV = csv.reader(csvfile, delimiter=',')\n",
    "    i = 0\n",
    "    next(readCSV)\n",
    "    for row in readCSV:\n",
    "        ++i\n",
    "        clean_tweet_texts.append(clean_tweet(str(row)))\n",
    "    print(\"Tweets cleaned.\")\n",
    "clean_df = pd.DataFrame(clean_tweet_texts,columns=['text'])\n",
    "clean_df.to_csv('Gavin_Newsom.csv',encoding='utf-8')\n",
    "csv = 'Gavin_Newsom.csv'\n",
    "temp = pd.read_csv(csv,index_col=0)\n",
    "temp.head()"
   ]
  },
  {
   "cell_type": "markdown",
   "metadata": {},
   "source": [
    "John Cox"
   ]
  },
  {
   "cell_type": "code",
   "execution_count": null,
   "metadata": {},
   "outputs": [],
   "source": [
    "tw.tweets(keywords=\"john cox\", to_screen=False, stream=False)"
   ]
  },
  {
   "cell_type": "code",
   "execution_count": 26,
   "metadata": {},
   "outputs": [],
   "source": [
    "with open('/Users/niw0407/twitter-files/tweets.20181128-163526.json') as fp:\n",
    "    json2csv(fp, 'John_Cox.csv', ['text'])"
   ]
  },
  {
   "cell_type": "code",
   "execution_count": 38,
   "metadata": {},
   "outputs": [
    {
     "name": "stdout",
     "output_type": "stream",
     "text": [
      "Tweets cleaned.\n"
     ]
    },
    {
     "data": {
      "text/html": [
       "<div>\n",
       "<style scoped>\n",
       "    .dataframe tbody tr th:only-of-type {\n",
       "        vertical-align: middle;\n",
       "    }\n",
       "\n",
       "    .dataframe tbody tr th {\n",
       "        vertical-align: top;\n",
       "    }\n",
       "\n",
       "    .dataframe thead th {\n",
       "        text-align: right;\n",
       "    }\n",
       "</style>\n",
       "<table border=\"1\" class=\"dataframe\">\n",
       "  <thead>\n",
       "    <tr style=\"text-align: right;\">\n",
       "      <th></th>\n",
       "      <th>text</th>\n",
       "    </tr>\n",
       "  </thead>\n",
       "  <tbody>\n",
       "    <tr>\n",
       "      <th>0</th>\n",
       "      <td>rt projection cox has defeated rep david valad...</td>\n",
       "    </tr>\n",
       "    <tr>\n",
       "      <th>1</th>\n",
       "      <td>another great evening in with club players ind...</td>\n",
       "    </tr>\n",
       "    <tr>\n",
       "      <th>2</th>\n",
       "      <td>rt cox statement scheduled for monday but now ...</td>\n",
       "    </tr>\n",
       "    <tr>\n",
       "      <th>3</th>\n",
       "      <td>rt cox statement scheduled for monday but now ...</td>\n",
       "    </tr>\n",
       "    <tr>\n",
       "      <th>4</th>\n",
       "      <td>voter fraud was rampant in california that how...</td>\n",
       "    </tr>\n",
       "  </tbody>\n",
       "</table>\n",
       "</div>"
      ],
      "text/plain": [
       "                                                text\n",
       "0  rt projection cox has defeated rep david valad...\n",
       "1  another great evening in with club players ind...\n",
       "2  rt cox statement scheduled for monday but now ...\n",
       "3  rt cox statement scheduled for monday but now ...\n",
       "4  voter fraud was rampant in california that how..."
      ]
     },
     "execution_count": 38,
     "metadata": {},
     "output_type": "execute_result"
    }
   ],
   "source": [
    "import os\n",
    "import csv\n",
    "import pandas as pd\n",
    "clean_tweet_texts = []\n",
    "with open('John_Cox.csv') as csvfile:\n",
    "    readCSV = csv.reader(csvfile, delimiter=',')\n",
    "    i = 0\n",
    "    next(readCSV)\n",
    "    for row in readCSV:\n",
    "        ++i\n",
    "        clean_tweet_texts.append(clean_tweet(str(row)))\n",
    "    print(\"Tweets cleaned.\")\n",
    "clean_df = pd.DataFrame(clean_tweet_texts,columns=['text'])\n",
    "clean_df.to_csv('John_Cox.csv',encoding='utf-8')\n",
    "csv = 'John_Cox.csv'\n",
    "temp = pd.read_csv(csv,index_col=0)\n",
    "temp.head()"
   ]
  },
  {
   "cell_type": "markdown",
   "metadata": {},
   "source": [
    "## Colorado"
   ]
  },
  {
   "cell_type": "markdown",
   "metadata": {},
   "source": [
    "Jared Polls"
   ]
  },
  {
   "cell_type": "code",
   "execution_count": null,
   "metadata": {},
   "outputs": [],
   "source": [
    "tw.tweets(keywords=\"jared polls\", to_screen=False, stream=False)"
   ]
  },
  {
   "cell_type": "code",
   "execution_count": 28,
   "metadata": {},
   "outputs": [],
   "source": [
    "with open('/Users/niw0407/twitter-files/tweets.20181128-165021.json') as fp:\n",
    "    json2csv(fp, 'Jared_Polls.csv', ['text'])"
   ]
  },
  {
   "cell_type": "code",
   "execution_count": 39,
   "metadata": {},
   "outputs": [
    {
     "name": "stdout",
     "output_type": "stream",
     "text": [
      "Tweets cleaned.\n"
     ]
    },
    {
     "data": {
      "text/html": [
       "<div>\n",
       "<style scoped>\n",
       "    .dataframe tbody tr th:only-of-type {\n",
       "        vertical-align: middle;\n",
       "    }\n",
       "\n",
       "    .dataframe tbody tr th {\n",
       "        vertical-align: top;\n",
       "    }\n",
       "\n",
       "    .dataframe thead th {\n",
       "        text-align: right;\n",
       "    }\n",
       "</style>\n",
       "<table border=\"1\" class=\"dataframe\">\n",
       "  <thead>\n",
       "    <tr style=\"text-align: right;\">\n",
       "      <th></th>\n",
       "      <th>text</th>\n",
       "    </tr>\n",
       "  </thead>\n",
       "  <tbody>\n",
       "    <tr>\n",
       "      <th>0</th>\n",
       "      <td>rt saveshadowhunters notourlasthunt vote for s...</td>\n",
       "    </tr>\n",
       "    <tr>\n",
       "      <th>1</th>\n",
       "      <td>rt saveshadowhunters notourlasthunt vote for s...</td>\n",
       "    </tr>\n",
       "    <tr>\n",
       "      <th>2</th>\n",
       "      <td>rt saveshadowhunters notourlasthunt vote for s...</td>\n",
       "    </tr>\n",
       "    <tr>\n",
       "      <th>3</th>\n",
       "      <td>rt saveshadowhunters notourlasthunt vote for s...</td>\n",
       "    </tr>\n",
       "    <tr>\n",
       "      <th>4</th>\n",
       "      <td>rt saveshadowhunters notourlasthunt vote for s...</td>\n",
       "    </tr>\n",
       "  </tbody>\n",
       "</table>\n",
       "</div>"
      ],
      "text/plain": [
       "                                                text\n",
       "0  rt saveshadowhunters notourlasthunt vote for s...\n",
       "1  rt saveshadowhunters notourlasthunt vote for s...\n",
       "2  rt saveshadowhunters notourlasthunt vote for s...\n",
       "3  rt saveshadowhunters notourlasthunt vote for s...\n",
       "4  rt saveshadowhunters notourlasthunt vote for s..."
      ]
     },
     "execution_count": 39,
     "metadata": {},
     "output_type": "execute_result"
    }
   ],
   "source": [
    "import os\n",
    "import csv\n",
    "import pandas as pd\n",
    "clean_tweet_texts = []\n",
    "with open('Jared_Polls.csv') as csvfile:\n",
    "    readCSV = csv.reader(csvfile, delimiter=',')\n",
    "    i = 0\n",
    "    next(readCSV)\n",
    "    for row in readCSV:\n",
    "        ++i\n",
    "        clean_tweet_texts.append(clean_tweet(str(row)))\n",
    "    print(\"Tweets cleaned.\")\n",
    "clean_df = pd.DataFrame(clean_tweet_texts,columns=['text'])\n",
    "clean_df.to_csv('Jared_Polls.csv',encoding='utf-8')\n",
    "csv = 'Jared_Polls.csv'\n",
    "temp = pd.read_csv(csv,index_col=0)\n",
    "temp.head()"
   ]
  },
  {
   "cell_type": "markdown",
   "metadata": {},
   "source": [
    "Walker Stapleton"
   ]
  },
  {
   "cell_type": "code",
   "execution_count": null,
   "metadata": {},
   "outputs": [],
   "source": [
    "tw.tweets(keywords=\"walker stapleton\", to_screen=False, stream=False)"
   ]
  },
  {
   "cell_type": "code",
   "execution_count": 30,
   "metadata": {},
   "outputs": [],
   "source": [
    "with open('/Users/niw0407/twitter-files/tweets.20181128-165106.json') as fp:\n",
    "    json2csv(fp, 'Walker_Stapleton.csv', ['text'])"
   ]
  },
  {
   "cell_type": "code",
   "execution_count": 40,
   "metadata": {},
   "outputs": [
    {
     "name": "stdout",
     "output_type": "stream",
     "text": [
      "Tweets cleaned.\n"
     ]
    },
    {
     "data": {
      "text/html": [
       "<div>\n",
       "<style scoped>\n",
       "    .dataframe tbody tr th:only-of-type {\n",
       "        vertical-align: middle;\n",
       "    }\n",
       "\n",
       "    .dataframe tbody tr th {\n",
       "        vertical-align: top;\n",
       "    }\n",
       "\n",
       "    .dataframe thead th {\n",
       "        text-align: right;\n",
       "    }\n",
       "</style>\n",
       "<table border=\"1\" class=\"dataframe\">\n",
       "  <thead>\n",
       "    <tr style=\"text-align: right;\">\n",
       "      <th></th>\n",
       "      <th>text</th>\n",
       "    </tr>\n",
       "  </thead>\n",
       "  <tbody>\n",
       "    <tr>\n",
       "      <th>0</th>\n",
       "      <td>was referring to elway donating to walker stap...</td>\n",
       "    </tr>\n",
       "    <tr>\n",
       "      <th>1</th>\n",
       "      <td>democrat kkk nrobert byrd nedward douglass whi...</td>\n",
       "    </tr>\n",
       "    <tr>\n",
       "      <th>2</th>\n",
       "      <td>scott walker stapleton is up better from saudi...</td>\n",
       "    </tr>\n",
       "    <tr>\n",
       "      <th>3</th>\n",
       "      <td>case in point newly bearded cogov runner up fi...</td>\n",
       "    </tr>\n",
       "    <tr>\n",
       "      <th>4</th>\n",
       "      <td>walker stapleton was candidate who never seeme...</td>\n",
       "    </tr>\n",
       "  </tbody>\n",
       "</table>\n",
       "</div>"
      ],
      "text/plain": [
       "                                                text\n",
       "0  was referring to elway donating to walker stap...\n",
       "1  democrat kkk nrobert byrd nedward douglass whi...\n",
       "2  scott walker stapleton is up better from saudi...\n",
       "3  case in point newly bearded cogov runner up fi...\n",
       "4  walker stapleton was candidate who never seeme..."
      ]
     },
     "execution_count": 40,
     "metadata": {},
     "output_type": "execute_result"
    }
   ],
   "source": [
    "import os\n",
    "import csv\n",
    "import pandas as pd\n",
    "clean_tweet_texts = []\n",
    "with open('Walker_Stapleton.csv') as csvfile:\n",
    "    readCSV = csv.reader(csvfile, delimiter=',')\n",
    "    i = 0\n",
    "    next(readCSV)\n",
    "    for row in readCSV:\n",
    "        ++i\n",
    "        clean_tweet_texts.append(clean_tweet(str(row)))\n",
    "    print(\"Tweets cleaned.\")\n",
    "clean_df = pd.DataFrame(clean_tweet_texts,columns=['text'])\n",
    "clean_df.to_csv('Walker_Stapleton.csv',encoding='utf-8')\n",
    "csv = 'Walker_Stapleton.csv'\n",
    "temp = pd.read_csv(csv,index_col=0)\n",
    "temp.head()"
   ]
  },
  {
   "cell_type": "markdown",
   "metadata": {},
   "source": [
    "## Connecticut"
   ]
  },
  {
   "cell_type": "markdown",
   "metadata": {},
   "source": [
    "Ned Lamont"
   ]
  },
  {
   "cell_type": "code",
   "execution_count": null,
   "metadata": {},
   "outputs": [],
   "source": [
    "tw.tweets(keywords=\"ned lamont\", to_screen=False, stream=False)"
   ]
  },
  {
   "cell_type": "code",
   "execution_count": 36,
   "metadata": {},
   "outputs": [],
   "source": [
    "with open('/Users/niw0407/twitter-files/tweets.20181128-165214.json') as fp:\n",
    "    json2csv(fp, 'Ned_Lamont.csv', ['text'])"
   ]
  },
  {
   "cell_type": "code",
   "execution_count": 41,
   "metadata": {},
   "outputs": [
    {
     "name": "stdout",
     "output_type": "stream",
     "text": [
      "Tweets cleaned.\n"
     ]
    },
    {
     "data": {
      "text/html": [
       "<div>\n",
       "<style scoped>\n",
       "    .dataframe tbody tr th:only-of-type {\n",
       "        vertical-align: middle;\n",
       "    }\n",
       "\n",
       "    .dataframe tbody tr th {\n",
       "        vertical-align: top;\n",
       "    }\n",
       "\n",
       "    .dataframe thead th {\n",
       "        text-align: right;\n",
       "    }\n",
       "</style>\n",
       "<table border=\"1\" class=\"dataframe\">\n",
       "  <thead>\n",
       "    <tr style=\"text-align: right;\">\n",
       "      <th></th>\n",
       "      <th>text</th>\n",
       "    </tr>\n",
       "  </thead>\n",
       "  <tbody>\n",
       "    <tr>\n",
       "      <th>0</th>\n",
       "      <td>rt the transition team of gov elect ned lamont...</td>\n",
       "    </tr>\n",
       "    <tr>\n",
       "      <th>1</th>\n",
       "      <td>nooyi gave to fellow greenwich resident ned la...</td>\n",
       "    </tr>\n",
       "    <tr>\n",
       "      <th>2</th>\n",
       "      <td>rt ned lamont interested in economic developme...</td>\n",
       "    </tr>\n",
       "    <tr>\n",
       "      <th>3</th>\n",
       "      <td>state venture capital fund selling itself to g...</td>\n",
       "    </tr>\n",
       "    <tr>\n",
       "      <th>4</th>\n",
       "      <td>it something would support and don want the bl...</td>\n",
       "    </tr>\n",
       "  </tbody>\n",
       "</table>\n",
       "</div>"
      ],
      "text/plain": [
       "                                                text\n",
       "0  rt the transition team of gov elect ned lamont...\n",
       "1  nooyi gave to fellow greenwich resident ned la...\n",
       "2  rt ned lamont interested in economic developme...\n",
       "3  state venture capital fund selling itself to g...\n",
       "4  it something would support and don want the bl..."
      ]
     },
     "execution_count": 41,
     "metadata": {},
     "output_type": "execute_result"
    }
   ],
   "source": [
    "import os\n",
    "import csv\n",
    "import pandas as pd\n",
    "clean_tweet_texts = []\n",
    "with open('Ned_Lamont.csv') as csvfile:\n",
    "    readCSV = csv.reader(csvfile, delimiter=',')\n",
    "    i = 0\n",
    "    next(readCSV)\n",
    "    for row in readCSV:\n",
    "        ++i\n",
    "        clean_tweet_texts.append(clean_tweet(str(row)))\n",
    "    print(\"Tweets cleaned.\")\n",
    "clean_df = pd.DataFrame(clean_tweet_texts,columns=['text'])\n",
    "clean_df.to_csv('Ned_Lamont.csv',encoding='utf-8')\n",
    "csv = 'Ned_Lamont.csv'\n",
    "temp = pd.read_csv(csv,index_col=0)\n",
    "temp.head()"
   ]
  },
  {
   "cell_type": "markdown",
   "metadata": {},
   "source": [
    "Bob Stefanowski"
   ]
  },
  {
   "cell_type": "code",
   "execution_count": null,
   "metadata": {},
   "outputs": [],
   "source": [
    "tw.tweets(keywords=\"bob stefanowski\", to_screen=False, stream=False)"
   ]
  },
  {
   "cell_type": "code",
   "execution_count": 37,
   "metadata": {},
   "outputs": [],
   "source": [
    "with open('/Users/niw0407/twitter-files/tweets.20181128-165345.json') as fp:\n",
    "    json2csv(fp, 'Bob_Stefanowski.csv', ['text'])"
   ]
  },
  {
   "cell_type": "code",
   "execution_count": 42,
   "metadata": {},
   "outputs": [
    {
     "name": "stdout",
     "output_type": "stream",
     "text": [
      "Tweets cleaned.\n"
     ]
    },
    {
     "data": {
      "text/html": [
       "<div>\n",
       "<style scoped>\n",
       "    .dataframe tbody tr th:only-of-type {\n",
       "        vertical-align: middle;\n",
       "    }\n",
       "\n",
       "    .dataframe tbody tr th {\n",
       "        vertical-align: top;\n",
       "    }\n",
       "\n",
       "    .dataframe thead th {\n",
       "        text-align: right;\n",
       "    }\n",
       "</style>\n",
       "<table border=\"1\" class=\"dataframe\">\n",
       "  <thead>\n",
       "    <tr style=\"text-align: right;\">\n",
       "      <th></th>\n",
       "      <th>text</th>\n",
       "    </tr>\n",
       "  </thead>\n",
       "  <tbody>\n",
       "    <tr>\n",
       "      <th>0</th>\n",
       "      <td>he was part of bob stefanowski transition team...</td>\n",
       "    </tr>\n",
       "    <tr>\n",
       "      <th>1</th>\n",
       "      <td>bob stefanowski is the talk of the president i...</td>\n",
       "    </tr>\n",
       "    <tr>\n",
       "      <th>2</th>\n",
       "      <td>bob stefanowski is the momentum with</td>\n",
       "    </tr>\n",
       "    <tr>\n",
       "      <th>3</th>\n",
       "      <td>because your tinfoil hat is crooked and you mi...</td>\n",
       "    </tr>\n",
       "    <tr>\n",
       "      <th>4</th>\n",
       "      <td>bob stefanowski is the dnc</td>\n",
       "    </tr>\n",
       "  </tbody>\n",
       "</table>\n",
       "</div>"
      ],
      "text/plain": [
       "                                                text\n",
       "0  he was part of bob stefanowski transition team...\n",
       "1  bob stefanowski is the talk of the president i...\n",
       "2               bob stefanowski is the momentum with\n",
       "3  because your tinfoil hat is crooked and you mi...\n",
       "4                         bob stefanowski is the dnc"
      ]
     },
     "execution_count": 42,
     "metadata": {},
     "output_type": "execute_result"
    }
   ],
   "source": [
    "import os\n",
    "import csv\n",
    "import pandas as pd\n",
    "clean_tweet_texts = []\n",
    "with open('Bob_Stefanowski.csv') as csvfile:\n",
    "    readCSV = csv.reader(csvfile, delimiter=',')\n",
    "    i = 0\n",
    "    next(readCSV)\n",
    "    for row in readCSV:\n",
    "        ++i\n",
    "        clean_tweet_texts.append(clean_tweet(str(row)))\n",
    "    print(\"Tweets cleaned.\")\n",
    "clean_df = pd.DataFrame(clean_tweet_texts,columns=['text'])\n",
    "clean_df.to_csv('Bob_Stefanowski.csv',encoding='utf-8')\n",
    "csv = 'Bob_Stefanowski.csv'\n",
    "temp = pd.read_csv(csv,index_col=0)\n",
    "temp.head()"
   ]
  },
  {
   "cell_type": "markdown",
   "metadata": {},
   "source": [
    "## Florida"
   ]
  },
  {
   "cell_type": "markdown",
   "metadata": {},
   "source": [
    "Ron DeSantis"
   ]
  },
  {
   "cell_type": "code",
   "execution_count": null,
   "metadata": {},
   "outputs": [],
   "source": [
    "tw.tweets(keywords=\"ron desantis\", to_screen=False, stream=False)"
   ]
  },
  {
   "cell_type": "code",
   "execution_count": 38,
   "metadata": {},
   "outputs": [],
   "source": [
    "with open('/Users/niw0407/twitter-files/tweets.20181128-165910.json') as fp:\n",
    "    json2csv(fp, 'Ron_DeSantis.csv', ['text'])"
   ]
  },
  {
   "cell_type": "code",
   "execution_count": 43,
   "metadata": {},
   "outputs": [
    {
     "name": "stdout",
     "output_type": "stream",
     "text": [
      "Tweets cleaned.\n"
     ]
    },
    {
     "data": {
      "text/html": [
       "<div>\n",
       "<style scoped>\n",
       "    .dataframe tbody tr th:only-of-type {\n",
       "        vertical-align: middle;\n",
       "    }\n",
       "\n",
       "    .dataframe tbody tr th {\n",
       "        vertical-align: top;\n",
       "    }\n",
       "\n",
       "    .dataframe thead th {\n",
       "        text-align: right;\n",
       "    }\n",
       "</style>\n",
       "<table border=\"1\" class=\"dataframe\">\n",
       "  <thead>\n",
       "    <tr style=\"text-align: right;\">\n",
       "      <th></th>\n",
       "      <th>text</th>\n",
       "    </tr>\n",
       "  </thead>\n",
       "  <tbody>\n",
       "    <tr>\n",
       "      <th>0</th>\n",
       "      <td>lobbyist brian ballard will chair gov elect ro...</td>\n",
       "    </tr>\n",
       "    <tr>\n",
       "      <th>1</th>\n",
       "      <td>ron desantis showed that have tough fighters a...</td>\n",
       "    </tr>\n",
       "    <tr>\n",
       "      <th>2</th>\n",
       "      <td>nurgent tell governor elect ron desantis that ...</td>\n",
       "    </tr>\n",
       "    <tr>\n",
       "      <th>3</th>\n",
       "      <td>ron desantis has strong family values thank god</td>\n",
       "    </tr>\n",
       "    <tr>\n",
       "      <th>4</th>\n",
       "      <td>rt don forget how badly embarrassed itself in ...</td>\n",
       "    </tr>\n",
       "  </tbody>\n",
       "</table>\n",
       "</div>"
      ],
      "text/plain": [
       "                                                text\n",
       "0  lobbyist brian ballard will chair gov elect ro...\n",
       "1  ron desantis showed that have tough fighters a...\n",
       "2  nurgent tell governor elect ron desantis that ...\n",
       "3    ron desantis has strong family values thank god\n",
       "4  rt don forget how badly embarrassed itself in ..."
      ]
     },
     "execution_count": 43,
     "metadata": {},
     "output_type": "execute_result"
    }
   ],
   "source": [
    "import os\n",
    "import csv\n",
    "import pandas as pd\n",
    "clean_tweet_texts = []\n",
    "with open('Ron_DeSantis.csv') as csvfile:\n",
    "    readCSV = csv.reader(csvfile, delimiter=',')\n",
    "    i = 0\n",
    "    next(readCSV)\n",
    "    for row in readCSV:\n",
    "        ++i\n",
    "        clean_tweet_texts.append(clean_tweet(str(row)))\n",
    "    print(\"Tweets cleaned.\")\n",
    "clean_df = pd.DataFrame(clean_tweet_texts,columns=['text'])\n",
    "clean_df.to_csv('Ron_DeSantis.csv',encoding='utf-8')\n",
    "csv = 'Ron_DeSantis.csv'\n",
    "temp = pd.read_csv(csv,index_col=0)\n",
    "temp.head()"
   ]
  },
  {
   "cell_type": "markdown",
   "metadata": {},
   "source": [
    "Andrew Gillum"
   ]
  },
  {
   "cell_type": "code",
   "execution_count": null,
   "metadata": {},
   "outputs": [],
   "source": [
    "tw.tweets(keywords=\"andrew gillum\", to_screen=False, stream=False)"
   ]
  },
  {
   "cell_type": "code",
   "execution_count": 40,
   "metadata": {},
   "outputs": [],
   "source": [
    "with open('/Users/niw0407/twitter-files/tweets.20181128-170147.json') as fp:\n",
    "    json2csv(fp, 'Andrew_Gillum.csv', ['text'])"
   ]
  },
  {
   "cell_type": "code",
   "execution_count": 44,
   "metadata": {},
   "outputs": [
    {
     "name": "stdout",
     "output_type": "stream",
     "text": [
      "Tweets cleaned.\n"
     ]
    },
    {
     "data": {
      "text/html": [
       "<div>\n",
       "<style scoped>\n",
       "    .dataframe tbody tr th:only-of-type {\n",
       "        vertical-align: middle;\n",
       "    }\n",
       "\n",
       "    .dataframe tbody tr th {\n",
       "        vertical-align: top;\n",
       "    }\n",
       "\n",
       "    .dataframe thead th {\n",
       "        text-align: right;\n",
       "    }\n",
       "</style>\n",
       "<table border=\"1\" class=\"dataframe\">\n",
       "  <thead>\n",
       "    <tr style=\"text-align: right;\">\n",
       "      <th></th>\n",
       "      <th>text</th>\n",
       "    </tr>\n",
       "  </thead>\n",
       "  <tbody>\n",
       "    <tr>\n",
       "      <th>0</th>\n",
       "      <td>rt andrew gillum ends campaign for fla governor</td>\n",
       "    </tr>\n",
       "    <tr>\n",
       "      <th>1</th>\n",
       "      <td>andrew gillum said it best it like wrestling p...</td>\n",
       "    </tr>\n",
       "    <tr>\n",
       "      <th>2</th>\n",
       "      <td>rt there deep rooted racism surrounding beto l...</td>\n",
       "    </tr>\n",
       "    <tr>\n",
       "      <th>3</th>\n",
       "      <td>rt there deep rooted racism surrounding beto l...</td>\n",
       "    </tr>\n",
       "    <tr>\n",
       "      <th>4</th>\n",
       "      <td>andrew gillum stacy abrams beto rourke why is ...</td>\n",
       "    </tr>\n",
       "  </tbody>\n",
       "</table>\n",
       "</div>"
      ],
      "text/plain": [
       "                                                text\n",
       "0    rt andrew gillum ends campaign for fla governor\n",
       "1  andrew gillum said it best it like wrestling p...\n",
       "2  rt there deep rooted racism surrounding beto l...\n",
       "3  rt there deep rooted racism surrounding beto l...\n",
       "4  andrew gillum stacy abrams beto rourke why is ..."
      ]
     },
     "execution_count": 44,
     "metadata": {},
     "output_type": "execute_result"
    }
   ],
   "source": [
    "import os\n",
    "import csv\n",
    "import pandas as pd\n",
    "clean_tweet_texts = []\n",
    "with open('Andrew_Gillum.csv') as csvfile:\n",
    "    readCSV = csv.reader(csvfile, delimiter=',')\n",
    "    i = 0\n",
    "    next(readCSV)\n",
    "    for row in readCSV:\n",
    "        ++i\n",
    "        clean_tweet_texts.append(clean_tweet(str(row)))\n",
    "    print(\"Tweets cleaned.\")\n",
    "clean_df = pd.DataFrame(clean_tweet_texts,columns=['text'])\n",
    "clean_df.to_csv('Andrew_Gillum.csv',encoding='utf-8')\n",
    "csv = 'Andrew_Gillum.csv'\n",
    "temp = pd.read_csv(csv,index_col=0)\n",
    "temp.head()"
   ]
  },
  {
   "cell_type": "markdown",
   "metadata": {},
   "source": [
    "## Georgia"
   ]
  },
  {
   "cell_type": "markdown",
   "metadata": {},
   "source": [
    "Brian Kemp"
   ]
  },
  {
   "cell_type": "code",
   "execution_count": null,
   "metadata": {},
   "outputs": [],
   "source": [
    "tw.tweets(keywords=\"brian kemp\", to_screen=False, stream=False)"
   ]
  },
  {
   "cell_type": "code",
   "execution_count": 42,
   "metadata": {},
   "outputs": [],
   "source": [
    "with open('/Users/niw0407/twitter-files/tweets.20181128-170255.json') as fp:\n",
    "    json2csv(fp, 'Brian_Kemp.csv', ['text'])"
   ]
  },
  {
   "cell_type": "code",
   "execution_count": 45,
   "metadata": {},
   "outputs": [
    {
     "name": "stdout",
     "output_type": "stream",
     "text": [
      "Tweets cleaned.\n"
     ]
    },
    {
     "data": {
      "text/html": [
       "<div>\n",
       "<style scoped>\n",
       "    .dataframe tbody tr th:only-of-type {\n",
       "        vertical-align: middle;\n",
       "    }\n",
       "\n",
       "    .dataframe tbody tr th {\n",
       "        vertical-align: top;\n",
       "    }\n",
       "\n",
       "    .dataframe thead th {\n",
       "        text-align: right;\n",
       "    }\n",
       "</style>\n",
       "<table border=\"1\" class=\"dataframe\">\n",
       "  <thead>\n",
       "    <tr style=\"text-align: right;\">\n",
       "      <th></th>\n",
       "      <th>text</th>\n",
       "    </tr>\n",
       "  </thead>\n",
       "  <tbody>\n",
       "    <tr>\n",
       "      <th>0</th>\n",
       "      <td>rt thank you for leading the charge for reform...</td>\n",
       "    </tr>\n",
       "    <tr>\n",
       "      <th>1</th>\n",
       "      <td>rt thank you for leading the charge for reform...</td>\n",
       "    </tr>\n",
       "    <tr>\n",
       "      <th>2</th>\n",
       "      <td>california is full of voter fraud no cali is b...</td>\n",
       "    </tr>\n",
       "    <tr>\n",
       "      <th>3</th>\n",
       "      <td>rt thank you for leading the charge for reform...</td>\n",
       "    </tr>\n",
       "    <tr>\n",
       "      <th>4</th>\n",
       "      <td>rt thank you for leading the charge for reform...</td>\n",
       "    </tr>\n",
       "  </tbody>\n",
       "</table>\n",
       "</div>"
      ],
      "text/plain": [
       "                                                text\n",
       "0  rt thank you for leading the charge for reform...\n",
       "1  rt thank you for leading the charge for reform...\n",
       "2  california is full of voter fraud no cali is b...\n",
       "3  rt thank you for leading the charge for reform...\n",
       "4  rt thank you for leading the charge for reform..."
      ]
     },
     "execution_count": 45,
     "metadata": {},
     "output_type": "execute_result"
    }
   ],
   "source": [
    "import os\n",
    "import csv\n",
    "import pandas as pd\n",
    "clean_tweet_texts = []\n",
    "with open('Brian_Kemp.csv') as csvfile:\n",
    "    readCSV = csv.reader(csvfile, delimiter=',')\n",
    "    i = 0\n",
    "    next(readCSV)\n",
    "    for row in readCSV:\n",
    "        ++i\n",
    "        clean_tweet_texts.append(clean_tweet(str(row)))\n",
    "    print(\"Tweets cleaned.\")\n",
    "clean_df = pd.DataFrame(clean_tweet_texts,columns=['text'])\n",
    "clean_df.to_csv('Brian_Kemp.csv',encoding='utf-8')\n",
    "csv = 'Brian_Kemp.csv'\n",
    "temp = pd.read_csv(csv,index_col=0)\n",
    "temp.head()"
   ]
  },
  {
   "cell_type": "markdown",
   "metadata": {},
   "source": [
    "Stacey Abrams"
   ]
  },
  {
   "cell_type": "code",
   "execution_count": null,
   "metadata": {},
   "outputs": [],
   "source": [
    "tw.tweets(keywords=\"stacey abrams\", to_screen=False, stream=False)"
   ]
  },
  {
   "cell_type": "code",
   "execution_count": 44,
   "metadata": {},
   "outputs": [],
   "source": [
    "with open('/Users/niw0407/twitter-files/tweets.20181128-170333.json') as fp:\n",
    "    json2csv(fp, 'Stacey_Abrams.csv', ['text'])"
   ]
  },
  {
   "cell_type": "code",
   "execution_count": 46,
   "metadata": {},
   "outputs": [
    {
     "name": "stdout",
     "output_type": "stream",
     "text": [
      "Tweets cleaned.\n"
     ]
    },
    {
     "data": {
      "text/html": [
       "<div>\n",
       "<style scoped>\n",
       "    .dataframe tbody tr th:only-of-type {\n",
       "        vertical-align: middle;\n",
       "    }\n",
       "\n",
       "    .dataframe tbody tr th {\n",
       "        vertical-align: top;\n",
       "    }\n",
       "\n",
       "    .dataframe thead th {\n",
       "        text-align: right;\n",
       "    }\n",
       "</style>\n",
       "<table border=\"1\" class=\"dataframe\">\n",
       "  <thead>\n",
       "    <tr style=\"text-align: right;\">\n",
       "      <th></th>\n",
       "      <th>text</th>\n",
       "    </tr>\n",
       "  </thead>\n",
       "  <tbody>\n",
       "    <tr>\n",
       "      <th>0</th>\n",
       "      <td>rt thank you for leading the charge for reform...</td>\n",
       "    </tr>\n",
       "    <tr>\n",
       "      <th>1</th>\n",
       "      <td>rt stacey abrams allies just sued georgia over...</td>\n",
       "    </tr>\n",
       "    <tr>\n",
       "      <th>2</th>\n",
       "      <td>rt there deep rooted racism surrounding beto l...</td>\n",
       "    </tr>\n",
       "    <tr>\n",
       "      <th>3</th>\n",
       "      <td>rt breaking staceyabrams new voting rights org...</td>\n",
       "    </tr>\n",
       "    <tr>\n",
       "      <th>4</th>\n",
       "      <td>rt thank you for leading the charge for reform...</td>\n",
       "    </tr>\n",
       "  </tbody>\n",
       "</table>\n",
       "</div>"
      ],
      "text/plain": [
       "                                                text\n",
       "0  rt thank you for leading the charge for reform...\n",
       "1  rt stacey abrams allies just sued georgia over...\n",
       "2  rt there deep rooted racism surrounding beto l...\n",
       "3  rt breaking staceyabrams new voting rights org...\n",
       "4  rt thank you for leading the charge for reform..."
      ]
     },
     "execution_count": 46,
     "metadata": {},
     "output_type": "execute_result"
    }
   ],
   "source": [
    "import os\n",
    "import csv\n",
    "import pandas as pd\n",
    "clean_tweet_texts = []\n",
    "with open('Stacey_Abrams.csv') as csvfile:\n",
    "    readCSV = csv.reader(csvfile, delimiter=',')\n",
    "    i = 0\n",
    "    next(readCSV)\n",
    "    for row in readCSV:\n",
    "        ++i\n",
    "        clean_tweet_texts.append(clean_tweet(str(row)))\n",
    "    print(\"Tweets cleaned.\")\n",
    "clean_df = pd.DataFrame(clean_tweet_texts,columns=['text'])\n",
    "clean_df.to_csv('Stacey_Abrams.csv',encoding='utf-8')\n",
    "csv = 'Stacey_Abrams.csv'\n",
    "temp = pd.read_csv(csv,index_col=0)\n",
    "temp.head()"
   ]
  },
  {
   "cell_type": "markdown",
   "metadata": {},
   "source": [
    "## Guam"
   ]
  },
  {
   "cell_type": "markdown",
   "metadata": {},
   "source": [
    "Lourdes Guerrero"
   ]
  },
  {
   "cell_type": "code",
   "execution_count": null,
   "metadata": {},
   "outputs": [],
   "source": [
    "tw.tweets(keywords=\"lourdes guerrero\", to_screen=False, stream=False)"
   ]
  },
  {
   "cell_type": "code",
   "execution_count": 46,
   "metadata": {},
   "outputs": [],
   "source": [
    "with open('/Users/niw0407/twitter-files/tweets.20181128-170445.json') as fp:\n",
    "    json2csv(fp, 'Lourdes_Guerrero.csv', ['text'])"
   ]
  },
  {
   "cell_type": "code",
   "execution_count": 47,
   "metadata": {},
   "outputs": [
    {
     "name": "stdout",
     "output_type": "stream",
     "text": [
      "Tweets cleaned.\n"
     ]
    },
    {
     "data": {
      "text/html": [
       "<div>\n",
       "<style scoped>\n",
       "    .dataframe tbody tr th:only-of-type {\n",
       "        vertical-align: middle;\n",
       "    }\n",
       "\n",
       "    .dataframe tbody tr th {\n",
       "        vertical-align: top;\n",
       "    }\n",
       "\n",
       "    .dataframe thead th {\n",
       "        text-align: right;\n",
       "    }\n",
       "</style>\n",
       "<table border=\"1\" class=\"dataframe\">\n",
       "  <thead>\n",
       "    <tr style=\"text-align: right;\">\n",
       "      <th></th>\n",
       "      <th>text</th>\n",
       "    </tr>\n",
       "  </thead>\n",
       "  <tbody>\n",
       "    <tr>\n",
       "      <th>0</th>\n",
       "      <td>love her story nthe story of lourdes guerrero ...</td>\n",
       "    </tr>\n",
       "    <tr>\n",
       "      <th>1</th>\n",
       "      <td>rt moving aledmys diaz helps ease middle infie...</td>\n",
       "    </tr>\n",
       "    <tr>\n",
       "      <th>2</th>\n",
       "      <td>rt moving aledmys diaz helps ease middle infie...</td>\n",
       "    </tr>\n",
       "    <tr>\n",
       "      <th>3</th>\n",
       "      <td>rt moving aledmys diaz helps ease middle infie...</td>\n",
       "    </tr>\n",
       "  </tbody>\n",
       "</table>\n",
       "</div>"
      ],
      "text/plain": [
       "                                                text\n",
       "0  love her story nthe story of lourdes guerrero ...\n",
       "1  rt moving aledmys diaz helps ease middle infie...\n",
       "2  rt moving aledmys diaz helps ease middle infie...\n",
       "3  rt moving aledmys diaz helps ease middle infie..."
      ]
     },
     "execution_count": 47,
     "metadata": {},
     "output_type": "execute_result"
    }
   ],
   "source": [
    "import os\n",
    "import csv\n",
    "import pandas as pd\n",
    "clean_tweet_texts = []\n",
    "with open('Lourdes_Guerrero.csv') as csvfile:\n",
    "    readCSV = csv.reader(csvfile, delimiter=',')\n",
    "    i = 0\n",
    "    next(readCSV)\n",
    "    for row in readCSV:\n",
    "        ++i\n",
    "        clean_tweet_texts.append(clean_tweet(str(row)))\n",
    "    print(\"Tweets cleaned.\")\n",
    "clean_df = pd.DataFrame(clean_tweet_texts,columns=['text'])\n",
    "clean_df.to_csv('Lourdes_Guerrero.csv',encoding='utf-8')\n",
    "csv = 'Lourdes_Guerrero.csv'\n",
    "temp = pd.read_csv(csv,index_col=0)\n",
    "temp.head()"
   ]
  },
  {
   "cell_type": "markdown",
   "metadata": {},
   "source": [
    "Ray Tenorio"
   ]
  },
  {
   "cell_type": "code",
   "execution_count": null,
   "metadata": {},
   "outputs": [],
   "source": [
    "tw.tweets(keywords=\"ray tenorio\", to_screen=False, stream=False)"
   ]
  },
  {
   "cell_type": "code",
   "execution_count": 48,
   "metadata": {},
   "outputs": [],
   "source": [
    "with open('/Users/niw0407/twitter-files/tweets.20181128-170545.json') as fp:\n",
    "    json2csv(fp, 'Ray_Tenorio.csv', ['text'])"
   ]
  },
  {
   "cell_type": "code",
   "execution_count": 48,
   "metadata": {},
   "outputs": [
    {
     "name": "stdout",
     "output_type": "stream",
     "text": [
      "Tweets cleaned.\n"
     ]
    },
    {
     "data": {
      "text/html": [
       "<div>\n",
       "<style scoped>\n",
       "    .dataframe tbody tr th:only-of-type {\n",
       "        vertical-align: middle;\n",
       "    }\n",
       "\n",
       "    .dataframe tbody tr th {\n",
       "        vertical-align: top;\n",
       "    }\n",
       "\n",
       "    .dataframe thead th {\n",
       "        text-align: right;\n",
       "    }\n",
       "</style>\n",
       "<table border=\"1\" class=\"dataframe\">\n",
       "  <thead>\n",
       "    <tr style=\"text-align: right;\">\n",
       "      <th></th>\n",
       "      <th>text</th>\n",
       "    </tr>\n",
       "  </thead>\n",
       "  <tbody>\n",
       "    <tr>\n",
       "      <th>0</th>\n",
       "      <td>statement from lt governor ray tenorio tony an...</td>\n",
       "    </tr>\n",
       "  </tbody>\n",
       "</table>\n",
       "</div>"
      ],
      "text/plain": [
       "                                                text\n",
       "0  statement from lt governor ray tenorio tony an..."
      ]
     },
     "execution_count": 48,
     "metadata": {},
     "output_type": "execute_result"
    }
   ],
   "source": [
    "import os\n",
    "import csv\n",
    "import pandas as pd\n",
    "clean_tweet_texts = []\n",
    "with open('Ray_Tenorio.csv') as csvfile:\n",
    "    readCSV = csv.reader(csvfile, delimiter=',')\n",
    "    i = 0\n",
    "    next(readCSV)\n",
    "    for row in readCSV:\n",
    "        ++i\n",
    "        clean_tweet_texts.append(clean_tweet(str(row)))\n",
    "    print(\"Tweets cleaned.\")\n",
    "clean_df = pd.DataFrame(clean_tweet_texts,columns=['text'])\n",
    "clean_df.to_csv('Ray_Tenorio.csv',encoding='utf-8')\n",
    "csv = 'Ray_Tenorio.csv'\n",
    "temp = pd.read_csv(csv,index_col=0)\n",
    "temp.head()"
   ]
  },
  {
   "cell_type": "markdown",
   "metadata": {},
   "source": [
    "## Hawaii"
   ]
  },
  {
   "cell_type": "markdown",
   "metadata": {},
   "source": [
    "David Ige"
   ]
  },
  {
   "cell_type": "code",
   "execution_count": null,
   "metadata": {},
   "outputs": [],
   "source": [
    "tw.tweets(keywords=\"david ige\", to_screen=False, stream=False)"
   ]
  },
  {
   "cell_type": "code",
   "execution_count": 50,
   "metadata": {},
   "outputs": [],
   "source": [
    "with open('/Users/niw0407/twitter-files/tweets.20181128-171308.json') as fp:\n",
    "    json2csv(fp, 'David_Ige.csv', ['text'])"
   ]
  },
  {
   "cell_type": "code",
   "execution_count": 49,
   "metadata": {},
   "outputs": [
    {
     "name": "stdout",
     "output_type": "stream",
     "text": [
      "Tweets cleaned.\n"
     ]
    },
    {
     "data": {
      "text/html": [
       "<div>\n",
       "<style scoped>\n",
       "    .dataframe tbody tr th:only-of-type {\n",
       "        vertical-align: middle;\n",
       "    }\n",
       "\n",
       "    .dataframe tbody tr th {\n",
       "        vertical-align: top;\n",
       "    }\n",
       "\n",
       "    .dataframe thead th {\n",
       "        text-align: right;\n",
       "    }\n",
       "</style>\n",
       "<table border=\"1\" class=\"dataframe\">\n",
       "  <thead>\n",
       "    <tr style=\"text-align: right;\">\n",
       "      <th></th>\n",
       "      <th>text</th>\n",
       "    </tr>\n",
       "  </thead>\n",
       "  <tbody>\n",
       "    <tr>\n",
       "      <th>0</th>\n",
       "      <td>rt ige used to write that he led an army of yo...</td>\n",
       "    </tr>\n",
       "    <tr>\n",
       "      <th>1</th>\n",
       "      <td>hawaii governor david ige on buddhism and poli...</td>\n",
       "    </tr>\n",
       "    <tr>\n",
       "      <th>2</th>\n",
       "      <td>ige used to write that he led an army of young...</td>\n",
       "    </tr>\n",
       "    <tr>\n",
       "      <th>3</th>\n",
       "      <td>great read</td>\n",
       "    </tr>\n",
       "    <tr>\n",
       "      <th>4</th>\n",
       "      <td>hawaii governor david ige on buddhism and poli...</td>\n",
       "    </tr>\n",
       "  </tbody>\n",
       "</table>\n",
       "</div>"
      ],
      "text/plain": [
       "                                                text\n",
       "0  rt ige used to write that he led an army of yo...\n",
       "1  hawaii governor david ige on buddhism and poli...\n",
       "2  ige used to write that he led an army of young...\n",
       "3                                         great read\n",
       "4  hawaii governor david ige on buddhism and poli..."
      ]
     },
     "execution_count": 49,
     "metadata": {},
     "output_type": "execute_result"
    }
   ],
   "source": [
    "import os\n",
    "import csv\n",
    "import pandas as pd\n",
    "clean_tweet_texts = []\n",
    "with open('David_Ige.csv') as csvfile:\n",
    "    readCSV = csv.reader(csvfile, delimiter=',')\n",
    "    i = 0\n",
    "    next(readCSV)\n",
    "    for row in readCSV:\n",
    "        ++i\n",
    "        clean_tweet_texts.append(clean_tweet(str(row)))\n",
    "    print(\"Tweets cleaned.\")\n",
    "clean_df = pd.DataFrame(clean_tweet_texts,columns=['text'])\n",
    "clean_df.to_csv('David_Ige.csv',encoding='utf-8')\n",
    "csv = 'David_Ige.csv'\n",
    "temp = pd.read_csv(csv,index_col=0)\n",
    "temp.head()"
   ]
  },
  {
   "cell_type": "markdown",
   "metadata": {},
   "source": [
    "Andria Tupola"
   ]
  },
  {
   "cell_type": "code",
   "execution_count": null,
   "metadata": {},
   "outputs": [],
   "source": [
    "tw.tweets(keywords=\"andria tupola\", to_screen=False, stream=False)"
   ]
  },
  {
   "cell_type": "code",
   "execution_count": 52,
   "metadata": {},
   "outputs": [],
   "source": [
    "with open('/Users/niw0407/twitter-files/tweets.20181128-171357.json') as fp:\n",
    "    json2csv(fp, 'Andria_Tupola.csv', ['text'])"
   ]
  },
  {
   "cell_type": "code",
   "execution_count": 51,
   "metadata": {},
   "outputs": [
    {
     "name": "stdout",
     "output_type": "stream",
     "text": [
      "Tweets cleaned.\n"
     ]
    },
    {
     "data": {
      "text/html": [
       "<div>\n",
       "<style scoped>\n",
       "    .dataframe tbody tr th:only-of-type {\n",
       "        vertical-align: middle;\n",
       "    }\n",
       "\n",
       "    .dataframe tbody tr th {\n",
       "        vertical-align: top;\n",
       "    }\n",
       "\n",
       "    .dataframe thead th {\n",
       "        text-align: right;\n",
       "    }\n",
       "</style>\n",
       "<table border=\"1\" class=\"dataframe\">\n",
       "  <thead>\n",
       "    <tr style=\"text-align: right;\">\n",
       "      <th></th>\n",
       "      <th>text</th>\n",
       "    </tr>\n",
       "  </thead>\n",
       "  <tbody>\n",
       "    <tr>\n",
       "      <th>0</th>\n",
       "      <td>the best part of my day was listening to kaui ...</td>\n",
       "    </tr>\n",
       "    <tr>\n",
       "      <th>1</th>\n",
       "      <td>opportunity for samoa to open facility samoa d...</td>\n",
       "    </tr>\n",
       "    <tr>\n",
       "      <th>2</th>\n",
       "      <td>map of the oahu precincts won by andria tupola...</td>\n",
       "    </tr>\n",
       "  </tbody>\n",
       "</table>\n",
       "</div>"
      ],
      "text/plain": [
       "                                                text\n",
       "0  the best part of my day was listening to kaui ...\n",
       "1  opportunity for samoa to open facility samoa d...\n",
       "2  map of the oahu precincts won by andria tupola..."
      ]
     },
     "execution_count": 51,
     "metadata": {},
     "output_type": "execute_result"
    }
   ],
   "source": [
    "import os\n",
    "import csv\n",
    "import pandas as pd\n",
    "clean_tweet_texts = []\n",
    "with open('Andria_Tupola.csv') as csvfile:\n",
    "    readCSV = csv.reader(csvfile, delimiter=',')\n",
    "    i = 0\n",
    "    next(readCSV)\n",
    "    for row in readCSV:\n",
    "        ++i\n",
    "        clean_tweet_texts.append(clean_tweet(str(row)))\n",
    "    print(\"Tweets cleaned.\")\n",
    "clean_df = pd.DataFrame(clean_tweet_texts,columns=['text'])\n",
    "clean_df.to_csv('Andria_Tupola.csv',encoding='utf-8')\n",
    "csv = 'Andria_Tupola.csv'\n",
    "temp = pd.read_csv(csv,index_col=0)\n",
    "temp.head()"
   ]
  },
  {
   "cell_type": "markdown",
   "metadata": {},
   "source": [
    "## Idaho"
   ]
  },
  {
   "cell_type": "markdown",
   "metadata": {},
   "source": [
    "Brad Little"
   ]
  },
  {
   "cell_type": "code",
   "execution_count": null,
   "metadata": {},
   "outputs": [],
   "source": [
    "tw.tweets(keywords=\"brad little\", to_screen=False, stream=False)"
   ]
  },
  {
   "cell_type": "code",
   "execution_count": 54,
   "metadata": {},
   "outputs": [],
   "source": [
    "with open('/Users/niw0407/twitter-files/tweets.20181128-171452.json') as fp:\n",
    "    json2csv(fp, 'Brad_Little.csv', ['text'])"
   ]
  },
  {
   "cell_type": "code",
   "execution_count": 52,
   "metadata": {},
   "outputs": [
    {
     "name": "stdout",
     "output_type": "stream",
     "text": [
      "Tweets cleaned.\n"
     ]
    },
    {
     "data": {
      "text/html": [
       "<div>\n",
       "<style scoped>\n",
       "    .dataframe tbody tr th:only-of-type {\n",
       "        vertical-align: middle;\n",
       "    }\n",
       "\n",
       "    .dataframe tbody tr th {\n",
       "        vertical-align: top;\n",
       "    }\n",
       "\n",
       "    .dataframe thead th {\n",
       "        text-align: right;\n",
       "    }\n",
       "</style>\n",
       "<table border=\"1\" class=\"dataframe\">\n",
       "  <thead>\n",
       "    <tr style=\"text-align: right;\">\n",
       "      <th></th>\n",
       "      <th>text</th>\n",
       "    </tr>\n",
       "  </thead>\n",
       "  <tbody>\n",
       "    <tr>\n",
       "      <th>0</th>\n",
       "      <td>this will drive fans crazy nwhat they should d...</td>\n",
       "    </tr>\n",
       "    <tr>\n",
       "      <th>1</th>\n",
       "      <td>just little reminder love brad simpson more th...</td>\n",
       "    </tr>\n",
       "    <tr>\n",
       "      <th>2</th>\n",
       "      <td>right of centre covers lot of ground maajid nn...</td>\n",
       "    </tr>\n",
       "    <tr>\n",
       "      <th>3</th>\n",
       "      <td>some man for one man brad connell biggest punc...</td>\n",
       "    </tr>\n",
       "    <tr>\n",
       "      <th>4</th>\n",
       "      <td>looks like brad skipped tea having little nibb...</td>\n",
       "    </tr>\n",
       "  </tbody>\n",
       "</table>\n",
       "</div>"
      ],
      "text/plain": [
       "                                                text\n",
       "0  this will drive fans crazy nwhat they should d...\n",
       "1  just little reminder love brad simpson more th...\n",
       "2  right of centre covers lot of ground maajid nn...\n",
       "3  some man for one man brad connell biggest punc...\n",
       "4  looks like brad skipped tea having little nibb..."
      ]
     },
     "execution_count": 52,
     "metadata": {},
     "output_type": "execute_result"
    }
   ],
   "source": [
    "import os\n",
    "import csv\n",
    "import pandas as pd\n",
    "clean_tweet_texts = []\n",
    "with open('Brad_Little.csv') as csvfile:\n",
    "    readCSV = csv.reader(csvfile, delimiter=',')\n",
    "    i = 0\n",
    "    next(readCSV)\n",
    "    for row in readCSV:\n",
    "        ++i\n",
    "        clean_tweet_texts.append(clean_tweet(str(row)))\n",
    "    print(\"Tweets cleaned.\")\n",
    "clean_df = pd.DataFrame(clean_tweet_texts,columns=['text'])\n",
    "clean_df.to_csv('Brad_Little.csv',encoding='utf-8')\n",
    "csv = 'Brad_Little.csv'\n",
    "temp = pd.read_csv(csv,index_col=0)\n",
    "temp.head()"
   ]
  },
  {
   "cell_type": "markdown",
   "metadata": {},
   "source": [
    "Paulette Jordan"
   ]
  },
  {
   "cell_type": "code",
   "execution_count": null,
   "metadata": {},
   "outputs": [],
   "source": [
    "tw.tweets(keywords=\"paulette jordan\", to_screen=False, stream=False)"
   ]
  },
  {
   "cell_type": "code",
   "execution_count": 6,
   "metadata": {},
   "outputs": [],
   "source": [
    "with open('/Users/niw0407/twitter-files/tweets.20181129-125351.json') as fp:\n",
    "    json2csv(fp, 'Paulette_Jordan.csv', ['text'])"
   ]
  },
  {
   "cell_type": "code",
   "execution_count": 53,
   "metadata": {},
   "outputs": [
    {
     "name": "stdout",
     "output_type": "stream",
     "text": [
      "Tweets cleaned.\n"
     ]
    },
    {
     "data": {
      "text/html": [
       "<div>\n",
       "<style scoped>\n",
       "    .dataframe tbody tr th:only-of-type {\n",
       "        vertical-align: middle;\n",
       "    }\n",
       "\n",
       "    .dataframe tbody tr th {\n",
       "        vertical-align: top;\n",
       "    }\n",
       "\n",
       "    .dataframe thead th {\n",
       "        text-align: right;\n",
       "    }\n",
       "</style>\n",
       "<table border=\"1\" class=\"dataframe\">\n",
       "  <thead>\n",
       "    <tr style=\"text-align: right;\">\n",
       "      <th></th>\n",
       "      <th>text</th>\n",
       "    </tr>\n",
       "  </thead>\n",
       "  <tbody>\n",
       "    <tr>\n",
       "      <th>0</th>\n",
       "      <td>one benewah county precinct had turnout with b...</td>\n",
       "    </tr>\n",
       "    <tr>\n",
       "      <th>1</th>\n",
       "      <td>love bernie and still support him but at the s...</td>\n",
       "    </tr>\n",
       "    <tr>\n",
       "      <th>2</th>\n",
       "      <td>precinct map of north idaho that displays paul...</td>\n",
       "    </tr>\n",
       "    <tr>\n",
       "      <th>3</th>\n",
       "      <td>wish paulette jordan had won but always next t...</td>\n",
       "    </tr>\n",
       "    <tr>\n",
       "      <th>4</th>\n",
       "      <td>paulette jordan and anybody who heritage makes...</td>\n",
       "    </tr>\n",
       "  </tbody>\n",
       "</table>\n",
       "</div>"
      ],
      "text/plain": [
       "                                                text\n",
       "0  one benewah county precinct had turnout with b...\n",
       "1  love bernie and still support him but at the s...\n",
       "2  precinct map of north idaho that displays paul...\n",
       "3  wish paulette jordan had won but always next t...\n",
       "4  paulette jordan and anybody who heritage makes..."
      ]
     },
     "execution_count": 53,
     "metadata": {},
     "output_type": "execute_result"
    }
   ],
   "source": [
    "import os\n",
    "import csv\n",
    "import pandas as pd\n",
    "clean_tweet_texts = []\n",
    "with open('Paulette_Jordan.csv') as csvfile:\n",
    "    readCSV = csv.reader(csvfile, delimiter=',')\n",
    "    i = 0\n",
    "    next(readCSV)\n",
    "    for row in readCSV:\n",
    "        ++i\n",
    "        clean_tweet_texts.append(clean_tweet(str(row)))\n",
    "    print(\"Tweets cleaned.\")\n",
    "clean_df = pd.DataFrame(clean_tweet_texts,columns=['text'])\n",
    "clean_df.to_csv('Paulette_Jordan.csv',encoding='utf-8')\n",
    "csv = 'Paulette_Jordan.csv'\n",
    "temp = pd.read_csv(csv,index_col=0)\n",
    "temp.head()"
   ]
  },
  {
   "cell_type": "markdown",
   "metadata": {},
   "source": [
    "## Illinois"
   ]
  },
  {
   "cell_type": "markdown",
   "metadata": {},
   "source": [
    "J. B. Pritzker"
   ]
  },
  {
   "cell_type": "code",
   "execution_count": null,
   "metadata": {},
   "outputs": [],
   "source": [
    "tw.tweets(keywords=\"j. b. pritzker, jb pritzker\", to_screen=False, stream=False)"
   ]
  },
  {
   "cell_type": "code",
   "execution_count": 8,
   "metadata": {},
   "outputs": [],
   "source": [
    "with open('/Users/niw0407/twitter-files/tweets.20181129-125646.json') as fp:\n",
    "    json2csv(fp, 'J_B_Pritzker.csv', ['text'])"
   ]
  },
  {
   "cell_type": "code",
   "execution_count": 54,
   "metadata": {},
   "outputs": [
    {
     "name": "stdout",
     "output_type": "stream",
     "text": [
      "Tweets cleaned.\n"
     ]
    },
    {
     "data": {
      "text/html": [
       "<div>\n",
       "<style scoped>\n",
       "    .dataframe tbody tr th:only-of-type {\n",
       "        vertical-align: middle;\n",
       "    }\n",
       "\n",
       "    .dataframe tbody tr th {\n",
       "        vertical-align: top;\n",
       "    }\n",
       "\n",
       "    .dataframe thead th {\n",
       "        text-align: right;\n",
       "    }\n",
       "</style>\n",
       "<table border=\"1\" class=\"dataframe\">\n",
       "  <thead>\n",
       "    <tr style=\"text-align: right;\">\n",
       "      <th></th>\n",
       "      <th>text</th>\n",
       "    </tr>\n",
       "  </thead>\n",
       "  <tbody>\n",
       "    <tr>\n",
       "      <th>0</th>\n",
       "      <td>rt gov elect pritzker has tapped member educat...</td>\n",
       "    </tr>\n",
       "    <tr>\n",
       "      <th>1</th>\n",
       "      <td>rt gov elect pritzker has tapped member educat...</td>\n",
       "    </tr>\n",
       "    <tr>\n",
       "      <th>2</th>\n",
       "      <td>rt gov elect pritzker has tapped member educat...</td>\n",
       "    </tr>\n",
       "    <tr>\n",
       "      <th>3</th>\n",
       "      <td>rt gov elect pritzker has tapped member educat...</td>\n",
       "    </tr>\n",
       "    <tr>\n",
       "      <th>4</th>\n",
       "      <td>rt gov elect pritzker has tapped member educat...</td>\n",
       "    </tr>\n",
       "  </tbody>\n",
       "</table>\n",
       "</div>"
      ],
      "text/plain": [
       "                                                text\n",
       "0  rt gov elect pritzker has tapped member educat...\n",
       "1  rt gov elect pritzker has tapped member educat...\n",
       "2  rt gov elect pritzker has tapped member educat...\n",
       "3  rt gov elect pritzker has tapped member educat...\n",
       "4  rt gov elect pritzker has tapped member educat..."
      ]
     },
     "execution_count": 54,
     "metadata": {},
     "output_type": "execute_result"
    }
   ],
   "source": [
    "import os\n",
    "import csv\n",
    "import pandas as pd\n",
    "clean_tweet_texts = []\n",
    "with open('J_B_Pritzker.csv') as csvfile:\n",
    "    readCSV = csv.reader(csvfile, delimiter=',')\n",
    "    i = 0\n",
    "    next(readCSV)\n",
    "    for row in readCSV:\n",
    "        ++i\n",
    "        clean_tweet_texts.append(clean_tweet(str(row)))\n",
    "    print(\"Tweets cleaned.\")\n",
    "clean_df = pd.DataFrame(clean_tweet_texts,columns=['text'])\n",
    "clean_df.to_csv('J_B_Pritzker.csv',encoding='utf-8')\n",
    "csv = 'J_B_Pritzker.csv'\n",
    "temp = pd.read_csv(csv,index_col=0)\n",
    "temp.head()"
   ]
  },
  {
   "cell_type": "markdown",
   "metadata": {},
   "source": [
    "Bruce Rauner"
   ]
  },
  {
   "cell_type": "code",
   "execution_count": null,
   "metadata": {},
   "outputs": [],
   "source": [
    "tw.tweets(keywords=\"bruce rauner\", to_screen=False, stream=False)"
   ]
  },
  {
   "cell_type": "code",
   "execution_count": 10,
   "metadata": {},
   "outputs": [],
   "source": [
    "with open('/Users/niw0407/twitter-files/tweets.20181129-125735.json') as fp:\n",
    "    json2csv(fp, 'Bruce_Rauner.csv', ['text'])"
   ]
  },
  {
   "cell_type": "code",
   "execution_count": 55,
   "metadata": {},
   "outputs": [
    {
     "name": "stdout",
     "output_type": "stream",
     "text": [
      "Tweets cleaned.\n"
     ]
    },
    {
     "data": {
      "text/html": [
       "<div>\n",
       "<style scoped>\n",
       "    .dataframe tbody tr th:only-of-type {\n",
       "        vertical-align: middle;\n",
       "    }\n",
       "\n",
       "    .dataframe tbody tr th {\n",
       "        vertical-align: top;\n",
       "    }\n",
       "\n",
       "    .dataframe thead th {\n",
       "        text-align: right;\n",
       "    }\n",
       "</style>\n",
       "<table border=\"1\" class=\"dataframe\">\n",
       "  <thead>\n",
       "    <tr style=\"text-align: right;\">\n",
       "      <th></th>\n",
       "      <th>text</th>\n",
       "    </tr>\n",
       "  </thead>\n",
       "  <tbody>\n",
       "    <tr>\n",
       "      <th>0</th>\n",
       "      <td>illinois lawmakers failed wednesday to reverse...</td>\n",
       "    </tr>\n",
       "    <tr>\n",
       "      <th>1</th>\n",
       "      <td>rt the illinois legislature has approved the s...</td>\n",
       "    </tr>\n",
       "    <tr>\n",
       "      <th>2</th>\n",
       "      <td>rt the illinois legislature has approved the s...</td>\n",
       "    </tr>\n",
       "    <tr>\n",
       "      <th>3</th>\n",
       "      <td>sad win for addiction illinois lawmakers do no...</td>\n",
       "    </tr>\n",
       "    <tr>\n",
       "      <th>4</th>\n",
       "      <td>rt governors who attacked and crippled unions ...</td>\n",
       "    </tr>\n",
       "  </tbody>\n",
       "</table>\n",
       "</div>"
      ],
      "text/plain": [
       "                                                text\n",
       "0  illinois lawmakers failed wednesday to reverse...\n",
       "1  rt the illinois legislature has approved the s...\n",
       "2  rt the illinois legislature has approved the s...\n",
       "3  sad win for addiction illinois lawmakers do no...\n",
       "4  rt governors who attacked and crippled unions ..."
      ]
     },
     "execution_count": 55,
     "metadata": {},
     "output_type": "execute_result"
    }
   ],
   "source": [
    "import os\n",
    "import csv\n",
    "import pandas as pd\n",
    "clean_tweet_texts = []\n",
    "with open('Bruce_Rauner.csv') as csvfile:\n",
    "    readCSV = csv.reader(csvfile, delimiter=',')\n",
    "    i = 0\n",
    "    next(readCSV)\n",
    "    for row in readCSV:\n",
    "        ++i\n",
    "        clean_tweet_texts.append(clean_tweet(str(row)))\n",
    "    print(\"Tweets cleaned.\")\n",
    "clean_df = pd.DataFrame(clean_tweet_texts,columns=['text'])\n",
    "clean_df.to_csv('Bruce_Rauner.csv',encoding='utf-8')\n",
    "csv = 'Bruce_Rauner.csv'\n",
    "temp = pd.read_csv(csv,index_col=0)\n",
    "temp.head()"
   ]
  },
  {
   "cell_type": "markdown",
   "metadata": {},
   "source": [
    "## Iowa"
   ]
  },
  {
   "cell_type": "markdown",
   "metadata": {},
   "source": [
    "Kim Reynolds"
   ]
  },
  {
   "cell_type": "code",
   "execution_count": null,
   "metadata": {},
   "outputs": [],
   "source": [
    "tw.tweets(keywords=\"kim reynolds\", to_screen=False, stream=False)"
   ]
  },
  {
   "cell_type": "code",
   "execution_count": 12,
   "metadata": {},
   "outputs": [],
   "source": [
    "with open('/Users/niw0407/twitter-files/tweets.20181129-125834.json') as fp:\n",
    "    json2csv(fp, 'Kim_Reynolds.csv', ['text'])"
   ]
  },
  {
   "cell_type": "code",
   "execution_count": 56,
   "metadata": {},
   "outputs": [
    {
     "name": "stdout",
     "output_type": "stream",
     "text": [
      "Tweets cleaned.\n"
     ]
    },
    {
     "data": {
      "text/html": [
       "<div>\n",
       "<style scoped>\n",
       "    .dataframe tbody tr th:only-of-type {\n",
       "        vertical-align: middle;\n",
       "    }\n",
       "\n",
       "    .dataframe tbody tr th {\n",
       "        vertical-align: top;\n",
       "    }\n",
       "\n",
       "    .dataframe thead th {\n",
       "        text-align: right;\n",
       "    }\n",
       "</style>\n",
       "<table border=\"1\" class=\"dataframe\">\n",
       "  <thead>\n",
       "    <tr style=\"text-align: right;\">\n",
       "      <th></th>\n",
       "      <th>text</th>\n",
       "    </tr>\n",
       "  </thead>\n",
       "  <tbody>\n",
       "    <tr>\n",
       "      <th>0</th>\n",
       "      <td>rt governor kim reynolds of iowa suggested thi...</td>\n",
       "    </tr>\n",
       "    <tr>\n",
       "      <th>1</th>\n",
       "      <td>rt governor kim reynolds of iowa suggested thi...</td>\n",
       "    </tr>\n",
       "    <tr>\n",
       "      <th>2</th>\n",
       "      <td>rt let keep the conversation going on friday a...</td>\n",
       "    </tr>\n",
       "    <tr>\n",
       "      <th>3</th>\n",
       "      <td>rt victory pro life governor kim reynolds defe...</td>\n",
       "    </tr>\n",
       "    <tr>\n",
       "      <th>4</th>\n",
       "      <td>rt let keep the conversation going on friday a...</td>\n",
       "    </tr>\n",
       "  </tbody>\n",
       "</table>\n",
       "</div>"
      ],
      "text/plain": [
       "                                                text\n",
       "0  rt governor kim reynolds of iowa suggested thi...\n",
       "1  rt governor kim reynolds of iowa suggested thi...\n",
       "2  rt let keep the conversation going on friday a...\n",
       "3  rt victory pro life governor kim reynolds defe...\n",
       "4  rt let keep the conversation going on friday a..."
      ]
     },
     "execution_count": 56,
     "metadata": {},
     "output_type": "execute_result"
    }
   ],
   "source": [
    "import os\n",
    "import csv\n",
    "import pandas as pd\n",
    "clean_tweet_texts = []\n",
    "with open('Kim_Reynolds.csv') as csvfile:\n",
    "    readCSV = csv.reader(csvfile, delimiter=',')\n",
    "    i = 0\n",
    "    next(readCSV)\n",
    "    for row in readCSV:\n",
    "        ++i\n",
    "        clean_tweet_texts.append(clean_tweet(str(row)))\n",
    "    print(\"Tweets cleaned.\")\n",
    "clean_df = pd.DataFrame(clean_tweet_texts,columns=['text'])\n",
    "clean_df.to_csv('Kim_Reynolds.csv',encoding='utf-8')\n",
    "csv = 'Kim_Reynolds.csv'\n",
    "temp = pd.read_csv(csv,index_col=0)\n",
    "temp.head()"
   ]
  },
  {
   "cell_type": "markdown",
   "metadata": {},
   "source": [
    "Fred Hubbell"
   ]
  },
  {
   "cell_type": "code",
   "execution_count": null,
   "metadata": {},
   "outputs": [],
   "source": [
    "tw.tweets(keywords=\"fred hubbell\", to_screen=False, stream=False)"
   ]
  },
  {
   "cell_type": "code",
   "execution_count": 14,
   "metadata": {},
   "outputs": [],
   "source": [
    "with open('/Users/niw0407/twitter-files/tweets.20181129-130028.json') as fp:\n",
    "    json2csv(fp, 'Fred_Hubbell.csv', ['text'])"
   ]
  },
  {
   "cell_type": "code",
   "execution_count": 57,
   "metadata": {},
   "outputs": [
    {
     "name": "stdout",
     "output_type": "stream",
     "text": [
      "Tweets cleaned.\n"
     ]
    },
    {
     "data": {
      "text/html": [
       "<div>\n",
       "<style scoped>\n",
       "    .dataframe tbody tr th:only-of-type {\n",
       "        vertical-align: middle;\n",
       "    }\n",
       "\n",
       "    .dataframe tbody tr th {\n",
       "        vertical-align: top;\n",
       "    }\n",
       "\n",
       "    .dataframe thead th {\n",
       "        text-align: right;\n",
       "    }\n",
       "</style>\n",
       "<table border=\"1\" class=\"dataframe\">\n",
       "  <thead>\n",
       "    <tr style=\"text-align: right;\">\n",
       "      <th></th>\n",
       "      <th>text</th>\n",
       "    </tr>\n",
       "  </thead>\n",
       "  <tbody>\n",
       "    <tr>\n",
       "      <th>0</th>\n",
       "      <td>rt victory pro life governor kim reynolds defe...</td>\n",
       "    </tr>\n",
       "    <tr>\n",
       "      <th>1</th>\n",
       "      <td>rt victory pro life governor kim reynolds defe...</td>\n",
       "    </tr>\n",
       "    <tr>\n",
       "      <th>2</th>\n",
       "      <td>rt iowa governor kim reynolds won full term by...</td>\n",
       "    </tr>\n",
       "    <tr>\n",
       "      <th>3</th>\n",
       "      <td>nsending off packet to you soon hoping it prom...</td>\n",
       "    </tr>\n",
       "    <tr>\n",
       "      <th>4</th>\n",
       "      <td>rt really wish fred hubbell won liked him ton</td>\n",
       "    </tr>\n",
       "  </tbody>\n",
       "</table>\n",
       "</div>"
      ],
      "text/plain": [
       "                                                text\n",
       "0  rt victory pro life governor kim reynolds defe...\n",
       "1  rt victory pro life governor kim reynolds defe...\n",
       "2  rt iowa governor kim reynolds won full term by...\n",
       "3  nsending off packet to you soon hoping it prom...\n",
       "4      rt really wish fred hubbell won liked him ton"
      ]
     },
     "execution_count": 57,
     "metadata": {},
     "output_type": "execute_result"
    }
   ],
   "source": [
    "import os\n",
    "import csv\n",
    "import pandas as pd\n",
    "clean_tweet_texts = []\n",
    "with open('Fred_Hubbell.csv') as csvfile:\n",
    "    readCSV = csv.reader(csvfile, delimiter=',')\n",
    "    i = 0\n",
    "    next(readCSV)\n",
    "    for row in readCSV:\n",
    "        ++i\n",
    "        clean_tweet_texts.append(clean_tweet(str(row)))\n",
    "    print(\"Tweets cleaned.\")\n",
    "clean_df = pd.DataFrame(clean_tweet_texts,columns=['text'])\n",
    "clean_df.to_csv('Fred_Hubbell.csv',encoding='utf-8')\n",
    "csv = 'Fred_Hubbell.csv'\n",
    "temp = pd.read_csv(csv,index_col=0)\n",
    "temp.head()"
   ]
  },
  {
   "cell_type": "markdown",
   "metadata": {},
   "source": [
    "## Kansas"
   ]
  },
  {
   "cell_type": "markdown",
   "metadata": {},
   "source": [
    "Laura Kelly"
   ]
  },
  {
   "cell_type": "code",
   "execution_count": null,
   "metadata": {},
   "outputs": [],
   "source": [
    "tw.tweets(keywords=\"laura kelly\", to_screen=False, stream=False)"
   ]
  },
  {
   "cell_type": "code",
   "execution_count": 16,
   "metadata": {},
   "outputs": [],
   "source": [
    "with open('/Users/niw0407/twitter-files/tweets.20181129-130310.json') as fp:\n",
    "    json2csv(fp, 'Laura_Kelly.csv', ['text'])"
   ]
  },
  {
   "cell_type": "code",
   "execution_count": 58,
   "metadata": {},
   "outputs": [
    {
     "name": "stdout",
     "output_type": "stream",
     "text": [
      "Tweets cleaned.\n"
     ]
    },
    {
     "data": {
      "text/html": [
       "<div>\n",
       "<style scoped>\n",
       "    .dataframe tbody tr th:only-of-type {\n",
       "        vertical-align: middle;\n",
       "    }\n",
       "\n",
       "    .dataframe tbody tr th {\n",
       "        vertical-align: top;\n",
       "    }\n",
       "\n",
       "    .dataframe thead th {\n",
       "        text-align: right;\n",
       "    }\n",
       "</style>\n",
       "<table border=\"1\" class=\"dataframe\">\n",
       "  <thead>\n",
       "    <tr style=\"text-align: right;\">\n",
       "      <th></th>\n",
       "      <th>text</th>\n",
       "    </tr>\n",
       "  </thead>\n",
       "  <tbody>\n",
       "    <tr>\n",
       "      <th>0</th>\n",
       "      <td>rt you wonderful people are nominating us for ...</td>\n",
       "    </tr>\n",
       "    <tr>\n",
       "      <th>1</th>\n",
       "      <td>rt alex jones banned nlaura loomer banned njes...</td>\n",
       "    </tr>\n",
       "    <tr>\n",
       "      <th>2</th>\n",
       "      <td>rt breaking laura loomer sues twitter big leag...</td>\n",
       "    </tr>\n",
       "    <tr>\n",
       "      <th>3</th>\n",
       "      <td>rt instead of engaging with tropes about immig...</td>\n",
       "    </tr>\n",
       "    <tr>\n",
       "      <th>4</th>\n",
       "      <td>rt alex jones banned nlaura loomer banned njes...</td>\n",
       "    </tr>\n",
       "  </tbody>\n",
       "</table>\n",
       "</div>"
      ],
      "text/plain": [
       "                                                text\n",
       "0  rt you wonderful people are nominating us for ...\n",
       "1  rt alex jones banned nlaura loomer banned njes...\n",
       "2  rt breaking laura loomer sues twitter big leag...\n",
       "3  rt instead of engaging with tropes about immig...\n",
       "4  rt alex jones banned nlaura loomer banned njes..."
      ]
     },
     "execution_count": 58,
     "metadata": {},
     "output_type": "execute_result"
    }
   ],
   "source": [
    "import os\n",
    "import csv\n",
    "import pandas as pd\n",
    "clean_tweet_texts = []\n",
    "with open('Laura_Kelly.csv') as csvfile:\n",
    "    readCSV = csv.reader(csvfile, delimiter=',')\n",
    "    i = 0\n",
    "    next(readCSV)\n",
    "    for row in readCSV:\n",
    "        ++i\n",
    "        clean_tweet_texts.append(clean_tweet(str(row)))\n",
    "    print(\"Tweets cleaned.\")\n",
    "clean_df = pd.DataFrame(clean_tweet_texts,columns=['text'])\n",
    "clean_df.to_csv('Laura_Kelly.csv',encoding='utf-8')\n",
    "csv = 'Laura_Kelly.csv'\n",
    "temp = pd.read_csv(csv,index_col=0)\n",
    "temp.head()"
   ]
  },
  {
   "cell_type": "markdown",
   "metadata": {},
   "source": [
    "Kris Kobach"
   ]
  },
  {
   "cell_type": "code",
   "execution_count": null,
   "metadata": {},
   "outputs": [],
   "source": [
    "tw.tweets(keywords=\"kris kobach\", to_screen=False, stream=False)"
   ]
  },
  {
   "cell_type": "code",
   "execution_count": 18,
   "metadata": {},
   "outputs": [],
   "source": [
    "with open('/Users/niw0407/twitter-files/tweets.20181129-130403.json') as fp:\n",
    "    json2csv(fp, 'Kris_Kobach.csv', ['text'])"
   ]
  },
  {
   "cell_type": "code",
   "execution_count": 59,
   "metadata": {},
   "outputs": [
    {
     "name": "stdout",
     "output_type": "stream",
     "text": [
      "Tweets cleaned.\n"
     ]
    },
    {
     "data": {
      "text/html": [
       "<div>\n",
       "<style scoped>\n",
       "    .dataframe tbody tr th:only-of-type {\n",
       "        vertical-align: middle;\n",
       "    }\n",
       "\n",
       "    .dataframe tbody tr th {\n",
       "        vertical-align: top;\n",
       "    }\n",
       "\n",
       "    .dataframe thead th {\n",
       "        text-align: right;\n",
       "    }\n",
       "</style>\n",
       "<table border=\"1\" class=\"dataframe\">\n",
       "  <thead>\n",
       "    <tr style=\"text-align: right;\">\n",
       "      <th></th>\n",
       "      <th>text</th>\n",
       "    </tr>\n",
       "  </thead>\n",
       "  <tbody>\n",
       "    <tr>\n",
       "      <th>0</th>\n",
       "      <td>rt donald palmer trump nominee to the election...</td>\n",
       "    </tr>\n",
       "    <tr>\n",
       "      <th>1</th>\n",
       "      <td>rt donald palmer trump nominee to the election...</td>\n",
       "    </tr>\n",
       "    <tr>\n",
       "      <th>2</th>\n",
       "      <td>rt republican controlled congress should immed...</td>\n",
       "    </tr>\n",
       "    <tr>\n",
       "      <th>3</th>\n",
       "      <td>rt donald palmer trump nominee to the election...</td>\n",
       "    </tr>\n",
       "    <tr>\n",
       "      <th>4</th>\n",
       "      <td>rt donald palmer trump nominee to the election...</td>\n",
       "    </tr>\n",
       "  </tbody>\n",
       "</table>\n",
       "</div>"
      ],
      "text/plain": [
       "                                                text\n",
       "0  rt donald palmer trump nominee to the election...\n",
       "1  rt donald palmer trump nominee to the election...\n",
       "2  rt republican controlled congress should immed...\n",
       "3  rt donald palmer trump nominee to the election...\n",
       "4  rt donald palmer trump nominee to the election..."
      ]
     },
     "execution_count": 59,
     "metadata": {},
     "output_type": "execute_result"
    }
   ],
   "source": [
    "import os\n",
    "import csv\n",
    "import pandas as pd\n",
    "clean_tweet_texts = []\n",
    "with open('Kris_Kobach.csv') as csvfile:\n",
    "    readCSV = csv.reader(csvfile, delimiter=',')\n",
    "    i = 0\n",
    "    next(readCSV)\n",
    "    for row in readCSV:\n",
    "        ++i\n",
    "        clean_tweet_texts.append(clean_tweet(str(row)))\n",
    "    print(\"Tweets cleaned.\")\n",
    "clean_df = pd.DataFrame(clean_tweet_texts,columns=['text'])\n",
    "clean_df.to_csv('Kris_Kobach.csv',encoding='utf-8')\n",
    "csv = 'Kris_Kobach.csv'\n",
    "temp = pd.read_csv(csv,index_col=0)\n",
    "temp.head()"
   ]
  },
  {
   "cell_type": "markdown",
   "metadata": {},
   "source": [
    "## Maine"
   ]
  },
  {
   "cell_type": "markdown",
   "metadata": {},
   "source": [
    "Janet Mills"
   ]
  },
  {
   "cell_type": "code",
   "execution_count": null,
   "metadata": {},
   "outputs": [],
   "source": [
    "tw.tweets(keywords=\"janet mills\", to_screen=False, stream=False)"
   ]
  },
  {
   "cell_type": "code",
   "execution_count": 20,
   "metadata": {},
   "outputs": [],
   "source": [
    "with open('/Users/niw0407/twitter-files/tweets.20181129-130505.json') as fp:\n",
    "    json2csv(fp, 'Janet_Mills.csv', ['text'])"
   ]
  },
  {
   "cell_type": "code",
   "execution_count": 60,
   "metadata": {},
   "outputs": [
    {
     "name": "stdout",
     "output_type": "stream",
     "text": [
      "Tweets cleaned.\n"
     ]
    },
    {
     "data": {
      "text/html": [
       "<div>\n",
       "<style scoped>\n",
       "    .dataframe tbody tr th:only-of-type {\n",
       "        vertical-align: middle;\n",
       "    }\n",
       "\n",
       "    .dataframe tbody tr th {\n",
       "        vertical-align: top;\n",
       "    }\n",
       "\n",
       "    .dataframe thead th {\n",
       "        text-align: right;\n",
       "    }\n",
       "</style>\n",
       "<table border=\"1\" class=\"dataframe\">\n",
       "  <thead>\n",
       "    <tr style=\"text-align: right;\">\n",
       "      <th></th>\n",
       "      <th>text</th>\n",
       "    </tr>\n",
       "  </thead>\n",
       "  <tbody>\n",
       "    <tr>\n",
       "      <th>0</th>\n",
       "      <td>rt founding board member was recently elected ...</td>\n",
       "    </tr>\n",
       "    <tr>\n",
       "      <th>1</th>\n",
       "      <td>founding board member was recently elected as ...</td>\n",
       "    </tr>\n",
       "    <tr>\n",
       "      <th>2</th>\n",
       "      <td>will have to disclose transition donors in fir...</td>\n",
       "    </tr>\n",
       "    <tr>\n",
       "      <th>3</th>\n",
       "      <td>weeks before maine gov elect janet mills will ...</td>\n",
       "    </tr>\n",
       "    <tr>\n",
       "      <th>4</th>\n",
       "      <td>rt democrat janet mills easily won the maine g...</td>\n",
       "    </tr>\n",
       "  </tbody>\n",
       "</table>\n",
       "</div>"
      ],
      "text/plain": [
       "                                                text\n",
       "0  rt founding board member was recently elected ...\n",
       "1  founding board member was recently elected as ...\n",
       "2  will have to disclose transition donors in fir...\n",
       "3  weeks before maine gov elect janet mills will ...\n",
       "4  rt democrat janet mills easily won the maine g..."
      ]
     },
     "execution_count": 60,
     "metadata": {},
     "output_type": "execute_result"
    }
   ],
   "source": [
    "import os\n",
    "import csv\n",
    "import pandas as pd\n",
    "clean_tweet_texts = []\n",
    "with open('Janet_Mills.csv') as csvfile:\n",
    "    readCSV = csv.reader(csvfile, delimiter=',')\n",
    "    i = 0\n",
    "    next(readCSV)\n",
    "    for row in readCSV:\n",
    "        ++i\n",
    "        clean_tweet_texts.append(clean_tweet(str(row)))\n",
    "    print(\"Tweets cleaned.\")\n",
    "clean_df = pd.DataFrame(clean_tweet_texts,columns=['text'])\n",
    "clean_df.to_csv('Janet_Mills.csv',encoding='utf-8')\n",
    "csv = 'Janet_Mills.csv'\n",
    "temp = pd.read_csv(csv,index_col=0)\n",
    "temp.head()"
   ]
  },
  {
   "cell_type": "markdown",
   "metadata": {},
   "source": [
    "Shawn Moody"
   ]
  },
  {
   "cell_type": "code",
   "execution_count": null,
   "metadata": {},
   "outputs": [],
   "source": [
    "tw.tweets(keywords=\"shawn moody\", to_screen=False, stream=False)"
   ]
  },
  {
   "cell_type": "code",
   "execution_count": 22,
   "metadata": {},
   "outputs": [],
   "source": [
    "with open('/Users/niw0407/twitter-files/tweets.20181129-130552.json') as fp:\n",
    "    json2csv(fp, 'Shawn_Moody.csv', ['text'])"
   ]
  },
  {
   "cell_type": "code",
   "execution_count": 64,
   "metadata": {},
   "outputs": [
    {
     "name": "stdout",
     "output_type": "stream",
     "text": [
      "Tweets cleaned.\n"
     ]
    },
    {
     "data": {
      "text/html": [
       "<div>\n",
       "<style scoped>\n",
       "    .dataframe tbody tr th:only-of-type {\n",
       "        vertical-align: middle;\n",
       "    }\n",
       "\n",
       "    .dataframe tbody tr th {\n",
       "        vertical-align: top;\n",
       "    }\n",
       "\n",
       "    .dataframe thead th {\n",
       "        text-align: right;\n",
       "    }\n",
       "</style>\n",
       "<table border=\"1\" class=\"dataframe\">\n",
       "  <thead>\n",
       "    <tr style=\"text-align: right;\">\n",
       "      <th></th>\n",
       "      <th>text</th>\n",
       "    </tr>\n",
       "  </thead>\n",
       "  <tbody>\n",
       "    <tr>\n",
       "      <th>0</th>\n",
       "      <td>rt pays homage to lost in translation in moody...</td>\n",
       "    </tr>\n",
       "    <tr>\n",
       "      <th>1</th>\n",
       "      <td>and shawn moody</td>\n",
       "    </tr>\n",
       "    <tr>\n",
       "      <th>2</th>\n",
       "      <td>rt exclusive maine gov candidate shawn moody s...</td>\n",
       "    </tr>\n",
       "    <tr>\n",
       "      <th>3</th>\n",
       "      <td>you cant force some one out when their not rea...</td>\n",
       "    </tr>\n",
       "    <tr>\n",
       "      <th>4</th>\n",
       "      <td>massachusetts manufacturer wants to build new ...</td>\n",
       "    </tr>\n",
       "  </tbody>\n",
       "</table>\n",
       "</div>"
      ],
      "text/plain": [
       "                                                text\n",
       "0  rt pays homage to lost in translation in moody...\n",
       "1                                    and shawn moody\n",
       "2  rt exclusive maine gov candidate shawn moody s...\n",
       "3  you cant force some one out when their not rea...\n",
       "4  massachusetts manufacturer wants to build new ..."
      ]
     },
     "execution_count": 64,
     "metadata": {},
     "output_type": "execute_result"
    }
   ],
   "source": [
    "import os\n",
    "import csv\n",
    "import pandas as pd\n",
    "clean_tweet_texts = []\n",
    "with open('Shawn_Moody.csv') as csvfile:\n",
    "    readCSV = csv.reader(csvfile, delimiter=',')\n",
    "    i = 0\n",
    "    next(readCSV)\n",
    "    for row in readCSV:\n",
    "        ++i\n",
    "        clean_tweet_texts.append(clean_tweet(str(row)))\n",
    "    print(\"Tweets cleaned.\")\n",
    "clean_df = pd.DataFrame(clean_tweet_texts,columns=['text'])\n",
    "clean_df.to_csv('Shawn_Moody.csv',encoding='utf-8')\n",
    "csv = 'Shawn_Moody.csv'\n",
    "temp = pd.read_csv(csv,index_col=0)\n",
    "temp.head()"
   ]
  },
  {
   "cell_type": "markdown",
   "metadata": {},
   "source": [
    "## Maryland"
   ]
  },
  {
   "cell_type": "markdown",
   "metadata": {},
   "source": [
    "Larry Hogan"
   ]
  },
  {
   "cell_type": "code",
   "execution_count": null,
   "metadata": {},
   "outputs": [],
   "source": [
    "tw.tweets(keywords=\"larry hogan\", to_screen=False, stream=False)"
   ]
  },
  {
   "cell_type": "code",
   "execution_count": 24,
   "metadata": {},
   "outputs": [],
   "source": [
    "with open('/Users/niw0407/twitter-files/tweets.20181129-130756.json') as fp:\n",
    "    json2csv(fp, 'Larry_Hogan.csv', ['text'])"
   ]
  },
  {
   "cell_type": "code",
   "execution_count": 69,
   "metadata": {},
   "outputs": [
    {
     "name": "stdout",
     "output_type": "stream",
     "text": [
      "Tweets cleaned.\n"
     ]
    },
    {
     "data": {
      "text/html": [
       "<div>\n",
       "<style scoped>\n",
       "    .dataframe tbody tr th:only-of-type {\n",
       "        vertical-align: middle;\n",
       "    }\n",
       "\n",
       "    .dataframe tbody tr th {\n",
       "        vertical-align: top;\n",
       "    }\n",
       "\n",
       "    .dataframe thead th {\n",
       "        text-align: right;\n",
       "    }\n",
       "</style>\n",
       "<table border=\"1\" class=\"dataframe\">\n",
       "  <thead>\n",
       "    <tr style=\"text-align: right;\">\n",
       "      <th></th>\n",
       "      <th>text</th>\n",
       "    </tr>\n",
       "  </thead>\n",
       "  <tbody>\n",
       "    <tr>\n",
       "      <th>0</th>\n",
       "      <td>and first lady yumi hogan are inviting marylan...</td>\n",
       "    </tr>\n",
       "    <tr>\n",
       "      <th>1</th>\n",
       "      <td>larry hogan is chode</td>\n",
       "    </tr>\n",
       "    <tr>\n",
       "      <th>2</th>\n",
       "      <td>correction it would be larry hogan would need ...</td>\n",
       "    </tr>\n",
       "    <tr>\n",
       "      <th>3</th>\n",
       "      <td>and first lady yumi hogan are inviting marylan...</td>\n",
       "    </tr>\n",
       "    <tr>\n",
       "      <th>4</th>\n",
       "      <td>and first lady yumi hogan are inviting marylan...</td>\n",
       "    </tr>\n",
       "  </tbody>\n",
       "</table>\n",
       "</div>"
      ],
      "text/plain": [
       "                                                text\n",
       "0  and first lady yumi hogan are inviting marylan...\n",
       "1                               larry hogan is chode\n",
       "2  correction it would be larry hogan would need ...\n",
       "3  and first lady yumi hogan are inviting marylan...\n",
       "4  and first lady yumi hogan are inviting marylan..."
      ]
     },
     "execution_count": 69,
     "metadata": {},
     "output_type": "execute_result"
    }
   ],
   "source": [
    "import csv\n",
    "import pandas as pd\n",
    "clean_tweet_texts = []\n",
    "with open('Larry_Hogan.csv') as csvfile:\n",
    "    readCSV = csv.reader(csvfile, delimiter=',')\n",
    "    i = 0\n",
    "    next(readCSV)\n",
    "    for row in readCSV:\n",
    "        ++i\n",
    "        clean_tweet_texts.append(clean_tweet(str(row)))\n",
    "    print(\"Tweets cleaned.\")\n",
    "\n",
    "clean_df = pd.DataFrame(clean_tweet_texts,columns=['text'])\n",
    "clean_df.to_csv('Larry_Hogan.csv',encoding='utf-8')\n",
    "csv = 'Larry_Hogan.csv'\n",
    "temp = pd.read_csv(csv,index_col=0)\n",
    "temp.head()"
   ]
  },
  {
   "cell_type": "markdown",
   "metadata": {},
   "source": [
    "Ben Jealous"
   ]
  },
  {
   "cell_type": "code",
   "execution_count": null,
   "metadata": {},
   "outputs": [],
   "source": [
    "tw.tweets(keywords=\"ben jealous\", to_screen=False, stream=False)"
   ]
  },
  {
   "cell_type": "code",
   "execution_count": 68,
   "metadata": {},
   "outputs": [],
   "source": [
    "with open('/Users/niw0407/twitter-files/tweets.20181129-130841.json') as fp:\n",
    "    json2csv(fp, 'Ben_Jealous.csv', ['text'])"
   ]
  },
  {
   "cell_type": "code",
   "execution_count": 70,
   "metadata": {},
   "outputs": [
    {
     "name": "stdout",
     "output_type": "stream",
     "text": [
      "Tweets cleaned.\n"
     ]
    },
    {
     "data": {
      "text/html": [
       "<div>\n",
       "<style scoped>\n",
       "    .dataframe tbody tr th:only-of-type {\n",
       "        vertical-align: middle;\n",
       "    }\n",
       "\n",
       "    .dataframe tbody tr th {\n",
       "        vertical-align: top;\n",
       "    }\n",
       "\n",
       "    .dataframe thead th {\n",
       "        text-align: right;\n",
       "    }\n",
       "</style>\n",
       "<table border=\"1\" class=\"dataframe\">\n",
       "  <thead>\n",
       "    <tr style=\"text-align: right;\">\n",
       "      <th></th>\n",
       "      <th>text</th>\n",
       "    </tr>\n",
       "  </thead>\n",
       "  <tbody>\n",
       "    <tr>\n",
       "      <th>0</th>\n",
       "      <td>meanwhile next</td>\n",
       "    </tr>\n",
       "    <tr>\n",
       "      <th>1</th>\n",
       "      <td>gets in time machine back to exactly one month...</td>\n",
       "    </tr>\n",
       "    <tr>\n",
       "      <th>2</th>\n",
       "      <td>rt this just cracks me up not only was ben jea...</td>\n",
       "    </tr>\n",
       "    <tr>\n",
       "      <th>3</th>\n",
       "      <td>saying jealous when something good happens to ...</td>\n",
       "    </tr>\n",
       "    <tr>\n",
       "      <th>4</th>\n",
       "      <td>sportz buzz new pod dropping tonight nba quart...</td>\n",
       "    </tr>\n",
       "  </tbody>\n",
       "</table>\n",
       "</div>"
      ],
      "text/plain": [
       "                                                text\n",
       "0                                     meanwhile next\n",
       "1  gets in time machine back to exactly one month...\n",
       "2  rt this just cracks me up not only was ben jea...\n",
       "3  saying jealous when something good happens to ...\n",
       "4  sportz buzz new pod dropping tonight nba quart..."
      ]
     },
     "execution_count": 70,
     "metadata": {},
     "output_type": "execute_result"
    }
   ],
   "source": [
    "import csv\n",
    "import pandas as pd\n",
    "clean_tweet_texts = []\n",
    "with open('Ben_Jealous.csv') as csvfile:\n",
    "    readCSV = csv.reader(csvfile, delimiter=',')\n",
    "    i = 0\n",
    "    next(readCSV)\n",
    "    for row in readCSV:\n",
    "        ++i\n",
    "        clean_tweet_texts.append(clean_tweet(str(row)))\n",
    "    print(\"Tweets cleaned.\")\n",
    "\n",
    "clean_df = pd.DataFrame(clean_tweet_texts,columns=['text'])\n",
    "clean_df.to_csv('Ben_Jealous.csv',encoding='utf-8')\n",
    "csv = 'Ben_Jealous.csv'\n",
    "temp = pd.read_csv(csv,index_col=0)\n",
    "temp.head()"
   ]
  },
  {
   "cell_type": "markdown",
   "metadata": {},
   "source": [
    "## Massachusetts"
   ]
  },
  {
   "cell_type": "markdown",
   "metadata": {},
   "source": [
    "Charlie Baker"
   ]
  },
  {
   "cell_type": "code",
   "execution_count": null,
   "metadata": {},
   "outputs": [],
   "source": [
    "tw.tweets(keywords=\"charlie baker\", to_screen=False, stream=False)"
   ]
  },
  {
   "cell_type": "code",
   "execution_count": 27,
   "metadata": {},
   "outputs": [],
   "source": [
    "with open('/Users/niw0407/twitter-files/tweets.20181129-130959.json') as fp:\n",
    "    json2csv(fp, 'Charlie_Baker.csv', ['text'])"
   ]
  },
  {
   "cell_type": "code",
   "execution_count": 71,
   "metadata": {},
   "outputs": [
    {
     "name": "stdout",
     "output_type": "stream",
     "text": [
      "Tweets cleaned.\n"
     ]
    },
    {
     "data": {
      "text/html": [
       "<div>\n",
       "<style scoped>\n",
       "    .dataframe tbody tr th:only-of-type {\n",
       "        vertical-align: middle;\n",
       "    }\n",
       "\n",
       "    .dataframe tbody tr th {\n",
       "        vertical-align: top;\n",
       "    }\n",
       "\n",
       "    .dataframe thead th {\n",
       "        text-align: right;\n",
       "    }\n",
       "</style>\n",
       "<table border=\"1\" class=\"dataframe\">\n",
       "  <thead>\n",
       "    <tr style=\"text-align: right;\">\n",
       "      <th></th>\n",
       "      <th>text</th>\n",
       "    </tr>\n",
       "  </thead>\n",
       "  <tbody>\n",
       "    <tr>\n",
       "      <th>0</th>\n",
       "      <td>rt one of the mayors who endorsed charlie bake...</td>\n",
       "    </tr>\n",
       "    <tr>\n",
       "      <th>1</th>\n",
       "      <td>rt sergeant emond was highly decorated soldier...</td>\n",
       "    </tr>\n",
       "    <tr>\n",
       "      <th>2</th>\n",
       "      <td>rt one of the mayors who endorsed charlie bake...</td>\n",
       "    </tr>\n",
       "    <tr>\n",
       "      <th>3</th>\n",
       "      <td>one of the mayors who endorsed charlie baker m...</td>\n",
       "    </tr>\n",
       "    <tr>\n",
       "      <th>4</th>\n",
       "      <td>check out hot bike magazine harvey davidson ch...</td>\n",
       "    </tr>\n",
       "  </tbody>\n",
       "</table>\n",
       "</div>"
      ],
      "text/plain": [
       "                                                text\n",
       "0  rt one of the mayors who endorsed charlie bake...\n",
       "1  rt sergeant emond was highly decorated soldier...\n",
       "2  rt one of the mayors who endorsed charlie bake...\n",
       "3  one of the mayors who endorsed charlie baker m...\n",
       "4  check out hot bike magazine harvey davidson ch..."
      ]
     },
     "execution_count": 71,
     "metadata": {},
     "output_type": "execute_result"
    }
   ],
   "source": [
    "import csv\n",
    "import pandas as pd\n",
    "clean_tweet_texts = []\n",
    "with open('Charlie_Baker.csv') as csvfile:\n",
    "    readCSV = csv.reader(csvfile, delimiter=',')\n",
    "    i = 0\n",
    "    next(readCSV)\n",
    "    for row in readCSV:\n",
    "        ++i\n",
    "        clean_tweet_texts.append(clean_tweet(str(row)))\n",
    "    print(\"Tweets cleaned.\")\n",
    "\n",
    "clean_df = pd.DataFrame(clean_tweet_texts,columns=['text'])\n",
    "clean_df.to_csv('Charlie_Baker.csv',encoding='utf-8')\n",
    "csv = 'Charlie_Baker.csv'\n",
    "temp = pd.read_csv(csv,index_col=0)\n",
    "temp.head()"
   ]
  },
  {
   "cell_type": "markdown",
   "metadata": {},
   "source": [
    "Jay Gonzalez"
   ]
  },
  {
   "cell_type": "code",
   "execution_count": null,
   "metadata": {},
   "outputs": [],
   "source": [
    "tw.tweets(keywords=\"jay gonzalez\", to_screen=False, stream=False)"
   ]
  },
  {
   "cell_type": "code",
   "execution_count": 29,
   "metadata": {},
   "outputs": [],
   "source": [
    "with open('/Users/niw0407/twitter-files/tweets.20181129-131429.json') as fp:\n",
    "    json2csv(fp, 'Jay_Gonzalez.csv', ['text'])"
   ]
  },
  {
   "cell_type": "code",
   "execution_count": 72,
   "metadata": {},
   "outputs": [
    {
     "name": "stdout",
     "output_type": "stream",
     "text": [
      "Tweets cleaned.\n"
     ]
    },
    {
     "data": {
      "text/html": [
       "<div>\n",
       "<style scoped>\n",
       "    .dataframe tbody tr th:only-of-type {\n",
       "        vertical-align: middle;\n",
       "    }\n",
       "\n",
       "    .dataframe tbody tr th {\n",
       "        vertical-align: top;\n",
       "    }\n",
       "\n",
       "    .dataframe thead th {\n",
       "        text-align: right;\n",
       "    }\n",
       "</style>\n",
       "<table border=\"1\" class=\"dataframe\">\n",
       "  <thead>\n",
       "    <tr style=\"text-align: right;\">\n",
       "      <th></th>\n",
       "      <th>text</th>\n",
       "    </tr>\n",
       "  </thead>\n",
       "  <tbody>\n",
       "    <tr>\n",
       "      <th>0</th>\n",
       "      <td>rt thurs pm free nbook launch the long hondura...</td>\n",
       "    </tr>\n",
       "    <tr>\n",
       "      <th>1</th>\n",
       "      <td>thurs pm free nbook launch the long honduran n...</td>\n",
       "    </tr>\n",
       "    <tr>\n",
       "      <th>2</th>\n",
       "      <td>good thing she aint have dat toolie nthis new ...</td>\n",
       "    </tr>\n",
       "    <tr>\n",
       "      <th>3</th>\n",
       "      <td>rt mets really gotta stop using their scouting...</td>\n",
       "    </tr>\n",
       "    <tr>\n",
       "      <th>4</th>\n",
       "      <td>rt mets really gotta stop using their scouting...</td>\n",
       "    </tr>\n",
       "  </tbody>\n",
       "</table>\n",
       "</div>"
      ],
      "text/plain": [
       "                                                text\n",
       "0  rt thurs pm free nbook launch the long hondura...\n",
       "1  thurs pm free nbook launch the long honduran n...\n",
       "2  good thing she aint have dat toolie nthis new ...\n",
       "3  rt mets really gotta stop using their scouting...\n",
       "4  rt mets really gotta stop using their scouting..."
      ]
     },
     "execution_count": 72,
     "metadata": {},
     "output_type": "execute_result"
    }
   ],
   "source": [
    "import csv\n",
    "import pandas as pd\n",
    "clean_tweet_texts = []\n",
    "with open('Jay_Gonzalez.csv') as csvfile:\n",
    "    readCSV = csv.reader(csvfile, delimiter=',')\n",
    "    i = 0\n",
    "    next(readCSV)\n",
    "    for row in readCSV:\n",
    "        ++i\n",
    "        clean_tweet_texts.append(clean_tweet(str(row)))\n",
    "    print(\"Tweets cleaned.\")\n",
    "\n",
    "clean_df = pd.DataFrame(clean_tweet_texts,columns=['text'])\n",
    "clean_df.to_csv('Jay_Gonzalez.csv',encoding='utf-8')\n",
    "csv = 'Jay_Gonzalez.csv'\n",
    "temp = pd.read_csv(csv,index_col=0)\n",
    "temp.head()"
   ]
  },
  {
   "cell_type": "markdown",
   "metadata": {},
   "source": [
    "## Michigan"
   ]
  },
  {
   "cell_type": "markdown",
   "metadata": {},
   "source": [
    "Gretchen Whitmer"
   ]
  },
  {
   "cell_type": "code",
   "execution_count": null,
   "metadata": {},
   "outputs": [],
   "source": [
    "tw.tweets(keywords=\"gretchen whitmer\", to_screen=False, stream=False)"
   ]
  },
  {
   "cell_type": "code",
   "execution_count": 31,
   "metadata": {},
   "outputs": [],
   "source": [
    "with open('/Users/niw0407/twitter-files/tweets.20181129-131601.json') as fp:\n",
    "    json2csv(fp, 'Gretchen_Whitmer.csv', ['text'])"
   ]
  },
  {
   "cell_type": "code",
   "execution_count": 73,
   "metadata": {},
   "outputs": [
    {
     "name": "stdout",
     "output_type": "stream",
     "text": [
      "Tweets cleaned.\n"
     ]
    },
    {
     "data": {
      "text/html": [
       "<div>\n",
       "<style scoped>\n",
       "    .dataframe tbody tr th:only-of-type {\n",
       "        vertical-align: middle;\n",
       "    }\n",
       "\n",
       "    .dataframe tbody tr th {\n",
       "        vertical-align: top;\n",
       "    }\n",
       "\n",
       "    .dataframe thead th {\n",
       "        text-align: right;\n",
       "    }\n",
       "</style>\n",
       "<table border=\"1\" class=\"dataframe\">\n",
       "  <thead>\n",
       "    <tr style=\"text-align: right;\">\n",
       "      <th></th>\n",
       "      <th>text</th>\n",
       "    </tr>\n",
       "  </thead>\n",
       "  <tbody>\n",
       "    <tr>\n",
       "      <th>0</th>\n",
       "      <td>rt the timing of the resignation means that re...</td>\n",
       "    </tr>\n",
       "    <tr>\n",
       "      <th>1</th>\n",
       "      <td>rt the timing of the resignation means that re...</td>\n",
       "    </tr>\n",
       "    <tr>\n",
       "      <th>2</th>\n",
       "      <td>rt the timing of the resignation means that re...</td>\n",
       "    </tr>\n",
       "    <tr>\n",
       "      <th>3</th>\n",
       "      <td>rt the timing of the resignation means that re...</td>\n",
       "    </tr>\n",
       "    <tr>\n",
       "      <th>4</th>\n",
       "      <td>rt the timing of the resignation means that re...</td>\n",
       "    </tr>\n",
       "  </tbody>\n",
       "</table>\n",
       "</div>"
      ],
      "text/plain": [
       "                                                text\n",
       "0  rt the timing of the resignation means that re...\n",
       "1  rt the timing of the resignation means that re...\n",
       "2  rt the timing of the resignation means that re...\n",
       "3  rt the timing of the resignation means that re...\n",
       "4  rt the timing of the resignation means that re..."
      ]
     },
     "execution_count": 73,
     "metadata": {},
     "output_type": "execute_result"
    }
   ],
   "source": [
    "import csv\n",
    "import pandas as pd\n",
    "clean_tweet_texts = []\n",
    "with open('Gretchen_Whitmer.csv') as csvfile:\n",
    "    readCSV = csv.reader(csvfile, delimiter=',')\n",
    "    i = 0\n",
    "    next(readCSV)\n",
    "    for row in readCSV:\n",
    "        ++i\n",
    "        clean_tweet_texts.append(clean_tweet(str(row)))\n",
    "    print(\"Tweets cleaned.\")\n",
    "\n",
    "clean_df = pd.DataFrame(clean_tweet_texts,columns=['text'])\n",
    "clean_df.to_csv('Gretchen_Whitmer.csv',encoding='utf-8')\n",
    "csv = 'Gretchen_Whitmer.csv'\n",
    "temp = pd.read_csv(csv,index_col=0)\n",
    "temp.head()"
   ]
  },
  {
   "cell_type": "markdown",
   "metadata": {},
   "source": [
    "Bill Schuette"
   ]
  },
  {
   "cell_type": "code",
   "execution_count": null,
   "metadata": {},
   "outputs": [],
   "source": [
    "tw.tweets(keywords=\"bill schuette\", to_screen=False, stream=False)"
   ]
  },
  {
   "cell_type": "code",
   "execution_count": 33,
   "metadata": {},
   "outputs": [],
   "source": [
    "with open('/Users/niw0407/twitter-files/tweets.20181129-131646.json') as fp:\n",
    "    json2csv(fp, 'Bill_Schuette.csv', ['text'])"
   ]
  },
  {
   "cell_type": "code",
   "execution_count": 74,
   "metadata": {},
   "outputs": [
    {
     "name": "stdout",
     "output_type": "stream",
     "text": [
      "Tweets cleaned.\n"
     ]
    },
    {
     "data": {
      "text/html": [
       "<div>\n",
       "<style scoped>\n",
       "    .dataframe tbody tr th:only-of-type {\n",
       "        vertical-align: middle;\n",
       "    }\n",
       "\n",
       "    .dataframe tbody tr th {\n",
       "        vertical-align: top;\n",
       "    }\n",
       "\n",
       "    .dataframe thead th {\n",
       "        text-align: right;\n",
       "    }\n",
       "</style>\n",
       "<table border=\"1\" class=\"dataframe\">\n",
       "  <thead>\n",
       "    <tr style=\"text-align: right;\">\n",
       "      <th></th>\n",
       "      <th>text</th>\n",
       "    </tr>\n",
       "  </thead>\n",
       "  <tbody>\n",
       "    <tr>\n",
       "      <th>0</th>\n",
       "      <td>congratulations to bill schuette</td>\n",
       "    </tr>\n",
       "    <tr>\n",
       "      <th>1</th>\n",
       "      <td>congratulations to bill schuette you will have...</td>\n",
       "    </tr>\n",
       "    <tr>\n",
       "      <th>2</th>\n",
       "      <td>our relationship with pakistan and its support...</td>\n",
       "    </tr>\n",
       "    <tr>\n",
       "      <th>3</th>\n",
       "      <td>rt in michigan gov race more than percent of a...</td>\n",
       "    </tr>\n",
       "    <tr>\n",
       "      <th>4</th>\n",
       "      <td>what are you talking about tons of candidates ...</td>\n",
       "    </tr>\n",
       "  </tbody>\n",
       "</table>\n",
       "</div>"
      ],
      "text/plain": [
       "                                                text\n",
       "0                   congratulations to bill schuette\n",
       "1  congratulations to bill schuette you will have...\n",
       "2  our relationship with pakistan and its support...\n",
       "3  rt in michigan gov race more than percent of a...\n",
       "4  what are you talking about tons of candidates ..."
      ]
     },
     "execution_count": 74,
     "metadata": {},
     "output_type": "execute_result"
    }
   ],
   "source": [
    "import csv\n",
    "import pandas as pd\n",
    "clean_tweet_texts = []\n",
    "with open('Bill_Schuette.csv') as csvfile:\n",
    "    readCSV = csv.reader(csvfile, delimiter=',')\n",
    "    i = 0\n",
    "    next(readCSV)\n",
    "    for row in readCSV:\n",
    "        ++i\n",
    "        clean_tweet_texts.append(clean_tweet(str(row)))\n",
    "    print(\"Tweets cleaned.\")\n",
    "\n",
    "clean_df = pd.DataFrame(clean_tweet_texts,columns=['text'])\n",
    "clean_df.to_csv('Bill_Schuette.csv',encoding='utf-8')\n",
    "csv = 'Bill_Schuette.csv'\n",
    "temp = pd.read_csv(csv,index_col=0)\n",
    "temp.head()"
   ]
  },
  {
   "cell_type": "markdown",
   "metadata": {},
   "source": [
    "## Minnesota"
   ]
  },
  {
   "cell_type": "markdown",
   "metadata": {},
   "source": [
    "Tim Walz"
   ]
  },
  {
   "cell_type": "code",
   "execution_count": null,
   "metadata": {},
   "outputs": [],
   "source": [
    "tw.tweets(keywords=\"tim walz\", to_screen=False, stream=False)"
   ]
  },
  {
   "cell_type": "code",
   "execution_count": 76,
   "metadata": {},
   "outputs": [],
   "source": [
    "with open('/Users/niw0407/twitter-files/tweets.20181129-131816.json') as fp:\n",
    "    json2csv(fp, 'Tim_Walz.csv', ['text'])"
   ]
  },
  {
   "cell_type": "code",
   "execution_count": 78,
   "metadata": {},
   "outputs": [
    {
     "name": "stdout",
     "output_type": "stream",
     "text": [
      "Tweets cleaned.\n"
     ]
    },
    {
     "data": {
      "text/html": [
       "<div>\n",
       "<style scoped>\n",
       "    .dataframe tbody tr th:only-of-type {\n",
       "        vertical-align: middle;\n",
       "    }\n",
       "\n",
       "    .dataframe tbody tr th {\n",
       "        vertical-align: top;\n",
       "    }\n",
       "\n",
       "    .dataframe thead th {\n",
       "        text-align: right;\n",
       "    }\n",
       "</style>\n",
       "<table border=\"1\" class=\"dataframe\">\n",
       "  <thead>\n",
       "    <tr style=\"text-align: right;\">\n",
       "      <th></th>\n",
       "      <th>text</th>\n",
       "    </tr>\n",
       "  </thead>\n",
       "  <tbody>\n",
       "    <tr>\n",
       "      <th>0</th>\n",
       "      <td>rt lt gov elect and are hitting the road and h...</td>\n",
       "    </tr>\n",
       "    <tr>\n",
       "      <th>1</th>\n",
       "      <td>rt my partner and are hitting the road and hea...</td>\n",
       "    </tr>\n",
       "    <tr>\n",
       "      <th>2</th>\n",
       "      <td>rt peggy flanagan who is making history as min...</td>\n",
       "    </tr>\n",
       "    <tr>\n",
       "      <th>3</th>\n",
       "      <td>rt peggy flanagan who is making history as min...</td>\n",
       "    </tr>\n",
       "    <tr>\n",
       "      <th>4</th>\n",
       "      <td>liftoff walz flanagan day listening tour kicke...</td>\n",
       "    </tr>\n",
       "  </tbody>\n",
       "</table>\n",
       "</div>"
      ],
      "text/plain": [
       "                                                text\n",
       "0  rt lt gov elect and are hitting the road and h...\n",
       "1  rt my partner and are hitting the road and hea...\n",
       "2  rt peggy flanagan who is making history as min...\n",
       "3  rt peggy flanagan who is making history as min...\n",
       "4  liftoff walz flanagan day listening tour kicke..."
      ]
     },
     "execution_count": 78,
     "metadata": {},
     "output_type": "execute_result"
    }
   ],
   "source": [
    "import csv\n",
    "import pandas as pd\n",
    "clean_tweet_texts = []\n",
    "with open('Tim_Walz.csv') as csvfile:\n",
    "    readCSV = csv.reader(csvfile, delimiter=',')\n",
    "    i = 0\n",
    "    next(readCSV)\n",
    "    for row in readCSV:\n",
    "        ++i\n",
    "        clean_tweet_texts.append(clean_tweet(str(row)))\n",
    "    print(\"Tweets cleaned.\")\n",
    "\n",
    "clean_df = pd.DataFrame(clean_tweet_texts,columns=['text'])\n",
    "clean_df.to_csv('Tim_Walz.csv',encoding='utf-8')\n",
    "csv = 'Tim_Walz.csv'\n",
    "temp = pd.read_csv(csv,index_col=0)\n",
    "temp.head()"
   ]
  },
  {
   "cell_type": "markdown",
   "metadata": {},
   "source": [
    "Jeff Johnson"
   ]
  },
  {
   "cell_type": "code",
   "execution_count": null,
   "metadata": {},
   "outputs": [],
   "source": [
    "tw.tweets(keywords=\"jeff johnson\", to_screen=False, stream=False)"
   ]
  },
  {
   "cell_type": "code",
   "execution_count": 37,
   "metadata": {},
   "outputs": [],
   "source": [
    "with open('/Users/niw0407/twitter-files/tweets.20181129-132147.json') as fp:\n",
    "    json2csv(fp, 'Jeff_Johnson.csv', ['text'])"
   ]
  },
  {
   "cell_type": "code",
   "execution_count": 79,
   "metadata": {},
   "outputs": [
    {
     "name": "stdout",
     "output_type": "stream",
     "text": [
      "Tweets cleaned.\n"
     ]
    },
    {
     "data": {
      "text/html": [
       "<div>\n",
       "<style scoped>\n",
       "    .dataframe tbody tr th:only-of-type {\n",
       "        vertical-align: middle;\n",
       "    }\n",
       "\n",
       "    .dataframe tbody tr th {\n",
       "        vertical-align: top;\n",
       "    }\n",
       "\n",
       "    .dataframe thead th {\n",
       "        text-align: right;\n",
       "    }\n",
       "</style>\n",
       "<table border=\"1\" class=\"dataframe\">\n",
       "  <thead>\n",
       "    <tr style=\"text-align: right;\">\n",
       "      <th></th>\n",
       "      <th>text</th>\n",
       "    </tr>\n",
       "  </thead>\n",
       "  <tbody>\n",
       "    <tr>\n",
       "      <th>0</th>\n",
       "      <td>serious complained days ago that his family wa...</td>\n",
       "    </tr>\n",
       "    <tr>\n",
       "      <th>1</th>\n",
       "      <td>rt there may be more to this story using the p...</td>\n",
       "    </tr>\n",
       "    <tr>\n",
       "      <th>2</th>\n",
       "      <td>after facing life without parole for crime he ...</td>\n",
       "    </tr>\n",
       "    <tr>\n",
       "      <th>3</th>\n",
       "      <td>rt there may be more to this story using the p...</td>\n",
       "    </tr>\n",
       "    <tr>\n",
       "      <th>4</th>\n",
       "      <td>rt mike johnson of phoney wrestling informatio...</td>\n",
       "    </tr>\n",
       "  </tbody>\n",
       "</table>\n",
       "</div>"
      ],
      "text/plain": [
       "                                                text\n",
       "0  serious complained days ago that his family wa...\n",
       "1  rt there may be more to this story using the p...\n",
       "2  after facing life without parole for crime he ...\n",
       "3  rt there may be more to this story using the p...\n",
       "4  rt mike johnson of phoney wrestling informatio..."
      ]
     },
     "execution_count": 79,
     "metadata": {},
     "output_type": "execute_result"
    }
   ],
   "source": [
    "import csv\n",
    "import pandas as pd\n",
    "clean_tweet_texts = []\n",
    "with open('Jeff_Johnson.csv') as csvfile:\n",
    "    readCSV = csv.reader(csvfile, delimiter=',')\n",
    "    i = 0\n",
    "    next(readCSV)\n",
    "    for row in readCSV:\n",
    "        ++i\n",
    "        clean_tweet_texts.append(clean_tweet(str(row)))\n",
    "    print(\"Tweets cleaned.\")\n",
    "\n",
    "clean_df = pd.DataFrame(clean_tweet_texts,columns=['text'])\n",
    "clean_df.to_csv('Jeff_Johnson.csv',encoding='utf-8')\n",
    "csv = 'Jeff_Johnson.csv'\n",
    "temp = pd.read_csv(csv,index_col=0)\n",
    "temp.head()"
   ]
  },
  {
   "cell_type": "markdown",
   "metadata": {},
   "source": [
    "## Nevada"
   ]
  },
  {
   "cell_type": "markdown",
   "metadata": {},
   "source": [
    "Steve Sisolak"
   ]
  },
  {
   "cell_type": "code",
   "execution_count": null,
   "metadata": {},
   "outputs": [],
   "source": [
    "tw.tweets(keywords=\"steve sisolak\", to_screen=False, stream=False)"
   ]
  },
  {
   "cell_type": "code",
   "execution_count": 39,
   "metadata": {},
   "outputs": [],
   "source": [
    "with open('/Users/niw0407/twitter-files/tweets.20181129-132322.json') as fp:\n",
    "    json2csv(fp, 'Steve_Sisolak.csv', ['text'])"
   ]
  },
  {
   "cell_type": "code",
   "execution_count": 80,
   "metadata": {},
   "outputs": [
    {
     "name": "stdout",
     "output_type": "stream",
     "text": [
      "Tweets cleaned.\n"
     ]
    },
    {
     "data": {
      "text/html": [
       "<div>\n",
       "<style scoped>\n",
       "    .dataframe tbody tr th:only-of-type {\n",
       "        vertical-align: middle;\n",
       "    }\n",
       "\n",
       "    .dataframe tbody tr th {\n",
       "        vertical-align: top;\n",
       "    }\n",
       "\n",
       "    .dataframe thead th {\n",
       "        text-align: right;\n",
       "    }\n",
       "</style>\n",
       "<table border=\"1\" class=\"dataframe\">\n",
       "  <thead>\n",
       "    <tr style=\"text-align: right;\">\n",
       "      <th></th>\n",
       "      <th>text</th>\n",
       "    </tr>\n",
       "  </thead>\n",
       "  <tbody>\n",
       "    <tr>\n",
       "      <th>0</th>\n",
       "      <td>rt is handing fully baked budget to his succes...</td>\n",
       "    </tr>\n",
       "    <tr>\n",
       "      <th>1</th>\n",
       "      <td>gov brian sandoval team has spent the last yea...</td>\n",
       "    </tr>\n",
       "    <tr>\n",
       "      <th>2</th>\n",
       "      <td>rt excited and honored to serve as member of g...</td>\n",
       "    </tr>\n",
       "    <tr>\n",
       "      <th>3</th>\n",
       "      <td>have what if question for followers following ...</td>\n",
       "    </tr>\n",
       "    <tr>\n",
       "      <th>4</th>\n",
       "      <td>excited and honored to serve as member of gove...</td>\n",
       "    </tr>\n",
       "  </tbody>\n",
       "</table>\n",
       "</div>"
      ],
      "text/plain": [
       "                                                text\n",
       "0  rt is handing fully baked budget to his succes...\n",
       "1  gov brian sandoval team has spent the last yea...\n",
       "2  rt excited and honored to serve as member of g...\n",
       "3  have what if question for followers following ...\n",
       "4  excited and honored to serve as member of gove..."
      ]
     },
     "execution_count": 80,
     "metadata": {},
     "output_type": "execute_result"
    }
   ],
   "source": [
    "import csv\n",
    "import pandas as pd\n",
    "clean_tweet_texts = []\n",
    "with open('Steve_Sisolak.csv') as csvfile:\n",
    "    readCSV = csv.reader(csvfile, delimiter=',')\n",
    "    i = 0\n",
    "    next(readCSV)\n",
    "    for row in readCSV:\n",
    "        ++i\n",
    "        clean_tweet_texts.append(clean_tweet(str(row)))\n",
    "    print(\"Tweets cleaned.\")\n",
    "\n",
    "clean_df = pd.DataFrame(clean_tweet_texts,columns=['text'])\n",
    "clean_df.to_csv('Steve_Sisolak.csv',encoding='utf-8')\n",
    "csv = 'Steve_Sisolak.csv'\n",
    "temp = pd.read_csv(csv,index_col=0)\n",
    "temp.head()"
   ]
  },
  {
   "cell_type": "markdown",
   "metadata": {},
   "source": [
    "Adam Laxalt"
   ]
  },
  {
   "cell_type": "code",
   "execution_count": null,
   "metadata": {},
   "outputs": [],
   "source": [
    "tw.tweets(keywords=\"adam laxalt\", to_screen=False, stream=False)"
   ]
  },
  {
   "cell_type": "code",
   "execution_count": 41,
   "metadata": {},
   "outputs": [],
   "source": [
    "with open('/Users/niw0407/twitter-files/tweets.20181129-132411.json') as fp:\n",
    "    json2csv(fp, 'Adam_Laxalt.csv', ['text'])"
   ]
  },
  {
   "cell_type": "code",
   "execution_count": 81,
   "metadata": {},
   "outputs": [
    {
     "name": "stdout",
     "output_type": "stream",
     "text": [
      "Tweets cleaned.\n"
     ]
    },
    {
     "data": {
      "text/html": [
       "<div>\n",
       "<style scoped>\n",
       "    .dataframe tbody tr th:only-of-type {\n",
       "        vertical-align: middle;\n",
       "    }\n",
       "\n",
       "    .dataframe tbody tr th {\n",
       "        vertical-align: top;\n",
       "    }\n",
       "\n",
       "    .dataframe thead th {\n",
       "        text-align: right;\n",
       "    }\n",
       "</style>\n",
       "<table border=\"1\" class=\"dataframe\">\n",
       "  <thead>\n",
       "    <tr style=\"text-align: right;\">\n",
       "      <th></th>\n",
       "      <th>text</th>\n",
       "    </tr>\n",
       "  </thead>\n",
       "  <tbody>\n",
       "    <tr>\n",
       "      <th>0</th>\n",
       "      <td>rt trump backed candidates dean heller and ada...</td>\n",
       "    </tr>\n",
       "    <tr>\n",
       "      <th>1</th>\n",
       "      <td>rt trump backed candidates dean heller and ada...</td>\n",
       "    </tr>\n",
       "    <tr>\n",
       "      <th>2</th>\n",
       "      <td>rt trump backed candidates dean heller and ada...</td>\n",
       "    </tr>\n",
       "    <tr>\n",
       "      <th>3</th>\n",
       "      <td>rt trump backed candidates dean heller and ada...</td>\n",
       "    </tr>\n",
       "    <tr>\n",
       "      <th>4</th>\n",
       "      <td>rt heading to nevada to help man who has becom...</td>\n",
       "    </tr>\n",
       "  </tbody>\n",
       "</table>\n",
       "</div>"
      ],
      "text/plain": [
       "                                                text\n",
       "0  rt trump backed candidates dean heller and ada...\n",
       "1  rt trump backed candidates dean heller and ada...\n",
       "2  rt trump backed candidates dean heller and ada...\n",
       "3  rt trump backed candidates dean heller and ada...\n",
       "4  rt heading to nevada to help man who has becom..."
      ]
     },
     "execution_count": 81,
     "metadata": {},
     "output_type": "execute_result"
    }
   ],
   "source": [
    "import csv\n",
    "import pandas as pd\n",
    "clean_tweet_texts = []\n",
    "with open('Adam_Laxalt.csv') as csvfile:\n",
    "    readCSV = csv.reader(csvfile, delimiter=',')\n",
    "    i = 0\n",
    "    next(readCSV)\n",
    "    for row in readCSV:\n",
    "        ++i\n",
    "        clean_tweet_texts.append(clean_tweet(str(row)))\n",
    "    print(\"Tweets cleaned.\")\n",
    "\n",
    "clean_df = pd.DataFrame(clean_tweet_texts,columns=['text'])\n",
    "clean_df.to_csv('Adam_Laxalt.csv',encoding='utf-8')\n",
    "csv = 'Adam_Laxalt.csv'\n",
    "temp = pd.read_csv(csv,index_col=0)\n",
    "temp.head()"
   ]
  },
  {
   "cell_type": "markdown",
   "metadata": {},
   "source": [
    "## Nebraska"
   ]
  },
  {
   "cell_type": "markdown",
   "metadata": {},
   "source": [
    "Pete Ricketts"
   ]
  },
  {
   "cell_type": "code",
   "execution_count": null,
   "metadata": {},
   "outputs": [],
   "source": [
    "tw.tweets(keywords=\"pete ricketts\", to_screen=False, stream=False)"
   ]
  },
  {
   "cell_type": "code",
   "execution_count": 44,
   "metadata": {},
   "outputs": [],
   "source": [
    "with open('/Users/niw0407/twitter-files/tweets.20181129-132535.json') as fp:\n",
    "    json2csv(fp, 'Pete_Ricketts.csv', ['text'])"
   ]
  },
  {
   "cell_type": "code",
   "execution_count": 83,
   "metadata": {},
   "outputs": [
    {
     "name": "stdout",
     "output_type": "stream",
     "text": [
      "Tweets cleaned.\n"
     ]
    },
    {
     "data": {
      "text/html": [
       "<div>\n",
       "<style scoped>\n",
       "    .dataframe tbody tr th:only-of-type {\n",
       "        vertical-align: middle;\n",
       "    }\n",
       "\n",
       "    .dataframe tbody tr th {\n",
       "        vertical-align: top;\n",
       "    }\n",
       "\n",
       "    .dataframe thead th {\n",
       "        text-align: right;\n",
       "    }\n",
       "</style>\n",
       "<table border=\"1\" class=\"dataframe\">\n",
       "  <thead>\n",
       "    <tr style=\"text-align: right;\">\n",
       "      <th></th>\n",
       "      <th>text</th>\n",
       "    </tr>\n",
       "  </thead>\n",
       "  <tbody>\n",
       "    <tr>\n",
       "      <th>0</th>\n",
       "      <td>rt pete ricketts vetoed lb providing million i...</td>\n",
       "    </tr>\n",
       "    <tr>\n",
       "      <th>1</th>\n",
       "      <td>pete ricketts vetoed lb providing million in p...</td>\n",
       "    </tr>\n",
       "    <tr>\n",
       "      <th>2</th>\n",
       "      <td>any idea if this is the same source for nebras...</td>\n",
       "    </tr>\n",
       "    <tr>\n",
       "      <th>3</th>\n",
       "      <td>and when ride my bike through the center of ev...</td>\n",
       "    </tr>\n",
       "    <tr>\n",
       "      <th>4</th>\n",
       "      <td>do ever think about how much of dumbass pete r...</td>\n",
       "    </tr>\n",
       "  </tbody>\n",
       "</table>\n",
       "</div>"
      ],
      "text/plain": [
       "                                                text\n",
       "0  rt pete ricketts vetoed lb providing million i...\n",
       "1  pete ricketts vetoed lb providing million in p...\n",
       "2  any idea if this is the same source for nebras...\n",
       "3  and when ride my bike through the center of ev...\n",
       "4  do ever think about how much of dumbass pete r..."
      ]
     },
     "execution_count": 83,
     "metadata": {},
     "output_type": "execute_result"
    }
   ],
   "source": [
    "import csv\n",
    "import pandas as pd\n",
    "clean_tweet_texts = []\n",
    "with open('Pete_Ricketts.csv') as csvfile:\n",
    "    readCSV = csv.reader(csvfile, delimiter=',')\n",
    "    i = 0\n",
    "    next(readCSV)\n",
    "    for row in readCSV:\n",
    "        ++i\n",
    "        clean_tweet_texts.append(clean_tweet(str(row)))\n",
    "    print(\"Tweets cleaned.\")\n",
    "\n",
    "clean_df = pd.DataFrame(clean_tweet_texts,columns=['text'])\n",
    "clean_df.to_csv('Pete_Ricketts.csv',encoding='utf-8')\n",
    "csv = 'Pete_Ricketts.csv'\n",
    "temp = pd.read_csv(csv,index_col=0)\n",
    "temp.head()"
   ]
  },
  {
   "cell_type": "markdown",
   "metadata": {},
   "source": [
    "Bob Krist"
   ]
  },
  {
   "cell_type": "code",
   "execution_count": null,
   "metadata": {},
   "outputs": [],
   "source": [
    "tw.tweets(keywords=\"bob krist\", to_screen=False, stream=False)"
   ]
  },
  {
   "cell_type": "code",
   "execution_count": 46,
   "metadata": {},
   "outputs": [],
   "source": [
    "with open('/Users/niw0407/twitter-files/tweets.20181129-132621.json') as fp:\n",
    "    json2csv(fp, 'Bob_Krist.csv', ['text'])"
   ]
  },
  {
   "cell_type": "code",
   "execution_count": 84,
   "metadata": {},
   "outputs": [
    {
     "name": "stdout",
     "output_type": "stream",
     "text": [
      "Tweets cleaned.\n"
     ]
    },
    {
     "data": {
      "text/html": [
       "<div>\n",
       "<style scoped>\n",
       "    .dataframe tbody tr th:only-of-type {\n",
       "        vertical-align: middle;\n",
       "    }\n",
       "\n",
       "    .dataframe tbody tr th {\n",
       "        vertical-align: top;\n",
       "    }\n",
       "\n",
       "    .dataframe thead th {\n",
       "        text-align: right;\n",
       "    }\n",
       "</style>\n",
       "<table border=\"1\" class=\"dataframe\">\n",
       "  <thead>\n",
       "    <tr style=\"text-align: right;\">\n",
       "      <th></th>\n",
       "      <th>text</th>\n",
       "    </tr>\n",
       "  </thead>\n",
       "  <tbody>\n",
       "    <tr>\n",
       "      <th>0</th>\n",
       "      <td>the party chair who embraces ben nelson bob kr...</td>\n",
       "    </tr>\n",
       "    <tr>\n",
       "      <th>1</th>\n",
       "      <td>the weirdest part about the drinking at lunch ...</td>\n",
       "    </tr>\n",
       "    <tr>\n",
       "      <th>2</th>\n",
       "      <td>governor bob krist won the county by similar m...</td>\n",
       "    </tr>\n",
       "    <tr>\n",
       "      <th>3</th>\n",
       "      <td>rt the fake news media builds bob mueller up a...</td>\n",
       "    </tr>\n",
       "    <tr>\n",
       "      <th>4</th>\n",
       "      <td>did bob krist also lose his seat</td>\n",
       "    </tr>\n",
       "  </tbody>\n",
       "</table>\n",
       "</div>"
      ],
      "text/plain": [
       "                                                text\n",
       "0  the party chair who embraces ben nelson bob kr...\n",
       "1  the weirdest part about the drinking at lunch ...\n",
       "2  governor bob krist won the county by similar m...\n",
       "3  rt the fake news media builds bob mueller up a...\n",
       "4                   did bob krist also lose his seat"
      ]
     },
     "execution_count": 84,
     "metadata": {},
     "output_type": "execute_result"
    }
   ],
   "source": [
    "import csv\n",
    "import pandas as pd\n",
    "clean_tweet_texts = []\n",
    "with open('Bob_Krist.csv') as csvfile:\n",
    "    readCSV = csv.reader(csvfile, delimiter=',')\n",
    "    i = 0\n",
    "    next(readCSV)\n",
    "    for row in readCSV:\n",
    "        ++i\n",
    "        clean_tweet_texts.append(clean_tweet(str(row)))\n",
    "    print(\"Tweets cleaned.\")\n",
    "\n",
    "clean_df = pd.DataFrame(clean_tweet_texts,columns=['text'])\n",
    "clean_df.to_csv('Bob_Krist.csv',encoding='utf-8')\n",
    "csv = 'Bob_Krist.csv'\n",
    "temp = pd.read_csv(csv,index_col=0)\n",
    "temp.head()"
   ]
  },
  {
   "cell_type": "markdown",
   "metadata": {},
   "source": [
    "## New Hampshire"
   ]
  },
  {
   "cell_type": "markdown",
   "metadata": {},
   "source": [
    "Chris Sununu"
   ]
  },
  {
   "cell_type": "code",
   "execution_count": null,
   "metadata": {},
   "outputs": [],
   "source": [
    "tw.tweets(keywords=\"chris sununu\", to_screen=False, stream=False)"
   ]
  },
  {
   "cell_type": "code",
   "execution_count": 48,
   "metadata": {},
   "outputs": [],
   "source": [
    "with open('/Users/niw0407/twitter-files/tweets.20181129-132945.json') as fp:\n",
    "    json2csv(fp, 'Chris_Sununu.csv', ['text'])"
   ]
  },
  {
   "cell_type": "code",
   "execution_count": 85,
   "metadata": {},
   "outputs": [
    {
     "name": "stdout",
     "output_type": "stream",
     "text": [
      "Tweets cleaned.\n"
     ]
    },
    {
     "data": {
      "text/html": [
       "<div>\n",
       "<style scoped>\n",
       "    .dataframe tbody tr th:only-of-type {\n",
       "        vertical-align: middle;\n",
       "    }\n",
       "\n",
       "    .dataframe tbody tr th {\n",
       "        vertical-align: top;\n",
       "    }\n",
       "\n",
       "    .dataframe thead th {\n",
       "        text-align: right;\n",
       "    }\n",
       "</style>\n",
       "<table border=\"1\" class=\"dataframe\">\n",
       "  <thead>\n",
       "    <tr style=\"text-align: right;\">\n",
       "      <th></th>\n",
       "      <th>text</th>\n",
       "    </tr>\n",
       "  </thead>\n",
       "  <tbody>\n",
       "    <tr>\n",
       "      <th>0</th>\n",
       "      <td>NaN</td>\n",
       "    </tr>\n",
       "    <tr>\n",
       "      <th>1</th>\n",
       "      <td>the republican primary voters in the post trum...</td>\n",
       "    </tr>\n",
       "    <tr>\n",
       "      <th>2</th>\n",
       "      <td>rt we need to make chris sununu one term gover...</td>\n",
       "    </tr>\n",
       "    <tr>\n",
       "      <th>3</th>\n",
       "      <td>sad to hear matt is bowing out guess chris sun...</td>\n",
       "    </tr>\n",
       "    <tr>\n",
       "      <th>4</th>\n",
       "      <td>gonna run for governor the second can specific...</td>\n",
       "    </tr>\n",
       "  </tbody>\n",
       "</table>\n",
       "</div>"
      ],
      "text/plain": [
       "                                                text\n",
       "0                                                NaN\n",
       "1  the republican primary voters in the post trum...\n",
       "2  rt we need to make chris sununu one term gover...\n",
       "3  sad to hear matt is bowing out guess chris sun...\n",
       "4  gonna run for governor the second can specific..."
      ]
     },
     "execution_count": 85,
     "metadata": {},
     "output_type": "execute_result"
    }
   ],
   "source": [
    "import csv\n",
    "import pandas as pd\n",
    "clean_tweet_texts = []\n",
    "with open('Chris_Sununu.csv') as csvfile:\n",
    "    readCSV = csv.reader(csvfile, delimiter=',')\n",
    "    i = 0\n",
    "    next(readCSV)\n",
    "    for row in readCSV:\n",
    "        ++i\n",
    "        clean_tweet_texts.append(clean_tweet(str(row)))\n",
    "    print(\"Tweets cleaned.\")\n",
    "\n",
    "clean_df = pd.DataFrame(clean_tweet_texts,columns=['text'])\n",
    "clean_df.to_csv('Chris_Sununu.csv',encoding='utf-8')\n",
    "csv = 'Chris_Sununu.csv'\n",
    "temp = pd.read_csv(csv,index_col=0)\n",
    "temp.head()"
   ]
  },
  {
   "cell_type": "markdown",
   "metadata": {},
   "source": [
    "Molly Kelly"
   ]
  },
  {
   "cell_type": "code",
   "execution_count": null,
   "metadata": {},
   "outputs": [],
   "source": [
    "tw.tweets(keywords=\"molly kelly\", to_screen=False, stream=False)"
   ]
  },
  {
   "cell_type": "code",
   "execution_count": 50,
   "metadata": {},
   "outputs": [],
   "source": [
    "with open('/Users/niw0407/twitter-files/tweets.20181129-133024.json') as fp:\n",
    "    json2csv(fp, 'Molly_Kelly.csv', ['text'])"
   ]
  },
  {
   "cell_type": "code",
   "execution_count": 86,
   "metadata": {},
   "outputs": [
    {
     "name": "stdout",
     "output_type": "stream",
     "text": [
      "Tweets cleaned.\n"
     ]
    },
    {
     "data": {
      "text/html": [
       "<div>\n",
       "<style scoped>\n",
       "    .dataframe tbody tr th:only-of-type {\n",
       "        vertical-align: middle;\n",
       "    }\n",
       "\n",
       "    .dataframe tbody tr th {\n",
       "        vertical-align: top;\n",
       "    }\n",
       "\n",
       "    .dataframe thead th {\n",
       "        text-align: right;\n",
       "    }\n",
       "</style>\n",
       "<table border=\"1\" class=\"dataframe\">\n",
       "  <thead>\n",
       "    <tr style=\"text-align: right;\">\n",
       "      <th></th>\n",
       "      <th>text</th>\n",
       "    </tr>\n",
       "  </thead>\n",
       "  <tbody>\n",
       "    <tr>\n",
       "      <th>0</th>\n",
       "      <td>rt ladies if he getting dirty money stacking p...</td>\n",
       "    </tr>\n",
       "    <tr>\n",
       "      <th>1</th>\n",
       "      <td>incidentally dr kelly reddy best who molly tal...</td>\n",
       "    </tr>\n",
       "    <tr>\n",
       "      <th>2</th>\n",
       "      <td>think of all the great players to go through t...</td>\n",
       "    </tr>\n",
       "    <tr>\n",
       "      <th>3</th>\n",
       "      <td>or is vet tech already nandrea corey molly gri...</td>\n",
       "    </tr>\n",
       "    <tr>\n",
       "      <th>4</th>\n",
       "      <td>zack and kelly</td>\n",
       "    </tr>\n",
       "  </tbody>\n",
       "</table>\n",
       "</div>"
      ],
      "text/plain": [
       "                                                text\n",
       "0  rt ladies if he getting dirty money stacking p...\n",
       "1  incidentally dr kelly reddy best who molly tal...\n",
       "2  think of all the great players to go through t...\n",
       "3  or is vet tech already nandrea corey molly gri...\n",
       "4                                     zack and kelly"
      ]
     },
     "execution_count": 86,
     "metadata": {},
     "output_type": "execute_result"
    }
   ],
   "source": [
    "import csv\n",
    "import pandas as pd\n",
    "clean_tweet_texts = []\n",
    "with open('Molly_Kelly.csv') as csvfile:\n",
    "    readCSV = csv.reader(csvfile, delimiter=',')\n",
    "    i = 0\n",
    "    next(readCSV)\n",
    "    for row in readCSV:\n",
    "        ++i\n",
    "        clean_tweet_texts.append(clean_tweet(str(row)))\n",
    "    print(\"Tweets cleaned.\")\n",
    "\n",
    "clean_df = pd.DataFrame(clean_tweet_texts,columns=['text'])\n",
    "clean_df.to_csv('Molly_Kelly.csv',encoding='utf-8')\n",
    "csv = 'Molly_Kelly.csv'\n",
    "temp = pd.read_csv(csv,index_col=0)\n",
    "temp.head()"
   ]
  },
  {
   "cell_type": "markdown",
   "metadata": {},
   "source": [
    "## New Mexico "
   ]
  },
  {
   "cell_type": "markdown",
   "metadata": {},
   "source": [
    "Michelle Lujan Grisham"
   ]
  },
  {
   "cell_type": "code",
   "execution_count": null,
   "metadata": {},
   "outputs": [],
   "source": [
    "tw.tweets(keywords=\"michelle lujan grisham, michelle grisham\", to_screen=False, stream=False)"
   ]
  },
  {
   "cell_type": "code",
   "execution_count": 52,
   "metadata": {},
   "outputs": [],
   "source": [
    "with open('/Users/niw0407/twitter-files/tweets.20181129-133148.json') as fp:\n",
    "    json2csv(fp, 'Michelle_Lujan_Grisham.csv', ['text'])"
   ]
  },
  {
   "cell_type": "code",
   "execution_count": 87,
   "metadata": {},
   "outputs": [
    {
     "name": "stdout",
     "output_type": "stream",
     "text": [
      "Tweets cleaned.\n"
     ]
    },
    {
     "data": {
      "text/html": [
       "<div>\n",
       "<style scoped>\n",
       "    .dataframe tbody tr th:only-of-type {\n",
       "        vertical-align: middle;\n",
       "    }\n",
       "\n",
       "    .dataframe tbody tr th {\n",
       "        vertical-align: top;\n",
       "    }\n",
       "\n",
       "    .dataframe thead th {\n",
       "        text-align: right;\n",
       "    }\n",
       "</style>\n",
       "<table border=\"1\" class=\"dataframe\">\n",
       "  <thead>\n",
       "    <tr style=\"text-align: right;\">\n",
       "      <th></th>\n",
       "      <th>text</th>\n",
       "    </tr>\n",
       "  </thead>\n",
       "  <tbody>\n",
       "    <tr>\n",
       "      <th>0</th>\n",
       "      <td>rt working on some important stories now inclu...</td>\n",
       "    </tr>\n",
       "    <tr>\n",
       "      <th>1</th>\n",
       "      <td>working on some important stories now includin...</td>\n",
       "    </tr>\n",
       "    <tr>\n",
       "      <th>2</th>\n",
       "      <td>define blue wave vs blue dogs democrat michell...</td>\n",
       "    </tr>\n",
       "    <tr>\n",
       "      <th>3</th>\n",
       "      <td>michelle lujan grisham just another puppet pro...</td>\n",
       "    </tr>\n",
       "    <tr>\n",
       "      <th>4</th>\n",
       "      <td>rt the main missed post midterms narrative on ...</td>\n",
       "    </tr>\n",
       "  </tbody>\n",
       "</table>\n",
       "</div>"
      ],
      "text/plain": [
       "                                                text\n",
       "0  rt working on some important stories now inclu...\n",
       "1  working on some important stories now includin...\n",
       "2  define blue wave vs blue dogs democrat michell...\n",
       "3  michelle lujan grisham just another puppet pro...\n",
       "4  rt the main missed post midterms narrative on ..."
      ]
     },
     "execution_count": 87,
     "metadata": {},
     "output_type": "execute_result"
    }
   ],
   "source": [
    "import csv\n",
    "import pandas as pd\n",
    "clean_tweet_texts = []\n",
    "with open('Michelle_Lujan_Grisham.csv') as csvfile:\n",
    "    readCSV = csv.reader(csvfile, delimiter=',')\n",
    "    i = 0\n",
    "    next(readCSV)\n",
    "    for row in readCSV:\n",
    "        ++i\n",
    "        clean_tweet_texts.append(clean_tweet(str(row)))\n",
    "    print(\"Tweets cleaned.\")\n",
    "\n",
    "clean_df = pd.DataFrame(clean_tweet_texts,columns=['text'])\n",
    "clean_df.to_csv('Michelle_Lujan_Grisham.csv',encoding='utf-8')\n",
    "csv = 'Michelle_Lujan_Grisham.csv'\n",
    "temp = pd.read_csv(csv,index_col=0)\n",
    "temp.head()"
   ]
  },
  {
   "cell_type": "markdown",
   "metadata": {},
   "source": [
    "Steve Pearce"
   ]
  },
  {
   "cell_type": "code",
   "execution_count": null,
   "metadata": {},
   "outputs": [],
   "source": [
    "tw.tweets(keywords=\"steve pearce\", to_screen=False, stream=False)"
   ]
  },
  {
   "cell_type": "code",
   "execution_count": 54,
   "metadata": {},
   "outputs": [],
   "source": [
    "with open('/Users/niw0407/twitter-files/tweets.20181129-133227.json') as fp:\n",
    "    json2csv(fp, 'Steve_Pearce.csv', ['text'])"
   ]
  },
  {
   "cell_type": "code",
   "execution_count": 88,
   "metadata": {},
   "outputs": [
    {
     "name": "stdout",
     "output_type": "stream",
     "text": [
      "Tweets cleaned.\n"
     ]
    },
    {
     "data": {
      "text/html": [
       "<div>\n",
       "<style scoped>\n",
       "    .dataframe tbody tr th:only-of-type {\n",
       "        vertical-align: middle;\n",
       "    }\n",
       "\n",
       "    .dataframe tbody tr th {\n",
       "        vertical-align: top;\n",
       "    }\n",
       "\n",
       "    .dataframe thead th {\n",
       "        text-align: right;\n",
       "    }\n",
       "</style>\n",
       "<table border=\"1\" class=\"dataframe\">\n",
       "  <thead>\n",
       "    <tr style=\"text-align: right;\">\n",
       "      <th></th>\n",
       "      <th>text</th>\n",
       "    </tr>\n",
       "  </thead>\n",
       "  <tbody>\n",
       "    <tr>\n",
       "      <th>0</th>\n",
       "      <td>rt so nobody told me that steve pearce tweeted...</td>\n",
       "    </tr>\n",
       "    <tr>\n",
       "      <th>1</th>\n",
       "      <td>rt congratulations steve pearce for being the ...</td>\n",
       "    </tr>\n",
       "    <tr>\n",
       "      <th>2</th>\n",
       "      <td>st louis has traded away picks and to detroit ...</td>\n",
       "    </tr>\n",
       "    <tr>\n",
       "      <th>3</th>\n",
       "      <td>the boston red sox sign steve pearce year mill...</td>\n",
       "    </tr>\n",
       "    <tr>\n",
       "      <th>4</th>\n",
       "      <td>rt months ago steve bannon went to jeffrey eps...</td>\n",
       "    </tr>\n",
       "  </tbody>\n",
       "</table>\n",
       "</div>"
      ],
      "text/plain": [
       "                                                text\n",
       "0  rt so nobody told me that steve pearce tweeted...\n",
       "1  rt congratulations steve pearce for being the ...\n",
       "2  st louis has traded away picks and to detroit ...\n",
       "3  the boston red sox sign steve pearce year mill...\n",
       "4  rt months ago steve bannon went to jeffrey eps..."
      ]
     },
     "execution_count": 88,
     "metadata": {},
     "output_type": "execute_result"
    }
   ],
   "source": [
    "import csv\n",
    "import pandas as pd\n",
    "clean_tweet_texts = []\n",
    "with open('Steve_Pearce.csv') as csvfile:\n",
    "    readCSV = csv.reader(csvfile, delimiter=',')\n",
    "    i = 0\n",
    "    next(readCSV)\n",
    "    for row in readCSV:\n",
    "        ++i\n",
    "        clean_tweet_texts.append(clean_tweet(str(row)))\n",
    "    print(\"Tweets cleaned.\")\n",
    "\n",
    "clean_df = pd.DataFrame(clean_tweet_texts,columns=['text'])\n",
    "clean_df.to_csv('Steve_Pearce.csv',encoding='utf-8')\n",
    "csv = 'Steve_Pearce.csv'\n",
    "temp = pd.read_csv(csv,index_col=0)\n",
    "temp.head()"
   ]
  },
  {
   "cell_type": "markdown",
   "metadata": {},
   "source": [
    "## New York"
   ]
  },
  {
   "cell_type": "markdown",
   "metadata": {},
   "source": [
    "Andrew Cuomo"
   ]
  },
  {
   "cell_type": "code",
   "execution_count": null,
   "metadata": {},
   "outputs": [],
   "source": [
    "%env TWITTER=/Users/niw0407/Desktop/twitter-files\n",
    "from nltk.twitter import Twitter\n",
    "\n",
    "tw = Twitter()\n",
    "tw.tweets(keywords=\"andrew cuomo\", to_screen=False, stream=False)"
   ]
  },
  {
   "cell_type": "code",
   "execution_count": 6,
   "metadata": {},
   "outputs": [],
   "source": [
    "from nltk.twitter.common import json2csv\n",
    "with open('/Users/niw0407/twitter-files/tweets.20181129-154926.json') as fp:\n",
    "    json2csv(fp, 'Andrew_Cuomo.csv', ['id','text'])"
   ]
  },
  {
   "cell_type": "code",
   "execution_count": 89,
   "metadata": {},
   "outputs": [
    {
     "name": "stdout",
     "output_type": "stream",
     "text": [
      "Tweets cleaned.\n"
     ]
    },
    {
     "data": {
      "text/html": [
       "<div>\n",
       "<style scoped>\n",
       "    .dataframe tbody tr th:only-of-type {\n",
       "        vertical-align: middle;\n",
       "    }\n",
       "\n",
       "    .dataframe tbody tr th {\n",
       "        vertical-align: top;\n",
       "    }\n",
       "\n",
       "    .dataframe thead th {\n",
       "        text-align: right;\n",
       "    }\n",
       "</style>\n",
       "<table border=\"1\" class=\"dataframe\">\n",
       "  <thead>\n",
       "    <tr style=\"text-align: right;\">\n",
       "      <th></th>\n",
       "      <th>text</th>\n",
       "    </tr>\n",
       "  </thead>\n",
       "  <tbody>\n",
       "    <tr>\n",
       "      <th>0</th>\n",
       "      <td>rt commentary at warns of carceral humanism wi...</td>\n",
       "    </tr>\n",
       "    <tr>\n",
       "      <th>1</th>\n",
       "      <td>rt in the end sure they will come to deal to h...</td>\n",
       "    </tr>\n",
       "    <tr>\n",
       "      <th>2</th>\n",
       "      <td>two strong contenders senator cory booker and ...</td>\n",
       "    </tr>\n",
       "    <tr>\n",
       "      <th>3</th>\n",
       "      <td>rt in the end sure they will come to deal to h...</td>\n",
       "    </tr>\n",
       "    <tr>\n",
       "      <th>4</th>\n",
       "      <td>rt in the end sure they will come to deal to h...</td>\n",
       "    </tr>\n",
       "  </tbody>\n",
       "</table>\n",
       "</div>"
      ],
      "text/plain": [
       "                                                text\n",
       "0  rt commentary at warns of carceral humanism wi...\n",
       "1  rt in the end sure they will come to deal to h...\n",
       "2  two strong contenders senator cory booker and ...\n",
       "3  rt in the end sure they will come to deal to h...\n",
       "4  rt in the end sure they will come to deal to h..."
      ]
     },
     "execution_count": 89,
     "metadata": {},
     "output_type": "execute_result"
    }
   ],
   "source": [
    "import csv\n",
    "import pandas as pd\n",
    "clean_tweet_texts = []\n",
    "with open('Andrew_Cuomo.csv') as csvfile:\n",
    "    readCSV = csv.reader(csvfile, delimiter=',')\n",
    "    i = 0\n",
    "    next(readCSV)\n",
    "    for row in readCSV:\n",
    "        ++i\n",
    "        clean_tweet_texts.append(clean_tweet(str(row)))\n",
    "    print(\"Tweets cleaned.\")\n",
    "\n",
    "clean_df = pd.DataFrame(clean_tweet_texts,columns=['text'])\n",
    "clean_df.to_csv('Andrew_Cuomo.csv',encoding='utf-8')\n",
    "csv = 'Andrew_Cuomo.csv'\n",
    "temp = pd.read_csv(csv,index_col=0)\n",
    "temp.head()"
   ]
  },
  {
   "cell_type": "markdown",
   "metadata": {},
   "source": [
    "Marc Molinaro"
   ]
  },
  {
   "cell_type": "code",
   "execution_count": null,
   "metadata": {},
   "outputs": [],
   "source": [
    "tw.tweets(keywords=\"marc molinaro\", to_screen=False, stream=False)"
   ]
  },
  {
   "cell_type": "code",
   "execution_count": 59,
   "metadata": {},
   "outputs": [],
   "source": [
    "with open('/Users/niw0407/twitter-files/tweets.20181129-133419.json') as fp:\n",
    "    json2csv(fp, 'Marc_Molinaro.csv', ['text'])"
   ]
  },
  {
   "cell_type": "code",
   "execution_count": 90,
   "metadata": {},
   "outputs": [
    {
     "name": "stdout",
     "output_type": "stream",
     "text": [
      "Tweets cleaned.\n"
     ]
    },
    {
     "data": {
      "text/html": [
       "<div>\n",
       "<style scoped>\n",
       "    .dataframe tbody tr th:only-of-type {\n",
       "        vertical-align: middle;\n",
       "    }\n",
       "\n",
       "    .dataframe tbody tr th {\n",
       "        vertical-align: top;\n",
       "    }\n",
       "\n",
       "    .dataframe thead th {\n",
       "        text-align: right;\n",
       "    }\n",
       "</style>\n",
       "<table border=\"1\" class=\"dataframe\">\n",
       "  <thead>\n",
       "    <tr style=\"text-align: right;\">\n",
       "      <th></th>\n",
       "      <th>text</th>\n",
       "    </tr>\n",
       "  </thead>\n",
       "  <tbody>\n",
       "    <tr>\n",
       "      <th>0</th>\n",
       "      <td>the president had tougher words for cuomo repu...</td>\n",
       "    </tr>\n",
       "    <tr>\n",
       "      <th>1</th>\n",
       "      <td>you said at your rally you never forget about ...</td>\n",
       "    </tr>\n",
       "    <tr>\n",
       "      <th>2</th>\n",
       "      <td>decided do little math with the nys governor e...</td>\n",
       "    </tr>\n",
       "    <tr>\n",
       "      <th>3</th>\n",
       "      <td>the president had tougher words for cuomo repu...</td>\n",
       "    </tr>\n",
       "    <tr>\n",
       "      <th>4</th>\n",
       "      <td>rt trump says that marc molinaro who lost by p...</td>\n",
       "    </tr>\n",
       "  </tbody>\n",
       "</table>\n",
       "</div>"
      ],
      "text/plain": [
       "                                                text\n",
       "0  the president had tougher words for cuomo repu...\n",
       "1  you said at your rally you never forget about ...\n",
       "2  decided do little math with the nys governor e...\n",
       "3  the president had tougher words for cuomo repu...\n",
       "4  rt trump says that marc molinaro who lost by p..."
      ]
     },
     "execution_count": 90,
     "metadata": {},
     "output_type": "execute_result"
    }
   ],
   "source": [
    "import csv\n",
    "import pandas as pd\n",
    "clean_tweet_texts = []\n",
    "with open('Marc_Molinaro.csv') as csvfile:\n",
    "    readCSV = csv.reader(csvfile, delimiter=',')\n",
    "    i = 0\n",
    "    next(readCSV)\n",
    "    for row in readCSV:\n",
    "        ++i\n",
    "        clean_tweet_texts.append(clean_tweet(str(row)))\n",
    "    print(\"Tweets cleaned.\")\n",
    "\n",
    "clean_df = pd.DataFrame(clean_tweet_texts,columns=['text'])\n",
    "clean_df.to_csv('Marc_Molinaro.csv',encoding='utf-8')\n",
    "csv = 'Marc_Molinaro.csv'\n",
    "temp = pd.read_csv(csv,index_col=0)\n",
    "temp.head()"
   ]
  },
  {
   "cell_type": "markdown",
   "metadata": {},
   "source": [
    "## Northern Mariana Islands"
   ]
  },
  {
   "cell_type": "markdown",
   "metadata": {},
   "source": [
    "Ralph Torres"
   ]
  },
  {
   "cell_type": "code",
   "execution_count": null,
   "metadata": {},
   "outputs": [],
   "source": [
    "tw.tweets(keywords=\"ralph torres\", to_screen=False, stream=False)"
   ]
  },
  {
   "cell_type": "code",
   "execution_count": 61,
   "metadata": {},
   "outputs": [],
   "source": [
    "with open('/Users/niw0407/twitter-files/tweets.20181129-133537.json') as fp:\n",
    "    json2csv(fp, 'Ralph_Torres.csv', ['text'])"
   ]
  },
  {
   "cell_type": "code",
   "execution_count": 91,
   "metadata": {},
   "outputs": [
    {
     "name": "stdout",
     "output_type": "stream",
     "text": [
      "Tweets cleaned.\n"
     ]
    },
    {
     "data": {
      "text/html": [
       "<div>\n",
       "<style scoped>\n",
       "    .dataframe tbody tr th:only-of-type {\n",
       "        vertical-align: middle;\n",
       "    }\n",
       "\n",
       "    .dataframe tbody tr th {\n",
       "        vertical-align: top;\n",
       "    }\n",
       "\n",
       "    .dataframe thead th {\n",
       "        text-align: right;\n",
       "    }\n",
       "</style>\n",
       "<table border=\"1\" class=\"dataframe\">\n",
       "  <thead>\n",
       "    <tr style=\"text-align: right;\">\n",
       "      <th></th>\n",
       "      <th>text</th>\n",
       "    </tr>\n",
       "  </thead>\n",
       "  <tbody>\n",
       "    <tr>\n",
       "      <th>0</th>\n",
       "      <td>rt ralph torres boisestate graduate has served...</td>\n",
       "    </tr>\n",
       "    <tr>\n",
       "      <th>1</th>\n",
       "      <td>ralph torres boisestate graduate has served as...</td>\n",
       "    </tr>\n",
       "    <tr>\n",
       "      <th>2</th>\n",
       "      <td>mr torres was para educator and assistant boys...</td>\n",
       "    </tr>\n",
       "    <tr>\n",
       "      <th>3</th>\n",
       "      <td>rt my work brother passed over the holiday he ...</td>\n",
       "    </tr>\n",
       "    <tr>\n",
       "      <th>4</th>\n",
       "      <td>rt one of the kindest guys knew growing up alw...</td>\n",
       "    </tr>\n",
       "  </tbody>\n",
       "</table>\n",
       "</div>"
      ],
      "text/plain": [
       "                                                text\n",
       "0  rt ralph torres boisestate graduate has served...\n",
       "1  ralph torres boisestate graduate has served as...\n",
       "2  mr torres was para educator and assistant boys...\n",
       "3  rt my work brother passed over the holiday he ...\n",
       "4  rt one of the kindest guys knew growing up alw..."
      ]
     },
     "execution_count": 91,
     "metadata": {},
     "output_type": "execute_result"
    }
   ],
   "source": [
    "import csv\n",
    "import pandas as pd\n",
    "clean_tweet_texts = []\n",
    "with open('Ralph_Torres.csv') as csvfile:\n",
    "    readCSV = csv.reader(csvfile, delimiter=',')\n",
    "    i = 0\n",
    "    next(readCSV)\n",
    "    for row in readCSV:\n",
    "        ++i\n",
    "        clean_tweet_texts.append(clean_tweet(str(row)))\n",
    "    print(\"Tweets cleaned.\")\n",
    "\n",
    "clean_df = pd.DataFrame(clean_tweet_texts,columns=['text'])\n",
    "clean_df.to_csv('Ralph_Torres.csv',encoding='utf-8')\n",
    "csv = 'Ralph_Torres.csv'\n",
    "temp = pd.read_csv(csv,index_col=0)\n",
    "temp.head()"
   ]
  },
  {
   "cell_type": "markdown",
   "metadata": {},
   "source": [
    "Juan Babauta = NO DATA :("
   ]
  },
  {
   "cell_type": "code",
   "execution_count": 62,
   "metadata": {},
   "outputs": [
    {
     "name": "stdout",
     "output_type": "stream",
     "text": [
      "No Tweets available through REST API for those keywords\n",
      "Written 0 Tweets\n"
     ]
    }
   ],
   "source": [
    "tw.tweets(keywords=\"juan babauta\", to_screen=False, stream=False)"
   ]
  },
  {
   "cell_type": "markdown",
   "metadata": {},
   "source": [
    "## Ohio"
   ]
  },
  {
   "cell_type": "markdown",
   "metadata": {},
   "source": [
    "Mike DeWine"
   ]
  },
  {
   "cell_type": "code",
   "execution_count": null,
   "metadata": {},
   "outputs": [],
   "source": [
    "tw.tweets(keywords=\"mike dewine\", to_screen=False, stream=False)"
   ]
  },
  {
   "cell_type": "code",
   "execution_count": 64,
   "metadata": {},
   "outputs": [],
   "source": [
    "with open('/Users/niw0407/twitter-files/tweets.20181129-133716.json') as fp:\n",
    "    json2csv(fp, 'Mike_DeWine.csv', ['text'])"
   ]
  },
  {
   "cell_type": "code",
   "execution_count": 93,
   "metadata": {},
   "outputs": [
    {
     "name": "stdout",
     "output_type": "stream",
     "text": [
      "Tweets cleaned.\n"
     ]
    },
    {
     "data": {
      "text/html": [
       "<div>\n",
       "<style scoped>\n",
       "    .dataframe tbody tr th:only-of-type {\n",
       "        vertical-align: middle;\n",
       "    }\n",
       "\n",
       "    .dataframe tbody tr th {\n",
       "        vertical-align: top;\n",
       "    }\n",
       "\n",
       "    .dataframe thead th {\n",
       "        text-align: right;\n",
       "    }\n",
       "</style>\n",
       "<table border=\"1\" class=\"dataframe\">\n",
       "  <thead>\n",
       "    <tr style=\"text-align: right;\">\n",
       "      <th></th>\n",
       "      <th>text</th>\n",
       "    </tr>\n",
       "  </thead>\n",
       "  <tbody>\n",
       "    <tr>\n",
       "      <th>0</th>\n",
       "      <td>how did ohioans who voted for sherrod brown sp...</td>\n",
       "    </tr>\n",
       "    <tr>\n",
       "      <th>1</th>\n",
       "      <td>thank you for expanding medicaid governor hope...</td>\n",
       "    </tr>\n",
       "    <tr>\n",
       "      <th>2</th>\n",
       "      <td>murderer gets let out thanks to mike dewine re...</td>\n",
       "    </tr>\n",
       "    <tr>\n",
       "      <th>3</th>\n",
       "      <td>rt pike county murders wagner family discussed...</td>\n",
       "    </tr>\n",
       "    <tr>\n",
       "      <th>4</th>\n",
       "      <td>rt about finally getting the direction and mec...</td>\n",
       "    </tr>\n",
       "  </tbody>\n",
       "</table>\n",
       "</div>"
      ],
      "text/plain": [
       "                                                text\n",
       "0  how did ohioans who voted for sherrod brown sp...\n",
       "1  thank you for expanding medicaid governor hope...\n",
       "2  murderer gets let out thanks to mike dewine re...\n",
       "3  rt pike county murders wagner family discussed...\n",
       "4  rt about finally getting the direction and mec..."
      ]
     },
     "execution_count": 93,
     "metadata": {},
     "output_type": "execute_result"
    }
   ],
   "source": [
    "import csv\n",
    "import pandas as pd\n",
    "clean_tweet_texts = []\n",
    "with open('Mike_DeWine.csv') as csvfile:\n",
    "    readCSV = csv.reader(csvfile, delimiter=',')\n",
    "    i = 0\n",
    "    next(readCSV)\n",
    "    for row in readCSV:\n",
    "        ++i\n",
    "        clean_tweet_texts.append(clean_tweet(str(row)))\n",
    "    print(\"Tweets cleaned.\")\n",
    "\n",
    "clean_df = pd.DataFrame(clean_tweet_texts,columns=['text'])\n",
    "clean_df.to_csv('Mike_DeWine.csv',encoding='utf-8')\n",
    "csv = 'Mike_DeWine.csv'\n",
    "temp = pd.read_csv(csv,index_col=0)\n",
    "temp.head()"
   ]
  },
  {
   "cell_type": "markdown",
   "metadata": {},
   "source": [
    "Richard Cordray"
   ]
  },
  {
   "cell_type": "code",
   "execution_count": null,
   "metadata": {},
   "outputs": [],
   "source": [
    "tw.tweets(keywords=\"richard cordray\", to_screen=False, stream=False)"
   ]
  },
  {
   "cell_type": "code",
   "execution_count": 66,
   "metadata": {},
   "outputs": [],
   "source": [
    "with open('/Users/niw0407/twitter-files/tweets.20181129-133804.json') as fp:\n",
    "    json2csv(fp, 'Richard_Cordray.csv', ['text'])"
   ]
  },
  {
   "cell_type": "code",
   "execution_count": 94,
   "metadata": {},
   "outputs": [
    {
     "name": "stdout",
     "output_type": "stream",
     "text": [
      "Tweets cleaned.\n"
     ]
    },
    {
     "data": {
      "text/html": [
       "<div>\n",
       "<style scoped>\n",
       "    .dataframe tbody tr th:only-of-type {\n",
       "        vertical-align: middle;\n",
       "    }\n",
       "\n",
       "    .dataframe tbody tr th {\n",
       "        vertical-align: top;\n",
       "    }\n",
       "\n",
       "    .dataframe thead th {\n",
       "        text-align: right;\n",
       "    }\n",
       "</style>\n",
       "<table border=\"1\" class=\"dataframe\">\n",
       "  <thead>\n",
       "    <tr style=\"text-align: right;\">\n",
       "      <th></th>\n",
       "      <th>text</th>\n",
       "    </tr>\n",
       "  </thead>\n",
       "  <tbody>\n",
       "    <tr>\n",
       "      <th>0</th>\n",
       "      <td>rt more than one year after the resignation of...</td>\n",
       "    </tr>\n",
       "    <tr>\n",
       "      <th>1</th>\n",
       "      <td>rt more than one year after the resignation of...</td>\n",
       "    </tr>\n",
       "    <tr>\n",
       "      <th>2</th>\n",
       "      <td>rt more than one year after the resignation of...</td>\n",
       "    </tr>\n",
       "    <tr>\n",
       "      <th>3</th>\n",
       "      <td>rt more than one year after the resignation of...</td>\n",
       "    </tr>\n",
       "    <tr>\n",
       "      <th>4</th>\n",
       "      <td>more than one year after the resignation of ri...</td>\n",
       "    </tr>\n",
       "  </tbody>\n",
       "</table>\n",
       "</div>"
      ],
      "text/plain": [
       "                                                text\n",
       "0  rt more than one year after the resignation of...\n",
       "1  rt more than one year after the resignation of...\n",
       "2  rt more than one year after the resignation of...\n",
       "3  rt more than one year after the resignation of...\n",
       "4  more than one year after the resignation of ri..."
      ]
     },
     "execution_count": 94,
     "metadata": {},
     "output_type": "execute_result"
    }
   ],
   "source": [
    "import csv\n",
    "import pandas as pd\n",
    "clean_tweet_texts = []\n",
    "with open('Richard_Cordray.csv') as csvfile:\n",
    "    readCSV = csv.reader(csvfile, delimiter=',')\n",
    "    i = 0\n",
    "    next(readCSV)\n",
    "    for row in readCSV:\n",
    "        ++i\n",
    "        clean_tweet_texts.append(clean_tweet(str(row)))\n",
    "    print(\"Tweets cleaned.\")\n",
    "\n",
    "clean_df = pd.DataFrame(clean_tweet_texts,columns=['text'])\n",
    "clean_df.to_csv('Richard_Cordray.csv',encoding='utf-8')\n",
    "csv = 'Richard_Cordray.csv'\n",
    "temp = pd.read_csv(csv,index_col=0)\n",
    "temp.head()"
   ]
  },
  {
   "cell_type": "markdown",
   "metadata": {},
   "source": [
    "## Oklahoma"
   ]
  },
  {
   "cell_type": "markdown",
   "metadata": {},
   "source": [
    "Kevin Stitt"
   ]
  },
  {
   "cell_type": "code",
   "execution_count": null,
   "metadata": {},
   "outputs": [],
   "source": [
    "tw.tweets(keywords=\"kevin stitt\", to_screen=False, stream=False)"
   ]
  },
  {
   "cell_type": "code",
   "execution_count": 68,
   "metadata": {},
   "outputs": [],
   "source": [
    "with open('/Users/niw0407/twitter-files/tweets.20181129-133850.json') as fp:\n",
    "    json2csv(fp, 'Kevin_Stitt.csv', ['text'])"
   ]
  },
  {
   "cell_type": "code",
   "execution_count": 95,
   "metadata": {},
   "outputs": [
    {
     "name": "stdout",
     "output_type": "stream",
     "text": [
      "Tweets cleaned.\n"
     ]
    },
    {
     "data": {
      "text/html": [
       "<div>\n",
       "<style scoped>\n",
       "    .dataframe tbody tr th:only-of-type {\n",
       "        vertical-align: middle;\n",
       "    }\n",
       "\n",
       "    .dataframe tbody tr th {\n",
       "        vertical-align: top;\n",
       "    }\n",
       "\n",
       "    .dataframe thead th {\n",
       "        text-align: right;\n",
       "    }\n",
       "</style>\n",
       "<table border=\"1\" class=\"dataframe\">\n",
       "  <thead>\n",
       "    <tr style=\"text-align: right;\">\n",
       "      <th></th>\n",
       "      <th>text</th>\n",
       "    </tr>\n",
       "  </thead>\n",
       "  <tbody>\n",
       "    <tr>\n",
       "      <th>0</th>\n",
       "      <td>rt kenneth wagner gov elect kevin stitt appoin...</td>\n",
       "    </tr>\n",
       "    <tr>\n",
       "      <th>1</th>\n",
       "      <td>rt this just in after this photo surfaced of o...</td>\n",
       "    </tr>\n",
       "    <tr>\n",
       "      <th>2</th>\n",
       "      <td>rt kenneth wagner gov elect kevin stitt appoin...</td>\n",
       "    </tr>\n",
       "    <tr>\n",
       "      <th>3</th>\n",
       "      <td>rt this just in after this photo surfaced of o...</td>\n",
       "    </tr>\n",
       "    <tr>\n",
       "      <th>4</th>\n",
       "      <td>rt this just in after this photo surfaced of o...</td>\n",
       "    </tr>\n",
       "  </tbody>\n",
       "</table>\n",
       "</div>"
      ],
      "text/plain": [
       "                                                text\n",
       "0  rt kenneth wagner gov elect kevin stitt appoin...\n",
       "1  rt this just in after this photo surfaced of o...\n",
       "2  rt kenneth wagner gov elect kevin stitt appoin...\n",
       "3  rt this just in after this photo surfaced of o...\n",
       "4  rt this just in after this photo surfaced of o..."
      ]
     },
     "execution_count": 95,
     "metadata": {},
     "output_type": "execute_result"
    }
   ],
   "source": [
    "import csv\n",
    "import pandas as pd\n",
    "clean_tweet_texts = []\n",
    "with open('Kevin_Stitt.csv') as csvfile:\n",
    "    readCSV = csv.reader(csvfile, delimiter=',')\n",
    "    i = 0\n",
    "    next(readCSV)\n",
    "    for row in readCSV:\n",
    "        ++i\n",
    "        clean_tweet_texts.append(clean_tweet(str(row)))\n",
    "    print(\"Tweets cleaned.\")\n",
    "\n",
    "clean_df = pd.DataFrame(clean_tweet_texts,columns=['text'])\n",
    "clean_df.to_csv('Kevin_Stitt.csv',encoding='utf-8')\n",
    "csv = 'Kevin_Stitt.csv'\n",
    "temp = pd.read_csv(csv,index_col=0)\n",
    "temp.head()"
   ]
  },
  {
   "cell_type": "markdown",
   "metadata": {},
   "source": [
    "Drew Edmondson"
   ]
  },
  {
   "cell_type": "code",
   "execution_count": null,
   "metadata": {},
   "outputs": [],
   "source": [
    "tw.tweets(keywords=\"drew edmondson\", to_screen=False, stream=False)"
   ]
  },
  {
   "cell_type": "code",
   "execution_count": 70,
   "metadata": {},
   "outputs": [],
   "source": [
    "with open('/Users/niw0407/twitter-files/tweets.20181129-133944.json') as fp:\n",
    "    json2csv(fp, 'Drew_Edmondson.csv', ['text'])"
   ]
  },
  {
   "cell_type": "code",
   "execution_count": 96,
   "metadata": {},
   "outputs": [
    {
     "name": "stdout",
     "output_type": "stream",
     "text": [
      "Tweets cleaned.\n"
     ]
    },
    {
     "data": {
      "text/html": [
       "<div>\n",
       "<style scoped>\n",
       "    .dataframe tbody tr th:only-of-type {\n",
       "        vertical-align: middle;\n",
       "    }\n",
       "\n",
       "    .dataframe tbody tr th {\n",
       "        vertical-align: top;\n",
       "    }\n",
       "\n",
       "    .dataframe thead th {\n",
       "        text-align: right;\n",
       "    }\n",
       "</style>\n",
       "<table border=\"1\" class=\"dataframe\">\n",
       "  <thead>\n",
       "    <tr style=\"text-align: right;\">\n",
       "      <th></th>\n",
       "      <th>text</th>\n",
       "    </tr>\n",
       "  </thead>\n",
       "  <tbody>\n",
       "    <tr>\n",
       "      <th>0</th>\n",
       "      <td>drew edmondson was the sag for state of oklaho...</td>\n",
       "    </tr>\n",
       "    <tr>\n",
       "      <th>1</th>\n",
       "      <td>was so happy to see my dear friends linda and ...</td>\n",
       "    </tr>\n",
       "    <tr>\n",
       "      <th>2</th>\n",
       "      <td>this makes my day drew would want to serve you...</td>\n",
       "    </tr>\n",
       "    <tr>\n",
       "      <th>3</th>\n",
       "      <td>same here drew edmondson democrat attorney gen...</td>\n",
       "    </tr>\n",
       "    <tr>\n",
       "      <th>4</th>\n",
       "      <td>rt oklaed teachers overwhelmingly favored edmo...</td>\n",
       "    </tr>\n",
       "  </tbody>\n",
       "</table>\n",
       "</div>"
      ],
      "text/plain": [
       "                                                text\n",
       "0  drew edmondson was the sag for state of oklaho...\n",
       "1  was so happy to see my dear friends linda and ...\n",
       "2  this makes my day drew would want to serve you...\n",
       "3  same here drew edmondson democrat attorney gen...\n",
       "4  rt oklaed teachers overwhelmingly favored edmo..."
      ]
     },
     "execution_count": 96,
     "metadata": {},
     "output_type": "execute_result"
    }
   ],
   "source": [
    "import csv\n",
    "import pandas as pd\n",
    "clean_tweet_texts = []\n",
    "with open('Drew_Edmondson.csv') as csvfile:\n",
    "    readCSV = csv.reader(csvfile, delimiter=',')\n",
    "    i = 0\n",
    "    next(readCSV)\n",
    "    for row in readCSV:\n",
    "        ++i\n",
    "        clean_tweet_texts.append(clean_tweet(str(row)))\n",
    "    print(\"Tweets cleaned.\")\n",
    "\n",
    "clean_df = pd.DataFrame(clean_tweet_texts,columns=['text'])\n",
    "clean_df.to_csv('Drew_Edmondson.csv',encoding='utf-8')\n",
    "csv = 'Drew_Edmondson.csv'\n",
    "temp = pd.read_csv(csv,index_col=0)\n",
    "temp.head()"
   ]
  },
  {
   "cell_type": "markdown",
   "metadata": {},
   "source": [
    "## Oregon"
   ]
  },
  {
   "cell_type": "markdown",
   "metadata": {},
   "source": [
    "Kate Brown"
   ]
  },
  {
   "cell_type": "code",
   "execution_count": null,
   "metadata": {},
   "outputs": [],
   "source": [
    "tw.tweets(keywords=\"kate brown\", to_screen=False, stream=False)"
   ]
  },
  {
   "cell_type": "code",
   "execution_count": 72,
   "metadata": {},
   "outputs": [],
   "source": [
    "with open('/Users/niw0407/twitter-files/tweets.20181129-134029.json') as fp:\n",
    "    json2csv(fp, 'Kate_Brown.csv', ['text'])"
   ]
  },
  {
   "cell_type": "code",
   "execution_count": 97,
   "metadata": {},
   "outputs": [
    {
     "name": "stdout",
     "output_type": "stream",
     "text": [
      "Tweets cleaned.\n"
     ]
    },
    {
     "data": {
      "text/html": [
       "<div>\n",
       "<style scoped>\n",
       "    .dataframe tbody tr th:only-of-type {\n",
       "        vertical-align: middle;\n",
       "    }\n",
       "\n",
       "    .dataframe tbody tr th {\n",
       "        vertical-align: top;\n",
       "    }\n",
       "\n",
       "    .dataframe thead th {\n",
       "        text-align: right;\n",
       "    }\n",
       "</style>\n",
       "<table border=\"1\" class=\"dataframe\">\n",
       "  <thead>\n",
       "    <tr style=\"text-align: right;\">\n",
       "      <th></th>\n",
       "      <th>text</th>\n",
       "    </tr>\n",
       "  </thead>\n",
       "  <tbody>\n",
       "    <tr>\n",
       "      <th>0</th>\n",
       "      <td>rt awesome oregon democratic gov kate brown pr...</td>\n",
       "    </tr>\n",
       "    <tr>\n",
       "      <th>1</th>\n",
       "      <td>gov kate brown proposes cutting college fundin...</td>\n",
       "    </tr>\n",
       "    <tr>\n",
       "      <th>2</th>\n",
       "      <td>rt awesome oregon democratic gov kate brown pr...</td>\n",
       "    </tr>\n",
       "    <tr>\n",
       "      <th>3</th>\n",
       "      <td>submit for evidence my bisexual governor kate ...</td>\n",
       "    </tr>\n",
       "    <tr>\n",
       "      <th>4</th>\n",
       "      <td>poor old uncle sam noil stick wax on paper nka...</td>\n",
       "    </tr>\n",
       "  </tbody>\n",
       "</table>\n",
       "</div>"
      ],
      "text/plain": [
       "                                                text\n",
       "0  rt awesome oregon democratic gov kate brown pr...\n",
       "1  gov kate brown proposes cutting college fundin...\n",
       "2  rt awesome oregon democratic gov kate brown pr...\n",
       "3  submit for evidence my bisexual governor kate ...\n",
       "4  poor old uncle sam noil stick wax on paper nka..."
      ]
     },
     "execution_count": 97,
     "metadata": {},
     "output_type": "execute_result"
    }
   ],
   "source": [
    "import csv\n",
    "import pandas as pd\n",
    "clean_tweet_texts = []\n",
    "with open('Kate_Brown.csv') as csvfile:\n",
    "    readCSV = csv.reader(csvfile, delimiter=',')\n",
    "    i = 0\n",
    "    next(readCSV)\n",
    "    for row in readCSV:\n",
    "        ++i\n",
    "        clean_tweet_texts.append(clean_tweet(str(row)))\n",
    "    print(\"Tweets cleaned.\")\n",
    "\n",
    "clean_df = pd.DataFrame(clean_tweet_texts,columns=['text'])\n",
    "clean_df.to_csv('Kate_Brown.csv',encoding='utf-8')\n",
    "csv = 'Kate_Brown.csv'\n",
    "temp = pd.read_csv(csv,index_col=0)\n",
    "temp.head()"
   ]
  },
  {
   "cell_type": "markdown",
   "metadata": {},
   "source": [
    "Knute Buehler"
   ]
  },
  {
   "cell_type": "code",
   "execution_count": null,
   "metadata": {},
   "outputs": [],
   "source": [
    "tw.tweets(keywords=\"knute buehler\", to_screen=False, stream=False)"
   ]
  },
  {
   "cell_type": "code",
   "execution_count": 74,
   "metadata": {},
   "outputs": [],
   "source": [
    "with open('/Users/niw0407/twitter-files/tweets.20181129-134108.json') as fp:\n",
    "    json2csv(fp, 'Knute_Buehler.csv', ['text'])"
   ]
  },
  {
   "cell_type": "code",
   "execution_count": 98,
   "metadata": {},
   "outputs": [
    {
     "name": "stdout",
     "output_type": "stream",
     "text": [
      "Tweets cleaned.\n"
     ]
    },
    {
     "data": {
      "text/html": [
       "<div>\n",
       "<style scoped>\n",
       "    .dataframe tbody tr th:only-of-type {\n",
       "        vertical-align: middle;\n",
       "    }\n",
       "\n",
       "    .dataframe tbody tr th {\n",
       "        vertical-align: top;\n",
       "    }\n",
       "\n",
       "    .dataframe thead th {\n",
       "        text-align: right;\n",
       "    }\n",
       "</style>\n",
       "<table border=\"1\" class=\"dataframe\">\n",
       "  <thead>\n",
       "    <tr style=\"text-align: right;\">\n",
       "      <th></th>\n",
       "      <th>text</th>\n",
       "    </tr>\n",
       "  </thead>\n",
       "  <tbody>\n",
       "    <tr>\n",
       "      <th>0</th>\n",
       "      <td>nothing feels better than complaining we ve go...</td>\n",
       "    </tr>\n",
       "    <tr>\n",
       "      <th>1</th>\n",
       "      <td>rt finally am free to speak my truth about knu...</td>\n",
       "    </tr>\n",
       "    <tr>\n",
       "      <th>2</th>\n",
       "      <td>rt finally am free to speak my truth about knu...</td>\n",
       "    </tr>\n",
       "    <tr>\n",
       "      <th>3</th>\n",
       "      <td>rt finally am free to speak my truth about knu...</td>\n",
       "    </tr>\n",
       "    <tr>\n",
       "      <th>4</th>\n",
       "      <td>did rave review really shut down portland burg...</td>\n",
       "    </tr>\n",
       "  </tbody>\n",
       "</table>\n",
       "</div>"
      ],
      "text/plain": [
       "                                                text\n",
       "0  nothing feels better than complaining we ve go...\n",
       "1  rt finally am free to speak my truth about knu...\n",
       "2  rt finally am free to speak my truth about knu...\n",
       "3  rt finally am free to speak my truth about knu...\n",
       "4  did rave review really shut down portland burg..."
      ]
     },
     "execution_count": 98,
     "metadata": {},
     "output_type": "execute_result"
    }
   ],
   "source": [
    "import csv\n",
    "import pandas as pd\n",
    "clean_tweet_texts = []\n",
    "with open('Knute_Buehler.csv') as csvfile:\n",
    "    readCSV = csv.reader(csvfile, delimiter=',')\n",
    "    i = 0\n",
    "    next(readCSV)\n",
    "    for row in readCSV:\n",
    "        ++i\n",
    "        clean_tweet_texts.append(clean_tweet(str(row)))\n",
    "    print(\"Tweets cleaned.\")\n",
    "\n",
    "clean_df = pd.DataFrame(clean_tweet_texts,columns=['text'])\n",
    "clean_df.to_csv('Knute_Buehler.csv',encoding='utf-8')\n",
    "csv = 'Knute_Buehler.csv'\n",
    "temp = pd.read_csv(csv,index_col=0)\n",
    "temp.head()"
   ]
  },
  {
   "cell_type": "markdown",
   "metadata": {},
   "source": [
    "## Pennsylvania"
   ]
  },
  {
   "cell_type": "markdown",
   "metadata": {},
   "source": [
    "Tom Wolf"
   ]
  },
  {
   "cell_type": "code",
   "execution_count": null,
   "metadata": {},
   "outputs": [],
   "source": [
    "tw.tweets(keywords=\"tom wolf\", to_screen=False, stream=False)"
   ]
  },
  {
   "cell_type": "code",
   "execution_count": 76,
   "metadata": {},
   "outputs": [],
   "source": [
    "with open('/Users/niw0407/twitter-files/tweets.20181129-134155.json') as fp:\n",
    "    json2csv(fp, 'Tom_Wolf.csv', ['text'])"
   ]
  },
  {
   "cell_type": "code",
   "execution_count": null,
   "metadata": {},
   "outputs": [],
   "source": [
    "import csv\n",
    "import pandas as pd\n",
    "clean_tweet_texts = []\n",
    "with open('Tom_Wolf.csv') as csvfile:\n",
    "    readCSV = csv.reader(csvfile, delimiter=',')\n",
    "    i = 0\n",
    "    next(readCSV)\n",
    "    for row in readCSV:\n",
    "        ++i\n",
    "        clean_tweet_texts.append(clean_tweet(str(row)))\n",
    "    print(\"Tweets cleaned.\")\n",
    "\n",
    "clean_df = pd.DataFrame(clean_tweet_texts,columns=['text'])\n",
    "clean_df.to_csv('Tom_Wolf.csv',encoding='utf-8')\n",
    "csv = 'Tom_Wolf.csv'\n",
    "temp = pd.read_csv(csv,index_col=0)\n",
    "temp.head()"
   ]
  },
  {
   "cell_type": "markdown",
   "metadata": {},
   "source": [
    "Scott Wagner"
   ]
  },
  {
   "cell_type": "code",
   "execution_count": null,
   "metadata": {},
   "outputs": [],
   "source": [
    "tw.tweets(keywords=\"scott wagner\", to_screen=False, stream=False)"
   ]
  },
  {
   "cell_type": "code",
   "execution_count": 78,
   "metadata": {},
   "outputs": [],
   "source": [
    "with open('/Users/niw0407/twitter-files/tweets.20181129-134318.json') as fp:\n",
    "    json2csv(fp, 'Scott_Wagner.csv', ['text'])"
   ]
  },
  {
   "cell_type": "code",
   "execution_count": 99,
   "metadata": {},
   "outputs": [
    {
     "name": "stdout",
     "output_type": "stream",
     "text": [
      "Tweets cleaned.\n"
     ]
    },
    {
     "data": {
      "text/html": [
       "<div>\n",
       "<style scoped>\n",
       "    .dataframe tbody tr th:only-of-type {\n",
       "        vertical-align: middle;\n",
       "    }\n",
       "\n",
       "    .dataframe tbody tr th {\n",
       "        vertical-align: top;\n",
       "    }\n",
       "\n",
       "    .dataframe thead th {\n",
       "        text-align: right;\n",
       "    }\n",
       "</style>\n",
       "<table border=\"1\" class=\"dataframe\">\n",
       "  <thead>\n",
       "    <tr style=\"text-align: right;\">\n",
       "      <th></th>\n",
       "      <th>text</th>\n",
       "    </tr>\n",
       "  </thead>\n",
       "  <tbody>\n",
       "    <tr>\n",
       "      <th>0</th>\n",
       "      <td>starring jason scott lee lauren holly robert w...</td>\n",
       "    </tr>\n",
       "    <tr>\n",
       "      <th>1</th>\n",
       "      <td>rt kenneth wagner gov elect kevin stitt appoin...</td>\n",
       "    </tr>\n",
       "    <tr>\n",
       "      <th>2</th>\n",
       "      <td>icym kenneth wagner top epa official and longt...</td>\n",
       "    </tr>\n",
       "    <tr>\n",
       "      <th>3</th>\n",
       "      <td>rt rally cost trump has not paid rally was for...</td>\n",
       "    </tr>\n",
       "    <tr>\n",
       "      <th>4</th>\n",
       "      <td>never saw sheetz donating to scott wagner eith...</td>\n",
       "    </tr>\n",
       "  </tbody>\n",
       "</table>\n",
       "</div>"
      ],
      "text/plain": [
       "                                                text\n",
       "0  starring jason scott lee lauren holly robert w...\n",
       "1  rt kenneth wagner gov elect kevin stitt appoin...\n",
       "2  icym kenneth wagner top epa official and longt...\n",
       "3  rt rally cost trump has not paid rally was for...\n",
       "4  never saw sheetz donating to scott wagner eith..."
      ]
     },
     "execution_count": 99,
     "metadata": {},
     "output_type": "execute_result"
    }
   ],
   "source": [
    "import csv\n",
    "import pandas as pd\n",
    "clean_tweet_texts = []\n",
    "with open('Scott_Wagner.csv') as csvfile:\n",
    "    readCSV = csv.reader(csvfile, delimiter=',')\n",
    "    i = 0\n",
    "    next(readCSV)\n",
    "    for row in readCSV:\n",
    "        ++i\n",
    "        clean_tweet_texts.append(clean_tweet(str(row)))\n",
    "    print(\"Tweets cleaned.\")\n",
    "\n",
    "clean_df = pd.DataFrame(clean_tweet_texts,columns=['text'])\n",
    "clean_df.to_csv('Scott_Wagner.csv',encoding='utf-8')\n",
    "csv = 'Scott_Wagner.csv'\n",
    "temp = pd.read_csv(csv,index_col=0)\n",
    "temp.head()"
   ]
  },
  {
   "cell_type": "markdown",
   "metadata": {},
   "source": [
    "## Rhode Island"
   ]
  },
  {
   "cell_type": "markdown",
   "metadata": {},
   "source": [
    "Gina Raimondo"
   ]
  },
  {
   "cell_type": "code",
   "execution_count": null,
   "metadata": {},
   "outputs": [],
   "source": [
    "tw.tweets(keywords=\"gina raimondo\", to_screen=False, stream=False)"
   ]
  },
  {
   "cell_type": "code",
   "execution_count": 80,
   "metadata": {},
   "outputs": [],
   "source": [
    "with open('/Users/niw0407/twitter-files/tweets.20181129-134421.json') as fp:\n",
    "    json2csv(fp, 'Gina_Raimondo.csv', ['text'])"
   ]
  },
  {
   "cell_type": "code",
   "execution_count": 100,
   "metadata": {},
   "outputs": [
    {
     "name": "stdout",
     "output_type": "stream",
     "text": [
      "Tweets cleaned.\n"
     ]
    },
    {
     "data": {
      "text/html": [
       "<div>\n",
       "<style scoped>\n",
       "    .dataframe tbody tr th:only-of-type {\n",
       "        vertical-align: middle;\n",
       "    }\n",
       "\n",
       "    .dataframe tbody tr th {\n",
       "        vertical-align: top;\n",
       "    }\n",
       "\n",
       "    .dataframe thead th {\n",
       "        text-align: right;\n",
       "    }\n",
       "</style>\n",
       "<table border=\"1\" class=\"dataframe\">\n",
       "  <thead>\n",
       "    <tr style=\"text-align: right;\">\n",
       "      <th></th>\n",
       "      <th>text</th>\n",
       "    </tr>\n",
       "  </thead>\n",
       "  <tbody>\n",
       "    <tr>\n",
       "      <th>0</th>\n",
       "      <td>in this her th and final governor ball as salv...</td>\n",
       "    </tr>\n",
       "    <tr>\n",
       "      <th>1</th>\n",
       "      <td>tonight ri gov gina raimondo to celebrate ligh...</td>\n",
       "    </tr>\n",
       "    <tr>\n",
       "      <th>2</th>\n",
       "      <td>rt rhode island governor gina raimondo signed ...</td>\n",
       "    </tr>\n",
       "    <tr>\n",
       "      <th>3</th>\n",
       "      <td>rt rhode island governor gina raimondo signed ...</td>\n",
       "    </tr>\n",
       "    <tr>\n",
       "      <th>4</th>\n",
       "      <td>the degenerate bet on gina raimondo now you kn...</td>\n",
       "    </tr>\n",
       "  </tbody>\n",
       "</table>\n",
       "</div>"
      ],
      "text/plain": [
       "                                                text\n",
       "0  in this her th and final governor ball as salv...\n",
       "1  tonight ri gov gina raimondo to celebrate ligh...\n",
       "2  rt rhode island governor gina raimondo signed ...\n",
       "3  rt rhode island governor gina raimondo signed ...\n",
       "4  the degenerate bet on gina raimondo now you kn..."
      ]
     },
     "execution_count": 100,
     "metadata": {},
     "output_type": "execute_result"
    }
   ],
   "source": [
    "import csv\n",
    "import pandas as pd\n",
    "clean_tweet_texts = []\n",
    "with open('Gina_Raimondo.csv') as csvfile:\n",
    "    readCSV = csv.reader(csvfile, delimiter=',')\n",
    "    i = 0\n",
    "    next(readCSV)\n",
    "    for row in readCSV:\n",
    "        ++i\n",
    "        clean_tweet_texts.append(clean_tweet(str(row)))\n",
    "    print(\"Tweets cleaned.\")\n",
    "\n",
    "clean_df = pd.DataFrame(clean_tweet_texts,columns=['text'])\n",
    "clean_df.to_csv('Gina_Raimondo.csv',encoding='utf-8')\n",
    "csv = 'Gina_Raimondo.csv'\n",
    "temp = pd.read_csv(csv,index_col=0)\n",
    "temp.head()"
   ]
  },
  {
   "cell_type": "markdown",
   "metadata": {},
   "source": [
    "Allan Fung"
   ]
  },
  {
   "cell_type": "code",
   "execution_count": null,
   "metadata": {},
   "outputs": [],
   "source": [
    "tw.tweets(keywords=\"allan fung\", to_screen=False, stream=False)"
   ]
  },
  {
   "cell_type": "code",
   "execution_count": 82,
   "metadata": {},
   "outputs": [],
   "source": [
    "with open('/Users/niw0407/twitter-files/tweets.20181129-134520.json') as fp:\n",
    "    json2csv(fp, 'Allan_Fung.csv', ['text'])"
   ]
  },
  {
   "cell_type": "code",
   "execution_count": 101,
   "metadata": {},
   "outputs": [
    {
     "name": "stdout",
     "output_type": "stream",
     "text": [
      "Tweets cleaned.\n"
     ]
    },
    {
     "data": {
      "text/html": [
       "<div>\n",
       "<style scoped>\n",
       "    .dataframe tbody tr th:only-of-type {\n",
       "        vertical-align: middle;\n",
       "    }\n",
       "\n",
       "    .dataframe tbody tr th {\n",
       "        vertical-align: top;\n",
       "    }\n",
       "\n",
       "    .dataframe thead th {\n",
       "        text-align: right;\n",
       "    }\n",
       "</style>\n",
       "<table border=\"1\" class=\"dataframe\">\n",
       "  <thead>\n",
       "    <tr style=\"text-align: right;\">\n",
       "      <th></th>\n",
       "      <th>text</th>\n",
       "    </tr>\n",
       "  </thead>\n",
       "  <tbody>\n",
       "    <tr>\n",
       "      <th>0</th>\n",
       "      <td>throwback to two months ago when mayor allan f...</td>\n",
       "    </tr>\n",
       "    <tr>\n",
       "      <th>1</th>\n",
       "      <td>rt log cabin republicans of rhode island respo...</td>\n",
       "    </tr>\n",
       "    <tr>\n",
       "      <th>2</th>\n",
       "      <td>allan fung won senate districts with majority ...</td>\n",
       "    </tr>\n",
       "    <tr>\n",
       "      <th>3</th>\n",
       "      <td>two weeks after failing at his second gubernat...</td>\n",
       "    </tr>\n",
       "    <tr>\n",
       "      <th>4</th>\n",
       "      <td>rt allan fung allan fung nfung please call for...</td>\n",
       "    </tr>\n",
       "  </tbody>\n",
       "</table>\n",
       "</div>"
      ],
      "text/plain": [
       "                                                text\n",
       "0  throwback to two months ago when mayor allan f...\n",
       "1  rt log cabin republicans of rhode island respo...\n",
       "2  allan fung won senate districts with majority ...\n",
       "3  two weeks after failing at his second gubernat...\n",
       "4  rt allan fung allan fung nfung please call for..."
      ]
     },
     "execution_count": 101,
     "metadata": {},
     "output_type": "execute_result"
    }
   ],
   "source": [
    "import csv\n",
    "import pandas as pd\n",
    "clean_tweet_texts = []\n",
    "with open('Allan_Fung.csv') as csvfile:\n",
    "    readCSV = csv.reader(csvfile, delimiter=',')\n",
    "    i = 0\n",
    "    next(readCSV)\n",
    "    for row in readCSV:\n",
    "        ++i\n",
    "        clean_tweet_texts.append(clean_tweet(str(row)))\n",
    "    print(\"Tweets cleaned.\")\n",
    "\n",
    "clean_df = pd.DataFrame(clean_tweet_texts,columns=['text'])\n",
    "clean_df.to_csv('Allan_Fung.csv',encoding='utf-8')\n",
    "csv = 'Allan_Fung.csv'\n",
    "temp = pd.read_csv(csv,index_col=0)\n",
    "temp.head()"
   ]
  },
  {
   "cell_type": "markdown",
   "metadata": {},
   "source": [
    "## South Carolina"
   ]
  },
  {
   "cell_type": "markdown",
   "metadata": {},
   "source": [
    "Henry McMaster"
   ]
  },
  {
   "cell_type": "code",
   "execution_count": null,
   "metadata": {},
   "outputs": [],
   "source": [
    "tw.tweets(keywords=\"henry mcmaster\", to_screen=False, stream=False)"
   ]
  },
  {
   "cell_type": "code",
   "execution_count": 84,
   "metadata": {},
   "outputs": [],
   "source": [
    "with open('/Users/niw0407/twitter-files/tweets.20181129-134615.json') as fp:\n",
    "    json2csv(fp, 'Henry_McMaster.csv', ['text'])"
   ]
  },
  {
   "cell_type": "code",
   "execution_count": 102,
   "metadata": {},
   "outputs": [
    {
     "name": "stdout",
     "output_type": "stream",
     "text": [
      "Tweets cleaned.\n"
     ]
    },
    {
     "data": {
      "text/html": [
       "<div>\n",
       "<style scoped>\n",
       "    .dataframe tbody tr th:only-of-type {\n",
       "        vertical-align: middle;\n",
       "    }\n",
       "\n",
       "    .dataframe tbody tr th {\n",
       "        vertical-align: top;\n",
       "    }\n",
       "\n",
       "    .dataframe thead th {\n",
       "        text-align: right;\n",
       "    }\n",
       "</style>\n",
       "<table border=\"1\" class=\"dataframe\">\n",
       "  <thead>\n",
       "    <tr style=\"text-align: right;\">\n",
       "      <th></th>\n",
       "      <th>text</th>\n",
       "    </tr>\n",
       "  </thead>\n",
       "  <tbody>\n",
       "    <tr>\n",
       "      <th>0</th>\n",
       "      <td>rt however this bill was vetoed by the governo...</td>\n",
       "    </tr>\n",
       "    <tr>\n",
       "      <th>1</th>\n",
       "      <td>follow your heart and energy into henry mcmast...</td>\n",
       "    </tr>\n",
       "    <tr>\n",
       "      <th>2</th>\n",
       "      <td>rt henry mcmaster wins santee cooper battle</td>\n",
       "    </tr>\n",
       "    <tr>\n",
       "      <th>3</th>\n",
       "      <td>rt the south carolina supreme court has ruled ...</td>\n",
       "    </tr>\n",
       "    <tr>\n",
       "      <th>4</th>\n",
       "      <td>donated by mcmaster henry of columbia sc on</td>\n",
       "    </tr>\n",
       "  </tbody>\n",
       "</table>\n",
       "</div>"
      ],
      "text/plain": [
       "                                                text\n",
       "0  rt however this bill was vetoed by the governo...\n",
       "1  follow your heart and energy into henry mcmast...\n",
       "2        rt henry mcmaster wins santee cooper battle\n",
       "3  rt the south carolina supreme court has ruled ...\n",
       "4        donated by mcmaster henry of columbia sc on"
      ]
     },
     "execution_count": 102,
     "metadata": {},
     "output_type": "execute_result"
    }
   ],
   "source": [
    "import csv\n",
    "import pandas as pd\n",
    "clean_tweet_texts = []\n",
    "with open('Henry_McMaster.csv') as csvfile:\n",
    "    readCSV = csv.reader(csvfile, delimiter=',')\n",
    "    i = 0\n",
    "    next(readCSV)\n",
    "    for row in readCSV:\n",
    "        ++i\n",
    "        clean_tweet_texts.append(clean_tweet(str(row)))\n",
    "    print(\"Tweets cleaned.\")\n",
    "\n",
    "clean_df = pd.DataFrame(clean_tweet_texts,columns=['text'])\n",
    "clean_df.to_csv('Henry_McMaster.csv',encoding='utf-8')\n",
    "csv = 'Henry_McMaster.csv'\n",
    "temp = pd.read_csv(csv,index_col=0)\n",
    "temp.head()"
   ]
  },
  {
   "cell_type": "markdown",
   "metadata": {},
   "source": [
    "James Smith"
   ]
  },
  {
   "cell_type": "code",
   "execution_count": null,
   "metadata": {},
   "outputs": [],
   "source": [
    "tw.tweets(keywords=\"james smith\", to_screen=False, stream=False)"
   ]
  },
  {
   "cell_type": "code",
   "execution_count": null,
   "metadata": {},
   "outputs": [],
   "source": [
    "with open('/Users/niw0407/twitter-files/tweets.20181129-134653.json') as fp:\n",
    "    json2csv(fp, 'James_Smith.csv', ['text'])"
   ]
  },
  {
   "cell_type": "code",
   "execution_count": 103,
   "metadata": {},
   "outputs": [
    {
     "name": "stdout",
     "output_type": "stream",
     "text": [
      "Tweets cleaned.\n"
     ]
    },
    {
     "data": {
      "text/html": [
       "<div>\n",
       "<style scoped>\n",
       "    .dataframe tbody tr th:only-of-type {\n",
       "        vertical-align: middle;\n",
       "    }\n",
       "\n",
       "    .dataframe tbody tr th {\n",
       "        vertical-align: top;\n",
       "    }\n",
       "\n",
       "    .dataframe thead th {\n",
       "        text-align: right;\n",
       "    }\n",
       "</style>\n",
       "<table border=\"1\" class=\"dataframe\">\n",
       "  <thead>\n",
       "    <tr style=\"text-align: right;\">\n",
       "      <th></th>\n",
       "      <th>text</th>\n",
       "    </tr>\n",
       "  </thead>\n",
       "  <tbody>\n",
       "    <tr>\n",
       "      <th>0</th>\n",
       "      <td>rt dean smith nearing decision on whether to o...</td>\n",
       "    </tr>\n",
       "    <tr>\n",
       "      <th>1</th>\n",
       "      <td>stephen smith is ranting that coach has recrui...</td>\n",
       "    </tr>\n",
       "    <tr>\n",
       "      <th>2</th>\n",
       "      <td>dean smith will make decision on whether to si...</td>\n",
       "    </tr>\n",
       "    <tr>\n",
       "      <th>3</th>\n",
       "      <td>rt james yorkston presents vashti bunyan audio...</td>\n",
       "    </tr>\n",
       "    <tr>\n",
       "      <th>4</th>\n",
       "      <td>aston villa boss dean smith nearing decision o...</td>\n",
       "    </tr>\n",
       "  </tbody>\n",
       "</table>\n",
       "</div>"
      ],
      "text/plain": [
       "                                                text\n",
       "0  rt dean smith nearing decision on whether to o...\n",
       "1  stephen smith is ranting that coach has recrui...\n",
       "2  dean smith will make decision on whether to si...\n",
       "3  rt james yorkston presents vashti bunyan audio...\n",
       "4  aston villa boss dean smith nearing decision o..."
      ]
     },
     "execution_count": 103,
     "metadata": {},
     "output_type": "execute_result"
    }
   ],
   "source": [
    "import csv\n",
    "import pandas as pd\n",
    "clean_tweet_texts = []\n",
    "with open('James_Smith.csv') as csvfile:\n",
    "    readCSV = csv.reader(csvfile, delimiter=',')\n",
    "    i = 0\n",
    "    next(readCSV)\n",
    "    for row in readCSV:\n",
    "        ++i\n",
    "        clean_tweet_texts.append(clean_tweet(str(row)))\n",
    "    print(\"Tweets cleaned.\")\n",
    "\n",
    "clean_df = pd.DataFrame(clean_tweet_texts,columns=['text'])\n",
    "clean_df.to_csv('James_Smith.csv',encoding='utf-8')\n",
    "csv = 'James_Smith.csv'\n",
    "temp = pd.read_csv(csv,index_col=0)\n",
    "temp.head()"
   ]
  },
  {
   "cell_type": "markdown",
   "metadata": {},
   "source": [
    "## South Dakota"
   ]
  },
  {
   "cell_type": "markdown",
   "metadata": {},
   "source": [
    "Kristi Noem"
   ]
  },
  {
   "cell_type": "code",
   "execution_count": null,
   "metadata": {},
   "outputs": [],
   "source": [
    "tw = Twitter()\n",
    "tw.tweets(keywords=\"kristi noem\", to_screen=False, stream=False)"
   ]
  },
  {
   "cell_type": "code",
   "execution_count": 105,
   "metadata": {},
   "outputs": [],
   "source": [
    "with open('/Users/niw0407/twitter-files/tweets.20181129-140056.json') as fp:\n",
    "    json2csv(fp, 'Kristi_Noem.csv', ['text'])"
   ]
  },
  {
   "cell_type": "code",
   "execution_count": 106,
   "metadata": {},
   "outputs": [
    {
     "name": "stdout",
     "output_type": "stream",
     "text": [
      "Tweets cleaned.\n"
     ]
    },
    {
     "data": {
      "text/html": [
       "<div>\n",
       "<style scoped>\n",
       "    .dataframe tbody tr th:only-of-type {\n",
       "        vertical-align: middle;\n",
       "    }\n",
       "\n",
       "    .dataframe tbody tr th {\n",
       "        vertical-align: top;\n",
       "    }\n",
       "\n",
       "    .dataframe thead th {\n",
       "        text-align: right;\n",
       "    }\n",
       "</style>\n",
       "<table border=\"1\" class=\"dataframe\">\n",
       "  <thead>\n",
       "    <tr style=\"text-align: right;\">\n",
       "      <th></th>\n",
       "      <th>text</th>\n",
       "    </tr>\n",
       "  </thead>\n",
       "  <tbody>\n",
       "    <tr>\n",
       "      <th>0</th>\n",
       "      <td>gov elect kristi noem said thursday she seeks ...</td>\n",
       "    </tr>\n",
       "    <tr>\n",
       "      <th>1</th>\n",
       "      <td>in the midterms southdakota elected their firs...</td>\n",
       "    </tr>\n",
       "    <tr>\n",
       "      <th>2</th>\n",
       "      <td>house representative kristi noem sd voted for ...</td>\n",
       "    </tr>\n",
       "    <tr>\n",
       "      <th>3</th>\n",
       "      <td>south dakota expects constitutional carry with...</td>\n",
       "    </tr>\n",
       "    <tr>\n",
       "      <th>4</th>\n",
       "      <td>rt young kim first korean american elected to ...</td>\n",
       "    </tr>\n",
       "  </tbody>\n",
       "</table>\n",
       "</div>"
      ],
      "text/plain": [
       "                                                text\n",
       "0  gov elect kristi noem said thursday she seeks ...\n",
       "1  in the midterms southdakota elected their firs...\n",
       "2  house representative kristi noem sd voted for ...\n",
       "3  south dakota expects constitutional carry with...\n",
       "4  rt young kim first korean american elected to ..."
      ]
     },
     "execution_count": 106,
     "metadata": {},
     "output_type": "execute_result"
    }
   ],
   "source": [
    "import csv\n",
    "import pandas as pd\n",
    "clean_tweet_texts = []\n",
    "with open('Kristi_Noem.csv') as csvfile:\n",
    "    readCSV = csv.reader(csvfile, delimiter=',')\n",
    "    i = 0\n",
    "    next(readCSV)\n",
    "    for row in readCSV:\n",
    "        ++i\n",
    "        clean_tweet_texts.append(clean_tweet(str(row)))\n",
    "    print(\"Tweets cleaned.\")\n",
    "\n",
    "clean_df = pd.DataFrame(clean_tweet_texts,columns=['text'])\n",
    "clean_df.to_csv('Kristi_Noem.csv',encoding='utf-8')\n",
    "csv = 'Kristi_Noem.csv'\n",
    "temp = pd.read_csv(csv,index_col=0)\n",
    "temp.head()"
   ]
  },
  {
   "cell_type": "markdown",
   "metadata": {},
   "source": [
    "Billie Sutton"
   ]
  },
  {
   "cell_type": "code",
   "execution_count": null,
   "metadata": {},
   "outputs": [],
   "source": [
    "tw.tweets(keywords=\"billie sutton\", to_screen=False, stream=False)"
   ]
  },
  {
   "cell_type": "code",
   "execution_count": 107,
   "metadata": {},
   "outputs": [],
   "source": [
    "with open('/Users/niw0407/twitter-files/tweets.20181129-140203.json') as fp:\n",
    "    json2csv(fp, 'Billie_Sutton.csv', ['text'])"
   ]
  },
  {
   "cell_type": "code",
   "execution_count": 108,
   "metadata": {},
   "outputs": [
    {
     "name": "stdout",
     "output_type": "stream",
     "text": [
      "Tweets cleaned.\n"
     ]
    },
    {
     "data": {
      "text/html": [
       "<div>\n",
       "<style scoped>\n",
       "    .dataframe tbody tr th:only-of-type {\n",
       "        vertical-align: middle;\n",
       "    }\n",
       "\n",
       "    .dataframe tbody tr th {\n",
       "        vertical-align: top;\n",
       "    }\n",
       "\n",
       "    .dataframe thead th {\n",
       "        text-align: right;\n",
       "    }\n",
       "</style>\n",
       "<table border=\"1\" class=\"dataframe\">\n",
       "  <thead>\n",
       "    <tr style=\"text-align: right;\">\n",
       "      <th></th>\n",
       "      <th>text</th>\n",
       "    </tr>\n",
       "  </thead>\n",
       "  <tbody>\n",
       "    <tr>\n",
       "      <th>0</th>\n",
       "      <td>in the midterms southdakota elected their firs...</td>\n",
       "    </tr>\n",
       "    <tr>\n",
       "      <th>1</th>\n",
       "      <td>rt there not one billie eilish song don like</td>\n",
       "    </tr>\n",
       "    <tr>\n",
       "      <th>2</th>\n",
       "      <td>beto rourke stacey abrams billie sutton these ...</td>\n",
       "    </tr>\n",
       "    <tr>\n",
       "      <th>3</th>\n",
       "      <td>see billie sutton seat went red</td>\n",
       "    </tr>\n",
       "    <tr>\n",
       "      <th>4</th>\n",
       "      <td>billie sutton any number of individuals leadin...</td>\n",
       "    </tr>\n",
       "  </tbody>\n",
       "</table>\n",
       "</div>"
      ],
      "text/plain": [
       "                                                text\n",
       "0  in the midterms southdakota elected their firs...\n",
       "1       rt there not one billie eilish song don like\n",
       "2  beto rourke stacey abrams billie sutton these ...\n",
       "3                    see billie sutton seat went red\n",
       "4  billie sutton any number of individuals leadin..."
      ]
     },
     "execution_count": 108,
     "metadata": {},
     "output_type": "execute_result"
    }
   ],
   "source": [
    "import csv\n",
    "import pandas as pd\n",
    "clean_tweet_texts = []\n",
    "with open('Billie_Sutton.csv') as csvfile:\n",
    "    readCSV = csv.reader(csvfile, delimiter=',')\n",
    "    i = 0\n",
    "    next(readCSV)\n",
    "    for row in readCSV:\n",
    "        ++i\n",
    "        clean_tweet_texts.append(clean_tweet(str(row)))\n",
    "    print(\"Tweets cleaned.\")\n",
    "\n",
    "clean_df = pd.DataFrame(clean_tweet_texts,columns=['text'])\n",
    "clean_df.to_csv('Billie_Sutton.csv',encoding='utf-8')\n",
    "csv = 'Billie_Sutton.csv'\n",
    "temp = pd.read_csv(csv,index_col=0)\n",
    "temp.head()"
   ]
  },
  {
   "cell_type": "markdown",
   "metadata": {},
   "source": [
    "## Tennessee"
   ]
  },
  {
   "cell_type": "markdown",
   "metadata": {},
   "source": [
    "Bill Lee"
   ]
  },
  {
   "cell_type": "code",
   "execution_count": null,
   "metadata": {},
   "outputs": [],
   "source": [
    "tw.tweets(keywords=\"bill lee\", to_screen=False, stream=False)"
   ]
  },
  {
   "cell_type": "code",
   "execution_count": 93,
   "metadata": {},
   "outputs": [],
   "source": [
    "with open('/Users/niw0407/twitter-files/tweets.20181129-140256.json') as fp:\n",
    "    json2csv(fp, 'Bill_Lee.csv', ['text'])"
   ]
  },
  {
   "cell_type": "code",
   "execution_count": 109,
   "metadata": {},
   "outputs": [
    {
     "name": "stdout",
     "output_type": "stream",
     "text": [
      "Tweets cleaned.\n"
     ]
    },
    {
     "data": {
      "text/html": [
       "<div>\n",
       "<style scoped>\n",
       "    .dataframe tbody tr th:only-of-type {\n",
       "        vertical-align: middle;\n",
       "    }\n",
       "\n",
       "    .dataframe tbody tr th {\n",
       "        vertical-align: top;\n",
       "    }\n",
       "\n",
       "    .dataframe thead th {\n",
       "        text-align: right;\n",
       "    }\n",
       "</style>\n",
       "<table border=\"1\" class=\"dataframe\">\n",
       "  <thead>\n",
       "    <tr style=\"text-align: right;\">\n",
       "      <th></th>\n",
       "      <th>text</th>\n",
       "    </tr>\n",
       "  </thead>\n",
       "  <tbody>\n",
       "    <tr>\n",
       "      <th>0</th>\n",
       "      <td>rt mike lee says mueller protection bill would...</td>\n",
       "    </tr>\n",
       "    <tr>\n",
       "      <th>1</th>\n",
       "      <td>michele kearney snuffysmith blog senate advanc...</td>\n",
       "    </tr>\n",
       "    <tr>\n",
       "      <th>2</th>\n",
       "      <td>rt amazing news the senate just voted in suppo...</td>\n",
       "    </tr>\n",
       "    <tr>\n",
       "      <th>3</th>\n",
       "      <td>rt amazing news the senate just voted in suppo...</td>\n",
       "    </tr>\n",
       "    <tr>\n",
       "      <th>4</th>\n",
       "      <td>rt amazing news the senate just voted in suppo...</td>\n",
       "    </tr>\n",
       "  </tbody>\n",
       "</table>\n",
       "</div>"
      ],
      "text/plain": [
       "                                                text\n",
       "0  rt mike lee says mueller protection bill would...\n",
       "1  michele kearney snuffysmith blog senate advanc...\n",
       "2  rt amazing news the senate just voted in suppo...\n",
       "3  rt amazing news the senate just voted in suppo...\n",
       "4  rt amazing news the senate just voted in suppo..."
      ]
     },
     "execution_count": 109,
     "metadata": {},
     "output_type": "execute_result"
    }
   ],
   "source": [
    "import csv\n",
    "import pandas as pd\n",
    "clean_tweet_texts = []\n",
    "with open('Bill_Lee.csv') as csvfile:\n",
    "    readCSV = csv.reader(csvfile, delimiter=',')\n",
    "    i = 0\n",
    "    next(readCSV)\n",
    "    for row in readCSV:\n",
    "        ++i\n",
    "        clean_tweet_texts.append(clean_tweet(str(row)))\n",
    "    print(\"Tweets cleaned.\")\n",
    "\n",
    "clean_df = pd.DataFrame(clean_tweet_texts,columns=['text'])\n",
    "clean_df.to_csv('Bill_Lee.csv',encoding='utf-8')\n",
    "csv = 'Bill_Lee.csv'\n",
    "temp = pd.read_csv(csv,index_col=0)\n",
    "temp.head()"
   ]
  },
  {
   "cell_type": "markdown",
   "metadata": {},
   "source": [
    "Karl Dean"
   ]
  },
  {
   "cell_type": "code",
   "execution_count": null,
   "metadata": {},
   "outputs": [],
   "source": [
    "tw.tweets(keywords=\"karl dean\", to_screen=False, stream=False)"
   ]
  },
  {
   "cell_type": "code",
   "execution_count": 95,
   "metadata": {},
   "outputs": [],
   "source": [
    "with open('/Users/niw0407/twitter-files/tweets.20181129-140357.json') as fp:\n",
    "    json2csv(fp, 'Karl_Dean.csv', ['text'])"
   ]
  },
  {
   "cell_type": "code",
   "execution_count": 110,
   "metadata": {},
   "outputs": [
    {
     "name": "stdout",
     "output_type": "stream",
     "text": [
      "Tweets cleaned.\n"
     ]
    },
    {
     "data": {
      "text/html": [
       "<div>\n",
       "<style scoped>\n",
       "    .dataframe tbody tr th:only-of-type {\n",
       "        vertical-align: middle;\n",
       "    }\n",
       "\n",
       "    .dataframe tbody tr th {\n",
       "        vertical-align: top;\n",
       "    }\n",
       "\n",
       "    .dataframe thead th {\n",
       "        text-align: right;\n",
       "    }\n",
       "</style>\n",
       "<table border=\"1\" class=\"dataframe\">\n",
       "  <thead>\n",
       "    <tr style=\"text-align: right;\">\n",
       "      <th></th>\n",
       "      <th>text</th>\n",
       "    </tr>\n",
       "  </thead>\n",
       "  <tbody>\n",
       "    <tr>\n",
       "      <th>0</th>\n",
       "      <td>NaN</td>\n",
       "    </tr>\n",
       "    <tr>\n",
       "      <th>1</th>\n",
       "      <td>gato barbieri with don cherry karl berger bo s...</td>\n",
       "    </tr>\n",
       "    <tr>\n",
       "      <th>2</th>\n",
       "      <td>coach guess you re re to young to remember geo...</td>\n",
       "    </tr>\n",
       "    <tr>\n",
       "      <th>3</th>\n",
       "      <td>seth rollins dean ambrose roman reigns aj styl...</td>\n",
       "    </tr>\n",
       "    <tr>\n",
       "      <th>4</th>\n",
       "      <td>and the same mike dean that refereed it last s...</td>\n",
       "    </tr>\n",
       "  </tbody>\n",
       "</table>\n",
       "</div>"
      ],
      "text/plain": [
       "                                                text\n",
       "0                                                NaN\n",
       "1  gato barbieri with don cherry karl berger bo s...\n",
       "2  coach guess you re re to young to remember geo...\n",
       "3  seth rollins dean ambrose roman reigns aj styl...\n",
       "4  and the same mike dean that refereed it last s..."
      ]
     },
     "execution_count": 110,
     "metadata": {},
     "output_type": "execute_result"
    }
   ],
   "source": [
    "import csv\n",
    "import pandas as pd\n",
    "clean_tweet_texts = []\n",
    "with open('Karl_Dean.csv') as csvfile:\n",
    "    readCSV = csv.reader(csvfile, delimiter=',')\n",
    "    i = 0\n",
    "    next(readCSV)\n",
    "    for row in readCSV:\n",
    "        ++i\n",
    "        clean_tweet_texts.append(clean_tweet(str(row)))\n",
    "    print(\"Tweets cleaned.\")\n",
    "\n",
    "clean_df = pd.DataFrame(clean_tweet_texts,columns=['text'])\n",
    "clean_df.to_csv('Karl_Dean.csv',encoding='utf-8')\n",
    "csv = 'Karl_Dean.csv'\n",
    "temp = pd.read_csv(csv,index_col=0)\n",
    "temp.head()"
   ]
  },
  {
   "cell_type": "markdown",
   "metadata": {},
   "source": [
    "## Texas"
   ]
  },
  {
   "cell_type": "markdown",
   "metadata": {},
   "source": [
    "Greg Abbott"
   ]
  },
  {
   "cell_type": "code",
   "execution_count": null,
   "metadata": {},
   "outputs": [],
   "source": [
    "tw.tweets(keywords=\"greg abbott\", to_screen=False, stream=False)"
   ]
  },
  {
   "cell_type": "code",
   "execution_count": 98,
   "metadata": {},
   "outputs": [],
   "source": [
    "with open('/Users/niw0407/twitter-files/tweets.20181129-140447.json') as fp:\n",
    "    json2csv(fp, 'Greg_Abbott.csv', ['text'])"
   ]
  },
  {
   "cell_type": "code",
   "execution_count": 111,
   "metadata": {},
   "outputs": [
    {
     "name": "stdout",
     "output_type": "stream",
     "text": [
      "Tweets cleaned.\n"
     ]
    },
    {
     "data": {
      "text/html": [
       "<div>\n",
       "<style scoped>\n",
       "    .dataframe tbody tr th:only-of-type {\n",
       "        vertical-align: middle;\n",
       "    }\n",
       "\n",
       "    .dataframe tbody tr th {\n",
       "        vertical-align: top;\n",
       "    }\n",
       "\n",
       "    .dataframe thead th {\n",
       "        text-align: right;\n",
       "    }\n",
       "</style>\n",
       "<table border=\"1\" class=\"dataframe\">\n",
       "  <thead>\n",
       "    <tr style=\"text-align: right;\">\n",
       "      <th></th>\n",
       "      <th>text</th>\n",
       "    </tr>\n",
       "  </thead>\n",
       "  <tbody>\n",
       "    <tr>\n",
       "      <th>0</th>\n",
       "      <td>words greg abbott</td>\n",
       "    </tr>\n",
       "    <tr>\n",
       "      <th>1</th>\n",
       "      <td>change the way car insurance companies handle ...</td>\n",
       "    </tr>\n",
       "    <tr>\n",
       "      <th>2</th>\n",
       "      <td>there is something wrong with the system break...</td>\n",
       "    </tr>\n",
       "    <tr>\n",
       "      <th>3</th>\n",
       "      <td>texas governor greg abbott and bmi announce op...</td>\n",
       "    </tr>\n",
       "    <tr>\n",
       "      <th>4</th>\n",
       "      <td>thanks to rick perry and greg abbott who turne...</td>\n",
       "    </tr>\n",
       "  </tbody>\n",
       "</table>\n",
       "</div>"
      ],
      "text/plain": [
       "                                                text\n",
       "0                                  words greg abbott\n",
       "1  change the way car insurance companies handle ...\n",
       "2  there is something wrong with the system break...\n",
       "3  texas governor greg abbott and bmi announce op...\n",
       "4  thanks to rick perry and greg abbott who turne..."
      ]
     },
     "execution_count": 111,
     "metadata": {},
     "output_type": "execute_result"
    }
   ],
   "source": [
    "import csv\n",
    "import pandas as pd\n",
    "clean_tweet_texts = []\n",
    "with open('Greg_Abbott.csv') as csvfile:\n",
    "    readCSV = csv.reader(csvfile, delimiter=',')\n",
    "    i = 0\n",
    "    next(readCSV)\n",
    "    for row in readCSV:\n",
    "        ++i\n",
    "        clean_tweet_texts.append(clean_tweet(str(row)))\n",
    "    print(\"Tweets cleaned.\")\n",
    "\n",
    "clean_df = pd.DataFrame(clean_tweet_texts,columns=['text'])\n",
    "clean_df.to_csv('Greg_Abbott.csv',encoding='utf-8')\n",
    "csv = 'Greg_Abbott.csv'\n",
    "temp = pd.read_csv(csv,index_col=0)\n",
    "temp.head()"
   ]
  },
  {
   "cell_type": "markdown",
   "metadata": {},
   "source": [
    "Lupe Valdez"
   ]
  },
  {
   "cell_type": "code",
   "execution_count": null,
   "metadata": {},
   "outputs": [],
   "source": [
    "tw.tweets(keywords=\"lupe valdez\", to_screen=False, stream=False)"
   ]
  },
  {
   "cell_type": "code",
   "execution_count": 100,
   "metadata": {},
   "outputs": [],
   "source": [
    "with open('/Users/niw0407/twitter-files/tweets.20181129-140605.json') as fp:\n",
    "    json2csv(fp, 'Lupe_Valdez.csv', ['text'])"
   ]
  },
  {
   "cell_type": "code",
   "execution_count": 112,
   "metadata": {},
   "outputs": [
    {
     "name": "stdout",
     "output_type": "stream",
     "text": [
      "Tweets cleaned.\n"
     ]
    },
    {
     "data": {
      "text/html": [
       "<div>\n",
       "<style scoped>\n",
       "    .dataframe tbody tr th:only-of-type {\n",
       "        vertical-align: middle;\n",
       "    }\n",
       "\n",
       "    .dataframe tbody tr th {\n",
       "        vertical-align: top;\n",
       "    }\n",
       "\n",
       "    .dataframe thead th {\n",
       "        text-align: right;\n",
       "    }\n",
       "</style>\n",
       "<table border=\"1\" class=\"dataframe\">\n",
       "  <thead>\n",
       "    <tr style=\"text-align: right;\">\n",
       "      <th></th>\n",
       "      <th>text</th>\n",
       "    </tr>\n",
       "  </thead>\n",
       "  <tbody>\n",
       "    <tr>\n",
       "      <th>0</th>\n",
       "      <td>the mark taper forum production of valley of t...</td>\n",
       "    </tr>\n",
       "    <tr>\n",
       "      <th>1</th>\n",
       "      <td>think lupe valdez hurt beto more than people c...</td>\n",
       "    </tr>\n",
       "    <tr>\n",
       "      <th>2</th>\n",
       "      <td>thank goodness that fuck wit lupe valdez didn ...</td>\n",
       "    </tr>\n",
       "    <tr>\n",
       "      <th>3</th>\n",
       "      <td>NaN</td>\n",
       "    </tr>\n",
       "    <tr>\n",
       "      <th>4</th>\n",
       "      <td>NaN</td>\n",
       "    </tr>\n",
       "  </tbody>\n",
       "</table>\n",
       "</div>"
      ],
      "text/plain": [
       "                                                text\n",
       "0  the mark taper forum production of valley of t...\n",
       "1  think lupe valdez hurt beto more than people c...\n",
       "2  thank goodness that fuck wit lupe valdez didn ...\n",
       "3                                                NaN\n",
       "4                                                NaN"
      ]
     },
     "execution_count": 112,
     "metadata": {},
     "output_type": "execute_result"
    }
   ],
   "source": [
    "import csv\n",
    "import pandas as pd\n",
    "clean_tweet_texts = []\n",
    "with open('Lupe_Valdez.csv') as csvfile:\n",
    "    readCSV = csv.reader(csvfile, delimiter=',')\n",
    "    i = 0\n",
    "    next(readCSV)\n",
    "    for row in readCSV:\n",
    "        ++i\n",
    "        clean_tweet_texts.append(clean_tweet(str(row)))\n",
    "    print(\"Tweets cleaned.\")\n",
    "\n",
    "clean_df = pd.DataFrame(clean_tweet_texts,columns=['text'])\n",
    "clean_df.to_csv('Lupe_Valdez.csv',encoding='utf-8')\n",
    "csv = 'Lupe_Valdez.csv'\n",
    "temp = pd.read_csv(csv,index_col=0)\n",
    "temp.head()"
   ]
  },
  {
   "cell_type": "markdown",
   "metadata": {},
   "source": [
    "## Vermont"
   ]
  },
  {
   "cell_type": "markdown",
   "metadata": {},
   "source": [
    "Phil Scott"
   ]
  },
  {
   "cell_type": "code",
   "execution_count": null,
   "metadata": {},
   "outputs": [],
   "source": [
    "tw.tweets(keywords=\"phil scott\", to_screen=False, stream=False)"
   ]
  },
  {
   "cell_type": "code",
   "execution_count": 102,
   "metadata": {},
   "outputs": [],
   "source": [
    "with open('/Users/niw0407/twitter-files/tweets.20181129-140700.json') as fp:\n",
    "    json2csv(fp, 'Phil_Scott.csv', ['text'])"
   ]
  },
  {
   "cell_type": "code",
   "execution_count": 113,
   "metadata": {},
   "outputs": [
    {
     "name": "stdout",
     "output_type": "stream",
     "text": [
      "Tweets cleaned.\n"
     ]
    },
    {
     "data": {
      "text/html": [
       "<div>\n",
       "<style scoped>\n",
       "    .dataframe tbody tr th:only-of-type {\n",
       "        vertical-align: middle;\n",
       "    }\n",
       "\n",
       "    .dataframe tbody tr th {\n",
       "        vertical-align: top;\n",
       "    }\n",
       "\n",
       "    .dataframe thead th {\n",
       "        text-align: right;\n",
       "    }\n",
       "</style>\n",
       "<table border=\"1\" class=\"dataframe\">\n",
       "  <thead>\n",
       "    <tr style=\"text-align: right;\">\n",
       "      <th></th>\n",
       "      <th>text</th>\n",
       "    </tr>\n",
       "  </thead>\n",
       "  <tbody>\n",
       "    <tr>\n",
       "      <th>0</th>\n",
       "      <td>laugh all you want but remember that genesis h...</td>\n",
       "    </tr>\n",
       "    <tr>\n",
       "      <th>1</th>\n",
       "      <td>rt part of the series on the pac posts in the ...</td>\n",
       "    </tr>\n",
       "    <tr>\n",
       "      <th>2</th>\n",
       "      <td>rt before there was tessa scott there was nish...</td>\n",
       "    </tr>\n",
       "    <tr>\n",
       "      <th>3</th>\n",
       "      <td>scott desperately trying to bleach his skin</td>\n",
       "    </tr>\n",
       "    <tr>\n",
       "      <th>4</th>\n",
       "      <td>rt im drawing dan and phil vs the world poster...</td>\n",
       "    </tr>\n",
       "  </tbody>\n",
       "</table>\n",
       "</div>"
      ],
      "text/plain": [
       "                                                text\n",
       "0  laugh all you want but remember that genesis h...\n",
       "1  rt part of the series on the pac posts in the ...\n",
       "2  rt before there was tessa scott there was nish...\n",
       "3        scott desperately trying to bleach his skin\n",
       "4  rt im drawing dan and phil vs the world poster..."
      ]
     },
     "execution_count": 113,
     "metadata": {},
     "output_type": "execute_result"
    }
   ],
   "source": [
    "import csv\n",
    "import pandas as pd\n",
    "clean_tweet_texts = []\n",
    "with open('Phil_Scott.csv') as csvfile:\n",
    "    readCSV = csv.reader(csvfile, delimiter=',')\n",
    "    i = 0\n",
    "    next(readCSV)\n",
    "    for row in readCSV:\n",
    "        ++i\n",
    "        clean_tweet_texts.append(clean_tweet(str(row)))\n",
    "    print(\"Tweets cleaned.\")\n",
    "\n",
    "clean_df = pd.DataFrame(clean_tweet_texts,columns=['text'])\n",
    "clean_df.to_csv('Phil_Scott.csv',encoding='utf-8')\n",
    "csv = 'Phil_Scott.csv'\n",
    "temp = pd.read_csv(csv,index_col=0)\n",
    "temp.head()"
   ]
  },
  {
   "cell_type": "markdown",
   "metadata": {},
   "source": [
    "Christine Hallquist"
   ]
  },
  {
   "cell_type": "code",
   "execution_count": null,
   "metadata": {},
   "outputs": [],
   "source": [
    "tw.tweets(keywords=\"christine hallquist\", to_screen=False, stream=False)"
   ]
  },
  {
   "cell_type": "code",
   "execution_count": 104,
   "metadata": {},
   "outputs": [],
   "source": [
    "with open('/Users/niw0407/twitter-files/tweets.20181129-140807.json') as fp:\n",
    "    json2csv(fp, 'Christine_Hallquist.csv', ['text'])"
   ]
  },
  {
   "cell_type": "code",
   "execution_count": 114,
   "metadata": {},
   "outputs": [
    {
     "name": "stdout",
     "output_type": "stream",
     "text": [
      "Tweets cleaned.\n"
     ]
    },
    {
     "data": {
      "text/html": [
       "<div>\n",
       "<style scoped>\n",
       "    .dataframe tbody tr th:only-of-type {\n",
       "        vertical-align: middle;\n",
       "    }\n",
       "\n",
       "    .dataframe tbody tr th {\n",
       "        vertical-align: top;\n",
       "    }\n",
       "\n",
       "    .dataframe thead th {\n",
       "        text-align: right;\n",
       "    }\n",
       "</style>\n",
       "<table border=\"1\" class=\"dataframe\">\n",
       "  <thead>\n",
       "    <tr style=\"text-align: right;\">\n",
       "      <th></th>\n",
       "      <th>text</th>\n",
       "    </tr>\n",
       "  </thead>\n",
       "  <tbody>\n",
       "    <tr>\n",
       "      <th>0</th>\n",
       "      <td>when saw the documentary for the first time it...</td>\n",
       "    </tr>\n",
       "    <tr>\n",
       "      <th>1</th>\n",
       "      <td>randy bryce aka ironstache christine hallquist...</td>\n",
       "    </tr>\n",
       "    <tr>\n",
       "      <th>2</th>\n",
       "      <td>no will continue ben jealous christine hallqui...</td>\n",
       "    </tr>\n",
       "    <tr>\n",
       "      <th>3</th>\n",
       "      <td>christine hallquist art of transgender politic...</td>\n",
       "    </tr>\n",
       "    <tr>\n",
       "      <th>4</th>\n",
       "      <td>love to shop but now that can do it freely it ...</td>\n",
       "    </tr>\n",
       "  </tbody>\n",
       "</table>\n",
       "</div>"
      ],
      "text/plain": [
       "                                                text\n",
       "0  when saw the documentary for the first time it...\n",
       "1  randy bryce aka ironstache christine hallquist...\n",
       "2  no will continue ben jealous christine hallqui...\n",
       "3  christine hallquist art of transgender politic...\n",
       "4  love to shop but now that can do it freely it ..."
      ]
     },
     "execution_count": 114,
     "metadata": {},
     "output_type": "execute_result"
    }
   ],
   "source": [
    "import csv\n",
    "import pandas as pd\n",
    "clean_tweet_texts = []\n",
    "with open('Christine_Hallquist.csv') as csvfile:\n",
    "    readCSV = csv.reader(csvfile, delimiter=',')\n",
    "    i = 0\n",
    "    next(readCSV)\n",
    "    for row in readCSV:\n",
    "        ++i\n",
    "        clean_tweet_texts.append(clean_tweet(str(row)))\n",
    "    print(\"Tweets cleaned.\")\n",
    "\n",
    "clean_df = pd.DataFrame(clean_tweet_texts,columns=['text'])\n",
    "clean_df.to_csv('Christine_Hallquist.csv',encoding='utf-8')\n",
    "csv = 'Christine_Hallquist.csv'\n",
    "temp = pd.read_csv(csv,index_col=0)\n",
    "temp.head()"
   ]
  },
  {
   "cell_type": "markdown",
   "metadata": {},
   "source": [
    "## Wisconsin "
   ]
  },
  {
   "cell_type": "markdown",
   "metadata": {},
   "source": [
    "Tony Evers"
   ]
  },
  {
   "cell_type": "code",
   "execution_count": null,
   "metadata": {},
   "outputs": [],
   "source": [
    "tw.tweets(keywords=\"tony evers\", to_screen=False, stream=False)"
   ]
  },
  {
   "cell_type": "code",
   "execution_count": 106,
   "metadata": {},
   "outputs": [],
   "source": [
    "with open('/Users/niw0407/twitter-files/tweets.20181129-140906.json') as fp:\n",
    "    json2csv(fp, 'Tony_Evers.csv', ['text'])"
   ]
  },
  {
   "cell_type": "code",
   "execution_count": 115,
   "metadata": {},
   "outputs": [
    {
     "name": "stdout",
     "output_type": "stream",
     "text": [
      "Tweets cleaned.\n"
     ]
    },
    {
     "data": {
      "text/html": [
       "<div>\n",
       "<style scoped>\n",
       "    .dataframe tbody tr th:only-of-type {\n",
       "        vertical-align: middle;\n",
       "    }\n",
       "\n",
       "    .dataframe tbody tr th {\n",
       "        vertical-align: top;\n",
       "    }\n",
       "\n",
       "    .dataframe thead th {\n",
       "        text-align: right;\n",
       "    }\n",
       "</style>\n",
       "<table border=\"1\" class=\"dataframe\">\n",
       "  <thead>\n",
       "    <tr style=\"text-align: right;\">\n",
       "      <th></th>\n",
       "      <th>text</th>\n",
       "    </tr>\n",
       "  </thead>\n",
       "  <tbody>\n",
       "    <tr>\n",
       "      <th>0</th>\n",
       "      <td>rt wow wisconsin republicans may be considerin...</td>\n",
       "    </tr>\n",
       "    <tr>\n",
       "      <th>1</th>\n",
       "      <td>rt instead of being sore losers republicans in...</td>\n",
       "    </tr>\n",
       "    <tr>\n",
       "      <th>2</th>\n",
       "      <td>rt instead of being sore losers republicans in...</td>\n",
       "    </tr>\n",
       "    <tr>\n",
       "      <th>3</th>\n",
       "      <td>rt wow wisconsin republicans may be considerin...</td>\n",
       "    </tr>\n",
       "    <tr>\n",
       "      <th>4</th>\n",
       "      <td>rt look alive wisconsin democrats nyou success...</td>\n",
       "    </tr>\n",
       "  </tbody>\n",
       "</table>\n",
       "</div>"
      ],
      "text/plain": [
       "                                                text\n",
       "0  rt wow wisconsin republicans may be considerin...\n",
       "1  rt instead of being sore losers republicans in...\n",
       "2  rt instead of being sore losers republicans in...\n",
       "3  rt wow wisconsin republicans may be considerin...\n",
       "4  rt look alive wisconsin democrats nyou success..."
      ]
     },
     "execution_count": 115,
     "metadata": {},
     "output_type": "execute_result"
    }
   ],
   "source": [
    "import csv\n",
    "import pandas as pd\n",
    "clean_tweet_texts = []\n",
    "with open('Tony_Evers.csv') as csvfile:\n",
    "    readCSV = csv.reader(csvfile, delimiter=',')\n",
    "    i = 0\n",
    "    next(readCSV)\n",
    "    for row in readCSV:\n",
    "        ++i\n",
    "        clean_tweet_texts.append(clean_tweet(str(row)))\n",
    "    print(\"Tweets cleaned.\")\n",
    "\n",
    "clean_df = pd.DataFrame(clean_tweet_texts,columns=['text'])\n",
    "clean_df.to_csv('Tony_Evers.csv',encoding='utf-8')\n",
    "csv = 'Tony_Evers.csv'\n",
    "temp = pd.read_csv(csv,index_col=0)\n",
    "temp.head()"
   ]
  },
  {
   "cell_type": "markdown",
   "metadata": {},
   "source": [
    "Scott Walker"
   ]
  },
  {
   "cell_type": "code",
   "execution_count": null,
   "metadata": {},
   "outputs": [],
   "source": [
    "tw.tweets(keywords=\"scott walker\", to_screen=False, stream=False)"
   ]
  },
  {
   "cell_type": "code",
   "execution_count": 108,
   "metadata": {},
   "outputs": [],
   "source": [
    "with open('/Users/niw0407/twitter-files/tweets.20181129-140945.json') as fp:\n",
    "    json2csv(fp, 'Scott_Walker.csv', ['text'])"
   ]
  },
  {
   "cell_type": "code",
   "execution_count": 116,
   "metadata": {},
   "outputs": [
    {
     "name": "stdout",
     "output_type": "stream",
     "text": [
      "Tweets cleaned.\n"
     ]
    },
    {
     "data": {
      "text/html": [
       "<div>\n",
       "<style scoped>\n",
       "    .dataframe tbody tr th:only-of-type {\n",
       "        vertical-align: middle;\n",
       "    }\n",
       "\n",
       "    .dataframe tbody tr th {\n",
       "        vertical-align: top;\n",
       "    }\n",
       "\n",
       "    .dataframe thead th {\n",
       "        text-align: right;\n",
       "    }\n",
       "</style>\n",
       "<table border=\"1\" class=\"dataframe\">\n",
       "  <thead>\n",
       "    <tr style=\"text-align: right;\">\n",
       "      <th></th>\n",
       "      <th>text</th>\n",
       "    </tr>\n",
       "  </thead>\n",
       "  <tbody>\n",
       "    <tr>\n",
       "      <th>0</th>\n",
       "      <td>rt be aware wisconsin republicans attempting t...</td>\n",
       "    </tr>\n",
       "    <tr>\n",
       "      <th>1</th>\n",
       "      <td>rt be aware wisconsin republicans attempting t...</td>\n",
       "    </tr>\n",
       "    <tr>\n",
       "      <th>2</th>\n",
       "      <td>rt be aware wisconsin republicans attempting t...</td>\n",
       "    </tr>\n",
       "    <tr>\n",
       "      <th>3</th>\n",
       "      <td>rt be aware wisconsin republicans attempting t...</td>\n",
       "    </tr>\n",
       "    <tr>\n",
       "      <th>4</th>\n",
       "      <td>rt be aware wisconsin republicans attempting t...</td>\n",
       "    </tr>\n",
       "  </tbody>\n",
       "</table>\n",
       "</div>"
      ],
      "text/plain": [
       "                                                text\n",
       "0  rt be aware wisconsin republicans attempting t...\n",
       "1  rt be aware wisconsin republicans attempting t...\n",
       "2  rt be aware wisconsin republicans attempting t...\n",
       "3  rt be aware wisconsin republicans attempting t...\n",
       "4  rt be aware wisconsin republicans attempting t..."
      ]
     },
     "execution_count": 116,
     "metadata": {},
     "output_type": "execute_result"
    }
   ],
   "source": [
    "import csv\n",
    "import pandas as pd\n",
    "clean_tweet_texts = []\n",
    "with open('Scott_Walker.csv') as csvfile:\n",
    "    readCSV = csv.reader(csvfile, delimiter=',')\n",
    "    i = 0\n",
    "    next(readCSV)\n",
    "    for row in readCSV:\n",
    "        ++i\n",
    "        clean_tweet_texts.append(clean_tweet(str(row)))\n",
    "    print(\"Tweets cleaned.\")\n",
    "\n",
    "clean_df = pd.DataFrame(clean_tweet_texts,columns=['text'])\n",
    "clean_df.to_csv('Scott_Walker.csv',encoding='utf-8')\n",
    "csv = 'Scott_Walker.csv'\n",
    "temp = pd.read_csv(csv,index_col=0)\n",
    "temp.head()"
   ]
  },
  {
   "cell_type": "markdown",
   "metadata": {},
   "source": [
    "## Wyoming"
   ]
  },
  {
   "cell_type": "markdown",
   "metadata": {},
   "source": [
    "Mark Gordon"
   ]
  },
  {
   "cell_type": "code",
   "execution_count": null,
   "metadata": {},
   "outputs": [],
   "source": [
    "tw.tweets(keywords=\"mark gordon\", to_screen=False, stream=False)"
   ]
  },
  {
   "cell_type": "code",
   "execution_count": 110,
   "metadata": {},
   "outputs": [],
   "source": [
    "with open('/Users/niw0407/twitter-files/tweets.20181129-141029.json') as fp:\n",
    "    json2csv(fp, 'Mark_Gordon.csv', ['text'])"
   ]
  },
  {
   "cell_type": "code",
   "execution_count": 117,
   "metadata": {},
   "outputs": [
    {
     "name": "stdout",
     "output_type": "stream",
     "text": [
      "Tweets cleaned.\n"
     ]
    },
    {
     "data": {
      "text/html": [
       "<div>\n",
       "<style scoped>\n",
       "    .dataframe tbody tr th:only-of-type {\n",
       "        vertical-align: middle;\n",
       "    }\n",
       "\n",
       "    .dataframe tbody tr th {\n",
       "        vertical-align: top;\n",
       "    }\n",
       "\n",
       "    .dataframe thead th {\n",
       "        text-align: right;\n",
       "    }\n",
       "</style>\n",
       "<table border=\"1\" class=\"dataframe\">\n",
       "  <thead>\n",
       "    <tr style=\"text-align: right;\">\n",
       "      <th></th>\n",
       "      <th>text</th>\n",
       "    </tr>\n",
       "  </thead>\n",
       "  <tbody>\n",
       "    <tr>\n",
       "      <th>0</th>\n",
       "      <td>should be absolutely ashamed that their police...</td>\n",
       "    </tr>\n",
       "    <tr>\n",
       "      <th>1</th>\n",
       "      <td>rt breaking sources tell abc news that trump t...</td>\n",
       "    </tr>\n",
       "    <tr>\n",
       "      <th>2</th>\n",
       "      <td>remember mark martin had his steering catch an...</td>\n",
       "    </tr>\n",
       "    <tr>\n",
       "      <th>3</th>\n",
       "      <td>good point mark</td>\n",
       "    </tr>\n",
       "    <tr>\n",
       "      <th>4</th>\n",
       "      <td>rt long before the brexit vote britain had bec...</td>\n",
       "    </tr>\n",
       "  </tbody>\n",
       "</table>\n",
       "</div>"
      ],
      "text/plain": [
       "                                                text\n",
       "0  should be absolutely ashamed that their police...\n",
       "1  rt breaking sources tell abc news that trump t...\n",
       "2  remember mark martin had his steering catch an...\n",
       "3                                    good point mark\n",
       "4  rt long before the brexit vote britain had bec..."
      ]
     },
     "execution_count": 117,
     "metadata": {},
     "output_type": "execute_result"
    }
   ],
   "source": [
    "import csv\n",
    "import pandas as pd\n",
    "clean_tweet_texts = []\n",
    "with open('Mark_Gordon.csv') as csvfile:\n",
    "    readCSV = csv.reader(csvfile, delimiter=',')\n",
    "    i = 0\n",
    "    next(readCSV)\n",
    "    for row in readCSV:\n",
    "        ++i\n",
    "        clean_tweet_texts.append(clean_tweet(str(row)))\n",
    "    print(\"Tweets cleaned.\")\n",
    "\n",
    "clean_df = pd.DataFrame(clean_tweet_texts,columns=['text'])\n",
    "clean_df.to_csv('Mark_Gordon.csv',encoding='utf-8')\n",
    "csv = 'Mark_Gordon.csv'\n",
    "temp = pd.read_csv(csv,index_col=0)\n",
    "temp.head()"
   ]
  },
  {
   "cell_type": "markdown",
   "metadata": {},
   "source": [
    "Mary Throne"
   ]
  },
  {
   "cell_type": "code",
   "execution_count": null,
   "metadata": {},
   "outputs": [],
   "source": [
    "tw.tweets(keywords=\"mary throne\", to_screen=False, stream=False)"
   ]
  },
  {
   "cell_type": "code",
   "execution_count": 112,
   "metadata": {},
   "outputs": [],
   "source": [
    "with open('/Users/niw0407/twitter-files/tweets.20181129-141122.json') as fp:\n",
    "    json2csv(fp, 'Mary_Throne.csv', ['text'])"
   ]
  },
  {
   "cell_type": "code",
   "execution_count": 118,
   "metadata": {},
   "outputs": [
    {
     "name": "stdout",
     "output_type": "stream",
     "text": [
      "Tweets cleaned.\n"
     ]
    },
    {
     "data": {
      "text/html": [
       "<div>\n",
       "<style scoped>\n",
       "    .dataframe tbody tr th:only-of-type {\n",
       "        vertical-align: middle;\n",
       "    }\n",
       "\n",
       "    .dataframe tbody tr th {\n",
       "        vertical-align: top;\n",
       "    }\n",
       "\n",
       "    .dataframe thead th {\n",
       "        text-align: right;\n",
       "    }\n",
       "</style>\n",
       "<table border=\"1\" class=\"dataframe\">\n",
       "  <thead>\n",
       "    <tr style=\"text-align: right;\">\n",
       "      <th></th>\n",
       "      <th>text</th>\n",
       "    </tr>\n",
       "  </thead>\n",
       "  <tbody>\n",
       "    <tr>\n",
       "      <th>0</th>\n",
       "      <td>chicago watch the throne with mary queen of sc...</td>\n",
       "    </tr>\n",
       "    <tr>\n",
       "      <th>1</th>\n",
       "      <td>rt annual reminder ndid mary know nyes she kne...</td>\n",
       "    </tr>\n",
       "    <tr>\n",
       "      <th>2</th>\n",
       "      <td>rt speaking in love truth njesus christ was ou...</td>\n",
       "    </tr>\n",
       "    <tr>\n",
       "      <th>3</th>\n",
       "      <td>rt speaking in love truth njesus christ was ou...</td>\n",
       "    </tr>\n",
       "    <tr>\n",
       "      <th>4</th>\n",
       "      <td>chicago watch the throne with mary queen of sc...</td>\n",
       "    </tr>\n",
       "  </tbody>\n",
       "</table>\n",
       "</div>"
      ],
      "text/plain": [
       "                                                text\n",
       "0  chicago watch the throne with mary queen of sc...\n",
       "1  rt annual reminder ndid mary know nyes she kne...\n",
       "2  rt speaking in love truth njesus christ was ou...\n",
       "3  rt speaking in love truth njesus christ was ou...\n",
       "4  chicago watch the throne with mary queen of sc..."
      ]
     },
     "execution_count": 118,
     "metadata": {},
     "output_type": "execute_result"
    }
   ],
   "source": [
    "import csv\n",
    "import pandas as pd\n",
    "clean_tweet_texts = []\n",
    "with open('Mary_Throne.csv') as csvfile:\n",
    "    readCSV = csv.reader(csvfile, delimiter=',')\n",
    "    i = 0\n",
    "    next(readCSV)\n",
    "    for row in readCSV:\n",
    "        ++i\n",
    "        clean_tweet_texts.append(clean_tweet(str(row)))\n",
    "    print(\"Tweets cleaned.\")\n",
    "\n",
    "clean_df = pd.DataFrame(clean_tweet_texts,columns=['text'])\n",
    "clean_df.to_csv('Mary_Throne.csv',encoding='utf-8')\n",
    "csv = 'Mary_Throne.csv'\n",
    "temp = pd.read_csv(csv,index_col=0)\n",
    "temp.head()"
   ]
  },
  {
   "cell_type": "markdown",
   "metadata": {},
   "source": [
    "# Section 3: Sentiment Analysis of Each Tweet (Angie)"
   ]
  },
  {
   "cell_type": "markdown",
   "metadata": {},
   "source": [
    "NLTK Vader Sentiment Analyzer"
   ]
  },
  {
   "cell_type": "code",
   "execution_count": null,
   "metadata": {},
   "outputs": [],
   "source": [
    "@author Angelina Urena\n",
    "\n",
    "import csv\n",
    "\n",
    "import nltk\n",
    "from nltk.sentiment.vader import SentimentIntensityAnalyzer\n",
    "with open('FirstName_LastName.csv') as csv_file:\n",
    "    csv_reader = csv.reader(csv_file, delimiter=',')\n",
    "    line_count = 0\n",
    "    file = open(\"sample.txt\",\"w\")\n",
    "    for row in csv_reader:\n",
    "        if line_count == 0:\n",
    "            print('this is the file')\n",
    "            line_count += 1\n",
    "        else:\n",
    "            sid=SentimentIntensityAnalyzer()\n",
    "            ss=sid.polarity_scores(row[0])\n",
    "            for k in ss:\n",
    "                file.write(repr(ss[k]))\n",
    "                file.write(\" \")\n",
    "                line_count += 1\n",
    "    file.close()"
   ]
  },
  {
   "cell_type": "markdown",
   "metadata": {},
   "source": [
    "TextBlob's Sentiment Analyzer"
   ]
  },
  {
   "cell_type": "code",
   "execution_count": null,
   "metadata": {},
   "outputs": [],
   "source": [
    "@author Angelina Urena\n",
    "import csv\n",
    "from textblob import TextBlob\n",
    "\n",
    "with open('FirstName_LastName.csv', 'r') as csvfile:\n",
    "    rows = csv.reader(csvfile)\n",
    "    for row in rows:\n",
    "        sentence = row[1]\n",
    "        blob = TextBlob(sentence) \n",
    "        print blob.sentiment"
   ]
  },
  {
   "cell_type": "markdown",
   "metadata": {},
   "source": [
    "Watson's Sentiment Analyzer"
   ]
  },
  {
   "cell_type": "code",
   "execution_count": null,
   "metadata": {},
   "outputs": [],
   "source": [
    "@author Angelina Urena \n",
    "\n",
    "import requests\n",
    "import json\n",
    "\n",
    "def analyze_tone(text):\n",
    "    username = 'your username'\n",
    "    password = 'your password'\n",
    "    watsonUrl = 'https://gateway.watsonplatform.net/tone-analyzer-beta/api/v3/tone?version=2016-05-18'\n",
    "    headers = {\"content-type\": \"text/plain\"}\n",
    "    data = text\n",
    "    try:\n",
    "        r = requests.post(watsonUrl, auth=(username,password),headers = headers,\n",
    "         data=data)\n",
    "        return r.text\n",
    "    except:\n",
    "        return False\n",
    "\n",
    "def results(data):\n",
    "    data = json.loads(str(data))\n",
    "    print(data)\n",
    "    for i in data['document_tone']['tone_categories']:\n",
    "        print(i['category_name'])\n",
    "        print(\"-\" * len(i['category_name']))\n",
    "        for j in i['tones']:\n",
    "            print(j['tone_name'].ljust(20),(str(round(j['score'] * 100,1)) + \"%\").rjust(10))\n",
    "        print()\n",
    "    print()\n",
    "\n",
    "def main():\n",
    "    data = input(\"Enter text:\")\n",
    "    if len(data) >= 1:\n",
    "        if data == 'q'.lower():\n",
    "            exit\n",
    "        results = analyze_tone(data)\n",
    "        if results != False:\n",
    "            results(results)\n",
    "            exit\n",
    "        else:\n",
    "            print(\"Error\")\n",
    "\n",
    "main()"
   ]
  },
  {
   "cell_type": "markdown",
   "metadata": {},
   "source": [
    " Finding the total sentiment (JAVA)"
   ]
  },
  {
   "cell_type": "code",
   "execution_count": null,
   "metadata": {},
   "outputs": [],
   "source": [
    "import java.io.File;\n",
    "import java.io.FileNotFoundException;\n",
    "import java.util.Scanner;\n",
    "import java.io.IOException;\n",
    "\n",
    "public class Sum{\n",
    "    public static void main(String [] args) throws IOException{\n",
    "        File file = new File(\"sample.txt\");\n",
    "        Scanner sc = new Scanner(file);\n",
    "        int i=0;\n",
    "        float sum=0;\n",
    "        while(sc.hasNext()){\n",
    "            i++;\n",
    "            String s=sc.next();\n",
    "            if(i==4){\n",
    "                i=0;\n",
    "                sum+=Float.parseFloat(s);\n",
    "            }\n",
    "        }\n",
    "        System.out.println(\"sum: \"+sum);\n",
    "    }\n"
   ]
  },
  {
   "cell_type": "markdown",
   "metadata": {},
   "source": [
    "# Section 4: Getting Positive Tweets to Create Voting Percentages (Josie)"
   ]
  },
  {
   "cell_type": "markdown",
   "metadata": {},
   "source": [
    "NLTK"
   ]
  },
  {
   "cell_type": "code",
   "execution_count": null,
   "metadata": {},
   "outputs": [],
   "source": [
    "#!/usr/bin/env python3\n",
    "# -*- coding: utf-8 -*-\n",
    "\"\"\"\n",
    "Created on Sat Dec 15 19:24:06 2018\n",
    "\n",
    "@author: josiewilliams\n",
    "\"\"\"\n",
    "import csv\n",
    "\n",
    "import nltk\n",
    "from nltk.sentiment.vader import SentimentIntensityAnalyzer\n",
    "\n",
    "with open('FirstName_LastName.csv') as csv_file:\n",
    "    csv_reader = csv.reader(csv_file, delimiter=',')\n",
    "    line_count = 0\n",
    "    positive_count = 0\n",
    "    \n",
    "    file = open(\"sample.txt\",\"w\")\n",
    "    for row in csv_reader:\n",
    "        if line_count == 0:\n",
    "            print('this is file')\n",
    "            line_count += 1\n",
    "        else:\n",
    "            sid=SentimentIntensityAnalyzer()\n",
    "            ss=sid.polarity_scores(row[0])\n",
    "            #print(row[1])\n",
    "            for k in ss:\n",
    "                #print(k,ss[k])\n",
    "                if (float(repr(ss[k])) > 0.0):\n",
    "                    positive_count += 1\n",
    "                    #file.write(repr(ss[k]))\n",
    "                    #file.write(\" \")\n",
    "                line_count += 1\n",
    "        #print(f'Processed {line_count} lines.')\n",
    "    percentage = positive_count/line_count\n",
    "    file.write(str(positive_count) + \" / \" + str(line_count))\n",
    "    \n",
    "    file.close()"
   ]
  },
  {
   "cell_type": "markdown",
   "metadata": {},
   "source": [
    "TextBlob"
   ]
  },
  {
   "cell_type": "code",
   "execution_count": null,
   "metadata": {},
   "outputs": [],
   "source": [
    "\"\"\"\n",
    "Created on Sat Dec 15 19:24:06 2018\n",
    "\n",
    "@author: josiewilliams\n",
    "\"\"\"\n",
    "import csv\n",
    "from textblob import TextBlob\n",
    "\n",
    "positive_count = 0;\n",
    "\n",
    "with open('FirstName_LastName.csv', 'r') as csvfile:\n",
    "    rows = csv.reader(csvfile)\n",
    "    for row in rows:\n",
    "        sentence = row[1]\n",
    "        blob = TextBlob(sentence) \n",
    "        sentiment = blob.sentiment\n",
    "        if (float(sentiment) > 0.0):\n",
    "            positive_count += 1\n",
    "    print positive_count"
   ]
  },
  {
   "cell_type": "markdown",
   "metadata": {},
   "source": [
    "Watson"
   ]
  },
  {
   "cell_type": "code",
   "execution_count": null,
   "metadata": {},
   "outputs": [],
   "source": [
    "\"\"\"\n",
    "Created on Sat Dec 15 19:24:06 2018\n",
    "\n",
    "@author: josiewilliams\n",
    "\"\"\"\n",
    "\n",
    "import requests\n",
    "import json\n",
    "\n",
    "def analyze_tone(text):\n",
    "    username = 'your username'\n",
    "    password = 'your password'\n",
    "    watsonUrl = 'https://gateway.watsonplatform.net/tone-analyzer-beta/api/v3/tone?version=2016-05-18'\n",
    "    headers = {\"content-type\": \"text/plain\"}\n",
    "    data = text\n",
    "    try:\n",
    "        r = requests.post(watsonUrl, auth=(username,password),headers = headers,\n",
    "         data=data)\n",
    "        return r.text\n",
    "    except:\n",
    "        return False\n",
    "\n",
    "def results(data):\n",
    "    data = json.loads(str(data))\n",
    "    print(data)\n",
    "    for i in data['document_tone']['tone_categories']:\n",
    "        print(i['category_name'])\n",
    "        print(\"-\" * len(i['category_name']))\n",
    "        for j in i['tones']:\n",
    "            print(j['tone_name'].ljust(20),(str(round(j['score'] * 100,1)) + \"%\").rjust(10))\n",
    "        print()\n",
    "    print()\n",
    "\n",
    "def main():\n",
    "    data = input(\"Enter text:\")\n",
    "    if len(data) >= 1:\n",
    "        if data == 'q'.lower():\n",
    "            exit\n",
    "        results = analyze_tone(data)\n",
    "        if results != False:\n",
    "            results(results)\n",
    "            exit\n",
    "        else:\n",
    "            print(\"Error\")\n",
    "\n",
    "main()"
   ]
  }
 ],
 "metadata": {
  "kernelspec": {
   "display_name": "Python 3",
   "language": "python",
   "name": "python3"
  },
  "language_info": {
   "codemirror_mode": {
    "name": "ipython",
    "version": 3
   },
   "file_extension": ".py",
   "mimetype": "text/x-python",
   "name": "python",
   "nbconvert_exporter": "python",
   "pygments_lexer": "ipython3",
   "version": "3.6.5"
  }
 },
 "nbformat": 4,
 "nbformat_minor": 2
}
